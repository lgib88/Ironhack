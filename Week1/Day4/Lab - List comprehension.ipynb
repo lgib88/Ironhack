{
 "cells": [
  {
   "cell_type": "markdown",
   "id": "25d7736c-ba17-4aff-b6bb-66eba20fbf4e",
   "metadata": {},
   "source": [
    "# Lab | List, Dict and Set Comprehension"
   ]
  },
  {
   "cell_type": "markdown",
   "id": "7dd3cbde-675a-4b81-92c3-f728846dbe06",
   "metadata": {},
   "source": [
    "## Exercise: Managing Customer Orders Optimized with Comprehension"
   ]
  },
  {
   "cell_type": "markdown",
   "id": "5d500160-2fb7-4777-b5e4-09d45ebaf328",
   "metadata": {},
   "source": [
    "In the previous exercise, you developed a program to manage customer orders and inventory. Now, let's take it a step further and incorporate comprehension into your code.\n",
    "\n",
    "Follow the steps below to complete the exercise:\n",
    "\n",
    "1. Review your code from the previous exercise and identify areas where you can apply comprehension to simplify and streamline your code. \n",
    "\n",
    "    - *Hint: Apply it to initialize inventory, updating the inventory and printing the updated inventory.*\n",
    "    \n",
    "    - For example, in initializing the inventory, we could have:\n",
    "    \n",
    "        ```python\n",
    "        def initialize_inventory(products):\n",
    "            inventory = {product: int(input(f\"Enter the quantity of {product}s available: \")) for product in products}\n",
    "            return inventory\n",
    "\n",
    "        ```\n",
    "<br>\n",
    "    \n",
    "    \n",
    "2. Modify the function get_customer_orders so it prompts the user to enter the number of customer orders and gathers the product names using a loop and user input. Use comprehension.\n",
    "\n",
    "3. Add a new function to calculate the total price of the customer order. For each product in customer_orders, prompt the user to enter the price of that product. Use comprehension to calculate the total price. Note: assume that the user can only have 1 unit of each product.\n",
    "\n",
    "4. Modify the update_inventory function to remove the product from the inventory if its quantity becomes zero after fulfilling the customer orders. Use comprehension to filter out the products with a quantity of zero from the inventory.\n",
    "\n",
    "5. Print the total price of the customer order.\n",
    "\n",
    "Your code should produce output similar to the following:\n",
    "\n",
    "```python\n",
    "Enter the quantity of t-shirts available:  5\n",
    "Enter the quantity of mugs available:  4\n",
    "Enter the quantity of hats available:  3\n",
    "Enter the quantity of books available:  2\n",
    "Enter the quantity of keychains available:  1\n",
    "Enter the number of customer orders:  2\n",
    "Enter the name of a product that a customer wants to order:  hat\n",
    "Enter the name of a product that a customer wants to order:  keychain\n",
    "\n",
    "Order Statistics:\n",
    "Total Products Ordered: 2\n",
    "Percentage of Unique Products Ordered: 40.0\n",
    "\n",
    "Updated Inventory:\n",
    "t-shirt: 5\n",
    "mug: 4\n",
    "hat: 2\n",
    "book: 2\n",
    "Enter the price of keychain:  5\n",
    "Enter the price of hat:  10\n",
    "Total Price: 15.0\n",
    "\n",
    "```\n"
   ]
  },
  {
   "cell_type": "code",
   "execution_count": 2,
   "id": "751ebe6b-a84e-4da6-8b96-b2d16cc57b88",
   "metadata": {},
   "outputs": [],
   "source": [
    "inventory = {'t-shirt': 5, 'mug': 6, 'hat': 7, 'book': 8, 'keychain': 9}\n",
    "\n",
    "customer_orders = (\"hat\", \"t-shirt\", \"mug\", \"book\")\n",
    "\n",
    "products = [\"t-shirt\", \"mug\", \"hat\", \"book\", \"keychain\"]"
   ]
  },
  {
   "cell_type": "code",
   "execution_count": 17,
   "id": "6d748a22-992a-4d54-bda4-7e07b1d4b764",
   "metadata": {},
   "outputs": [
    {
     "name": "stdout",
     "output_type": "stream",
     "text": [
      "{'t-shirt': 4, 'mug': 5, 'hat': 6, 'book': 7, 'keychain': 9}\n"
     ]
    }
   ],
   "source": [
    "#Exercise 1\n",
    "\n",
    "def update_inventory(customer_orders, inventory) -> dict:\n",
    "    updated_inventory = {product : value - 1 if product in customer_orders else value for product, value in inventory.items()}\n",
    "    return updated_inventory\n",
    "\n",
    "updated_inventory = update_inventory(customer_orders, inventory)\n",
    "print(updated_inventory)"
   ]
  },
  {
   "cell_type": "code",
   "execution_count": 19,
   "id": "11802ac2-3117-42f2-89d4-33d7c788f7db",
   "metadata": {},
   "outputs": [
    {
     "name": "stdin",
     "output_type": "stream",
     "text": [
      "Type how many products do you want?:  3\n",
      "Type the product you want from the list:  mug\n",
      "Type the product you want from the list:  keychain\n",
      "Type the product you want from the list:  book\n"
     ]
    },
    {
     "name": "stdout",
     "output_type": "stream",
     "text": [
      "{'keychain', 'book', 'mug'}\n"
     ]
    }
   ],
   "source": [
    "#Exercise 2\n",
    "\n",
    "def get_customer_orders() -> set:\n",
    "    customer_order = {input(\"Type the product you want from the list: \") for product in range(int(input(\"Type how many products do you want?: \")))}\n",
    "    return customer_order\n",
    "    \n",
    "customer_order = get_customer_orders()\n",
    "print(customer_order)\n",
    "\n",
    "#Ask why the first input to ask is the second in the comprehended set"
   ]
  },
  {
   "cell_type": "code",
   "execution_count": 5,
   "id": "99db7161-6ccc-43e3-8cf8-513b84cc851b",
   "metadata": {},
   "outputs": [
    {
     "data": {
      "text/plain": [
       "set"
      ]
     },
     "execution_count": 5,
     "metadata": {},
     "output_type": "execute_result"
    }
   ],
   "source": [
    "type(customer_order)"
   ]
  },
  {
   "cell_type": "code",
   "execution_count": 6,
   "id": "2423ac84-0f73-4688-85a6-b64982dad43a",
   "metadata": {},
   "outputs": [
    {
     "name": "stdin",
     "output_type": "stream",
     "text": [
      "Enter the price of your keychain:  25\n",
      "Enter the price of your book:  15\n",
      "Enter the price of your mug:  30\n"
     ]
    },
    {
     "name": "stdout",
     "output_type": "stream",
     "text": [
      "{'keychain': 25, 'book': 15, 'mug': 30}\n",
      "70\n"
     ]
    }
   ],
   "source": [
    "#Exercise 3\n",
    "\n",
    "def total_price(customer_order):\n",
    "    price_of_products = {product : int(input(f\"Enter the price of your {product}: \")) for product in customer_order}\n",
    "    return price_of_products, sum(price_of_products.values())\n",
    "\n",
    "price_of_products, values_sum = total_price(customer_order)\n",
    "print(price_of_products)\n",
    "print(values_sum)"
   ]
  },
  {
   "cell_type": "markdown",
   "id": "053c3755-2476-4f5e-8f2e-701bbc872f4b",
   "metadata": {},
   "source": [
    "4. Modify the update_inventory function to remove the product from the inventory if its quantity becomes zero after fulfilling the customer orders. Use comprehension to filter out the products with a quantity of zero from the inventory.\n"
   ]
  },
  {
   "cell_type": "code",
   "execution_count": 20,
   "id": "3ad517fc-d6f1-4115-add0-25aec86fb77a",
   "metadata": {},
   "outputs": [
    {
     "name": "stdout",
     "output_type": "stream",
     "text": [
      "None\n"
     ]
    }
   ],
   "source": [
    "#Exercise 4\n",
    "\n",
    "def update_inventory2(customer_orders, inventory):\n",
    "    updated_inventory2 = {product : value - 1 if product in customer_orders else value and value - 1 > 0 for product, value in updated_inventory.items()}\n",
    "\n",
    "updated_inventory2 = update_inventory2(customer_orders, inventory)\n",
    "print(updated_inventory2)"
   ]
  },
  {
   "cell_type": "code",
   "execution_count": 71,
   "id": "a629f5ed-1172-48bc-839b-22a06c558480",
   "metadata": {},
   "outputs": [
    {
     "name": "stdout",
     "output_type": "stream",
     "text": [
      "The price of book is 25.\n",
      "The price of mug is 15.\n",
      "The price of keychain is 30.\n"
     ]
    }
   ],
   "source": [
    "#Exercise 5\n",
    "\n",
    "def print_total_price(total_price):\n",
    "    for key, value in price_of_products.items():\n",
    "        print(f\"The price of {key} is {value}.\")\n",
    "\n",
    "print_total_price(total_price)"
   ]
  }
 ],
 "metadata": {
  "kernelspec": {
   "display_name": "Python 3 (ipykernel)",
   "language": "python",
   "name": "python3"
  },
  "language_info": {
   "codemirror_mode": {
    "name": "ipython",
    "version": 3
   },
   "file_extension": ".py",
   "mimetype": "text/x-python",
   "name": "python",
   "nbconvert_exporter": "python",
   "pygments_lexer": "ipython3",
   "version": "3.11.7"
  }
 },
 "nbformat": 4,
 "nbformat_minor": 5
}
