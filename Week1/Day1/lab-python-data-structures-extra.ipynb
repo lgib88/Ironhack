{
 "cells": [
  {
   "cell_type": "markdown",
   "metadata": {},
   "source": [
    "# Lab | Data Structures "
   ]
  },
  {
   "cell_type": "markdown",
   "metadata": {},
   "source": [
    "## Exercise 1: Working with Lists"
   ]
  },
  {
   "cell_type": "markdown",
   "metadata": {},
   "source": [
    "Imagine you are building a program for a teacher who wants to track the progress of their students throughout the semester. The teacher wants to input the grades of each student one by one, and get a summary of their performance. There are in total 5 students. You are tasked with building the program that will allow the teacher to do this easily.\n",
    "\n",
    "The program will prompt the teacher to enter the grades of each student. Once the teacher has entered all the grades, the program will calculate the total sum of the grades and display it on the screen. Then, the program will create a new list by selecting only the grades of the first, third, and fifth students entered by the teacher, and sort them in ascending order.\n",
    "\n",
    "Finally, the program will print out the new list, along with its length and the number of occurrences of the score 5 in the list. This will give the teacher a good overview of the performance of the selected students, and help them identify any potential issues early on."
   ]
  },
  {
   "cell_type": "markdown",
   "metadata": {},
   "source": [
    "*Hint:*\n",
    "- You can use the input() function to ask the user to enter their information.\n",
    "- Look for list methods to perform the tasks. \n",
    "- Remember, it is possible to get a part of the sequence using:\n",
    "\n",
    "    ```python\n",
    "    sequence[x:y:z]\n",
    "    ```\n",
    "    where x, y, z are integers.\n",
    "\n",
    "    The above returns a new sequence with the following characteristics:\n",
    "\n",
    "    - A sequence with the same type as the original (a slice of a list is a list, a slice of a tuple is a tuple, and a slice of a string is a string).\n",
    "    - A sequence with elements from `sequence [x]` to `sequence [y-1]` (does not include a sequence [y]). By skipping `z` elements each time, it can be omitted if ` z = 1`.\n"
   ]
  },
  {
   "cell_type": "markdown",
   "metadata": {},
   "source": [
    "*Recommended External Resources:*\n",
    "- *[Python Lists](https://www.w3schools.com/python/python_lists.asp)*\n",
    "- *[Python List Methods](https://www.w3schools.com/python/python_ref_list.asp)*\n",
    "- *[Python Built-in Functions](https://docs.python.org/3/library/functions.html)*\n"
   ]
  },
  {
   "cell_type": "code",
   "execution_count": 34,
   "metadata": {},
   "outputs": [],
   "source": [
    "students = [\"Lluis\", \"Jona\", \"Rori\", \"Fran\", \"Luna\"]\n",
    "\n",
    "grades = []   "
   ]
  },
  {
   "cell_type": "code",
   "execution_count": 35,
   "metadata": {},
   "outputs": [
    {
     "name": "stdin",
     "output_type": "stream",
     "text": [
      "Enter the grade of Lluis:  5\n",
      "Enter the grade of Jona:  7\n",
      "Enter the grade of Rori:  9\n",
      "Enter the grade of Fran:  8\n",
      "Enter the grade of Luna:  5\n"
     ]
    }
   ],
   "source": [
    "# Prompt the teacher to enter the grades of each student\n",
    "\n",
    "for student in students:\n",
    "    x = -1\n",
    "    while x < 0 or x > 10:  # Assuming grades are between 0 and 10\n",
    "        x = int(input(f\"Enter the grade of {student}: \"))\n",
    "    grades.append(x)"
   ]
  },
  {
   "cell_type": "code",
   "execution_count": 36,
   "metadata": {},
   "outputs": [
    {
     "name": "stdout",
     "output_type": "stream",
     "text": [
      "The total sum of the grades is 34\n"
     ]
    }
   ],
   "source": [
    "# Calculate the total sum of the grades and display it\n",
    "\n",
    "print(f\"The total sum of the grades is {sum(grades)}\")"
   ]
  },
  {
   "cell_type": "code",
   "execution_count": 38,
   "metadata": {},
   "outputs": [],
   "source": [
    "# Create a new list with the grades of the first, third, and fifth students\n",
    "selected_grades = []\n",
    "\n",
    "selected_grades = [grades [i] for i in [0, 2, 4]]\n",
    "\n",
    "sorted_selected_grades = sorted (selected_grades)"
   ]
  },
  {
   "cell_type": "code",
   "execution_count": 39,
   "metadata": {},
   "outputs": [
    {
     "name": "stdout",
     "output_type": "stream",
     "text": [
      "\n",
      "Sorted grades of selected students: [5, 5, 9]\n",
      "Number of selected students: 3\n",
      "Occurrences of the score 5: 2\n"
     ]
    }
   ],
   "source": [
    "# Print out the new list, its length, and the number of occurrences of the score 5\n",
    "\n",
    "print(f\"\\nSorted grades of selected students: {sorted_selected_grades}\")\n",
    "print(f\"Number of selected students: {len(sorted_selected_grades)}\")\n",
    "print(f\"Occurrences of the score 5: {sorted_selected_grades.count(5)}\")"
   ]
  },
  {
   "cell_type": "markdown",
   "metadata": {},
   "source": [
    "## Exercise 2: Tuples"
   ]
  },
  {
   "cell_type": "markdown",
   "metadata": {},
   "source": [
    "Imagine you're running a fruit stand and want to keep track of your inventory. Write a Python program that does the following:\n",
    "\n",
    "- Initializes a tuple with 5 different types of fruit.\n",
    "- Outputs the first and last elements of the tuple, so you can see the full range of fruits the store offers.\n",
    "- Replaces the second element of the tuple with a new fruit that the store has recently received, and prints the updated tuple so you can see the changes.\n",
    "- Concatenates a new tuple containing 2 additional fruits to the original tuple, so you can add them to the store inventory, and prints the resulting tuple to see the updated inventory.\n",
    "- Splits the resulting tuple into 2 tuples of 3 elements each (the first tuple contains the first 3 elements, and the second tuple contains the last 3 elements), so you can organize the inventory more effectively.\n",
    "- Combines the 2 tuples from the previous step with the original tuple into a new tuple, and prints the resulting tuple and its length, so you can see the final inventory after all the changes."
   ]
  },
  {
   "cell_type": "code",
   "execution_count": 41,
   "metadata": {},
   "outputs": [],
   "source": [
    "# Initializes a tuple with 5 different types of fruit\n",
    "\n",
    "fruits = (\"apple\",\"banana\",\"pear\",\"orange\",\"lemon\")"
   ]
  },
  {
   "cell_type": "code",
   "execution_count": 44,
   "metadata": {},
   "outputs": [
    {
     "name": "stdout",
     "output_type": "stream",
     "text": [
      "First fruit: apple\n",
      "Last fruit: lemon\n"
     ]
    }
   ],
   "source": [
    "# Outputs the first and last elements of the tuple, so you can see the full range of fruits the store offers\n",
    "\n",
    "print(\"First fruit:\", fruits[0])\n",
    "print(\"Last fruit:\", fruits[-1])"
   ]
  },
  {
   "cell_type": "code",
   "execution_count": 45,
   "metadata": {},
   "outputs": [
    {
     "name": "stdout",
     "output_type": "stream",
     "text": [
      "('apple', 'blueberry', 'pear', 'orange', 'lemon')\n"
     ]
    }
   ],
   "source": [
    "# Replaces the second element of the tuple with a new fruit that the store has recently received, and prints the updated tuple so you can see the changes.\n",
    "\n",
    "# Convert the tuple to a list\n",
    "fruits_list = list(fruits)\n",
    "\n",
    "# Replace the second element\n",
    "fruits_list[1] = \"blueberry\"\n",
    "\n",
    "# Convert the list back to a tuple\n",
    "fruits = tuple(fruits_list)\n",
    "\n",
    "print(fruits)"
   ]
  },
  {
   "cell_type": "markdown",
   "metadata": {},
   "source": [
    "## Exercise 3: Sets"
   ]
  },
  {
   "cell_type": "markdown",
   "metadata": {},
   "source": [
    "Imagine you are a data analyst working for a literature museum. Your manager has given you two poems to analyze, and she wants you to write a Python program to extract useful information from them.\n",
    "\n",
    "Your program should:\n",
    "\n",
    "- Create two sets, one for each poem, containing all unique words in both poems (ignoring case and punctuation).\n",
    "- Print the number of unique words in each set.\n",
    "- Identify and print the unique words present in the first poem but not in the second one.\n",
    "- Identify and print the unique words present in the second poem but not in the first one.\n",
    "- Identify and print the unique words present in both poems and print it in alphabetical order."
   ]
  },
  {
   "cell_type": "markdown",
   "metadata": {},
   "source": [
    "*Recommended External Resources:*\n",
    "- *[Python Sets](https://www.w3schools.com/python/python_sets.asp)* \n",
    "- *[Python Set Methods](https://www.w3schools.com/python/python_ref_set.asp)*\n",
    "- *[Python String Methods](https://www.w3schools.com/python/python_ref_string.asp)*\n"
   ]
  },
  {
   "cell_type": "code",
   "execution_count": 52,
   "metadata": {},
   "outputs": [],
   "source": [
    "poem = \"\"\"Some say the world will end in fire,\n",
    "Some say in ice.\n",
    "From what I’ve tasted of desire\n",
    "I hold with those who favor fire.\n",
    "But if it had to perish twice,\n",
    "I think I know enough of hate\n",
    "To say that for destruction ice\n",
    "Is also great\n",
    "And would suffice.\"\"\"\n",
    "\n",
    "new_poem = \"\"\"Some say life is but a dream,\n",
    "Some say it's a test.\n",
    "From what I've seen and what I deem,\n",
    "I side with those who see it as a quest.\n",
    "\n",
    "But if it had to end today,\n",
    "I think I know enough of love,\n",
    "To say that though it fades away,\n",
    "It's still what we are made of.\"\"\""
   ]
  },
  {
   "cell_type": "code",
   "execution_count": 54,
   "metadata": {},
   "outputs": [
    {
     "name": "stdout",
     "output_type": "stream",
     "text": [
      "{'end', 'with', 'enough', 'perish', 'also', 'for', 'and', 'those', 'what', 'i’ve', 'that', 'twice', 'it', 'know', 'who', 'favor', 'some', 'ice', 'fire', 'but', 'great', 'if', 'suffice', 'of', 'is', 'think', 'from', 'hold', 'say', 'will', 'had', 'to', 'destruction', 'would', 'in', 'i', 'world', 'hate', 'tasted', 'the', 'desire'}\n",
      "{'a', 'end', 'with', 'enough', 'made', 'and', 'quest', 'its', 'what', 'those', 'that', 'life', 'it', 'ive', 'deem', 'are', 'know', 'who', 'dream', 'see', 'fades', 'away', 'some', 'test', 'though', 'as', 'today', 'but', 'if', 'still', 'is', 'of', 'think', 'we', 'love', 'from', 'say', 'had', 'to', 'seen', 'i', 'side'}\n"
     ]
    }
   ],
   "source": [
    "# Create two sets, one for each poem, containing all unique words in both poems (ignoring case and punctuation)\n",
    "\n",
    "import string\n",
    "\n",
    "# Remove punctuation and convert to lower case\n",
    "translator = str.maketrans('', '', string.punctuation)\n",
    "poem = poem.translate(translator).lower()\n",
    "new_poem = new_poem.translate(translator).lower()\n",
    "\n",
    "# Split into words and create sets\n",
    "set1 = set(poem.split())\n",
    "set2 = set(new_poem.split())\n",
    "\n",
    "print(set1)\n",
    "print(set2)"
   ]
  },
  {
   "cell_type": "code",
   "execution_count": 55,
   "metadata": {},
   "outputs": [
    {
     "name": "stdout",
     "output_type": "stream",
     "text": [
      "Number of unique words in the first poem: 41\n",
      "Number of unique words in the second poem: 42\n"
     ]
    }
   ],
   "source": [
    "# Print the number of unique words in each set.\n",
    "\n",
    "print(\"Number of unique words in the first poem:\", len(set1))\n",
    "print(\"Number of unique words in the second poem:\", len(set2))"
   ]
  },
  {
   "cell_type": "code",
   "execution_count": 56,
   "metadata": {},
   "outputs": [
    {
     "name": "stdout",
     "output_type": "stream",
     "text": [
      "Unique words in the first poem: {'perish', 'also', 'for', 'i’ve', 'twice', 'favor', 'tasted', 'ice', 'fire', 'suffice', 'hold', 'will', 'destruction', 'would', 'in', 'world', 'hate', 'great', 'the', 'desire'}\n"
     ]
    }
   ],
   "source": [
    "# Identify and print the unique words present in the first poem but not in the second one.\n",
    "\n",
    "unique_in_poem = set1 - set2\n",
    "print(\"Unique words in the first poem:\", unique_in_poem)"
   ]
  },
  {
   "cell_type": "code",
   "execution_count": 57,
   "metadata": {},
   "outputs": [
    {
     "name": "stdout",
     "output_type": "stream",
     "text": [
      "Unique words in the second poem: {'a', 'made', 'quest', 'its', 'life', 'ive', 'deem', 'are', 'dream', 'see', 'fades', 'away', 'though', 'test', 'as', 'today', 'still', 'we', 'love', 'seen', 'side'}\n"
     ]
    }
   ],
   "source": [
    "# Identify and print the unique words present in the second poem but not in the first one.\n",
    "\n",
    "unique_in_new_poem = set2 - set1\n",
    "print(\"Unique words in the second poem:\", unique_in_new_poem)"
   ]
  },
  {
   "cell_type": "code",
   "execution_count": 58,
   "metadata": {},
   "outputs": [
    {
     "name": "stdout",
     "output_type": "stream",
     "text": [
      "Common words in both poems: ['and', 'but', 'end', 'enough', 'from', 'had', 'i', 'if', 'is', 'it', 'know', 'of', 'say', 'some', 'that', 'think', 'those', 'to', 'what', 'who', 'with']\n"
     ]
    }
   ],
   "source": [
    "# Identify and print the unique words present in both poems and print it in alphabetical order.\n",
    "\n",
    "common_words = set1 & set2\n",
    "common_words_list = list(common_words)\n",
    "common_words_list.sort()\n",
    "print(\"Common words in both poems:\", common_words_list)"
   ]
  },
  {
   "cell_type": "markdown",
   "metadata": {},
   "source": [
    "## Exercise 4: Dictionaries"
   ]
  },
  {
   "cell_type": "markdown",
   "metadata": {},
   "source": [
    "Consider the following dictionary of students with their scores in different subjects. One of the students, Bob, has complained about his score in Philosophy and, after reviewing it, the teacher has decided to update his score to 100. Write a Python program that updates Bob's score in Philosophy to 100 in the dictionary."
   ]
  },
  {
   "cell_type": "markdown",
   "metadata": {},
   "source": [
    "*Recommended External Resources: [Python Dictionary Examples and Methods](https://www.w3schools.com/python/python_dictionaries.asp)*\n"
   ]
  },
  {
   "cell_type": "code",
   "execution_count": 59,
   "metadata": {},
   "outputs": [],
   "source": [
    "grades = {'Alice': {'Physics': 75, 'Math': 85, 'Chemistry': 60, 'Philosophy': 90}, 'Bob': {'Physics': 75, 'Math': 85, 'Chemistry': 60, 'Philosophy': 90}}"
   ]
  },
  {
   "cell_type": "code",
   "execution_count": 62,
   "metadata": {},
   "outputs": [
    {
     "name": "stdout",
     "output_type": "stream",
     "text": [
      "{'Alice': {'Physics': 75, 'Math': 85, 'Chemistry': 60, 'Philosophy': 90}, 'Bob': {'Physics': 75, 'Math': 85, 'Chemistry': 60, 'Philosophy': 100}}\n"
     ]
    }
   ],
   "source": [
    "# Update Bob's score in Philosophy to 100\n",
    "\n",
    "grades['Bob']['Philosophy'] = 100\n",
    "\n",
    "print(grades)"
   ]
  },
  {
   "cell_type": "markdown",
   "metadata": {},
   "source": [
    "## Bonus"
   ]
  },
  {
   "cell_type": "markdown",
   "metadata": {},
   "source": [
    "1. Below are the two lists. Write a Python program to convert them into a dictionary in a way that item from list1 is the key and item from list2 is the value."
   ]
  },
  {
   "cell_type": "markdown",
   "metadata": {},
   "source": [
    "*Hint: Use the zip() function. This function takes two or more iterables (like list, dict, string), aggregates them in a tuple, and returns it. Afterwards, you can use a function that turns a tuple into a dictionary.*"
   ]
  },
  {
   "cell_type": "markdown",
   "metadata": {},
   "source": [
    "*Recommended External Resources: [Python Zip Function](https://www.w3schools.com/python/ref_func_zip.asp)*\n"
   ]
  },
  {
   "cell_type": "code",
   "execution_count": 63,
   "metadata": {},
   "outputs": [
    {
     "name": "stdout",
     "output_type": "stream",
     "text": [
      "{'Physics': 75, 'Math': 85, 'Chemistry': 60, 'Philosophy': 90}\n"
     ]
    }
   ],
   "source": [
    "keys = ['Physics', 'Math', 'Chemistry', 'Philosophy']\n",
    "values = [75, 85, 60, 90]\n",
    "\n",
    "# Convert the two lists into a dictionary in a way that item from list1 is the key and item from list2 is the value\n",
    "\n",
    "grades = dict(zip(keys, values))\n",
    "print(grades)"
   ]
  },
  {
   "cell_type": "markdown",
   "metadata": {},
   "source": [
    "2. Get the subject with the minimum score from the previous dictionary."
   ]
  },
  {
   "cell_type": "markdown",
   "metadata": {},
   "source": [
    "*Hint: Use the built-in function min(). Read about the parameter key.*"
   ]
  },
  {
   "cell_type": "markdown",
   "metadata": {},
   "source": [
    "\n",
    "*Recommended External Resources:*\n",
    "- *[Python Min Function Official Documentation](https://docs.python.org/3.8/library/functions.html#min)*\n",
    "- *[How to use key function in max and min in Python](https://medium.com/analytics-vidhya/how-to-use-key-function-in-max-and-min-in-python-1fdbd661c59c)*"
   ]
  },
  {
   "cell_type": "code",
   "execution_count": 64,
   "metadata": {},
   "outputs": [
    {
     "name": "stdout",
     "output_type": "stream",
     "text": [
      "Chemistry\n"
     ]
    }
   ],
   "source": [
    "# Get the subject with the minimum score\n",
    "\n",
    "min_score_subject = min(grades, key=grades.get)\n",
    "print(min_score_subject)"
   ]
  }
 ],
 "metadata": {
  "kernelspec": {
   "display_name": "Python 3 (ipykernel)",
   "language": "python",
   "name": "python3"
  },
  "language_info": {
   "codemirror_mode": {
    "name": "ipython",
    "version": 3
   },
   "file_extension": ".py",
   "mimetype": "text/x-python",
   "name": "python",
   "nbconvert_exporter": "python",
   "pygments_lexer": "ipython3",
   "version": "3.11.7"
  }
 },
 "nbformat": 4,
 "nbformat_minor": 4
}
