{
 "cells": [
  {
   "cell_type": "markdown",
   "id": "f56fb0fd-1ebf-4a6e-932d-a27a322ee84f",
   "metadata": {},
   "source": [
    "# Interpreting Python errors\n",
    "\n",
    "## Learning goals\n",
    "\n",
    "By the end of this lesson, you will be able to:\n",
    "\n",
    "- Define and describe the purpose and nature of Python error messages.\n",
    "- Explain the different components of a Python error message including the error type, error description, and traceback.\n",
    "- Analyze and interpret Python error messages to identify the problem within a given piece of code.\n",
    "- Describe how error messages can be utilized for debugging.\n",
    "\n",
    "## Introduction\n",
    "\n",
    "Python error messages, also known as exceptions, are notifications raised by the interpreter when it encounters an issue it cannot resolve based on the provided instructions. These messages indicate that an unexpected event has occurred, causing the program's execution to stop. Understanding error messages is essential for effective debugging and is a fundamental skill for programmers.\n",
    "\n",
    "## Anatomy of a Python Error Message\n",
    "\n",
    "Python error messages generally have a specific structure that includes several key components: the type of error, a more detailed description of the error, and often a traceback that points to where the error occurred in the code. Understanding these components will help you decode error messages and pinpoint the issue with your code.\n",
    "\n",
    "- **Error Type:** This signifies the category of error that Python encountered. Examples include **`TypeError`**, **`ValueError`**, **`NameError`**, and more. Each type corresponds to a specific kind of issue in the code.\n",
    "- **Error Description:** This part of the error message provides more detailed context about what went wrong. This is where Python tries to explain the problem in a more specific way, which can be particularly helpful when debugging.\n",
    "- **Traceback:** This term refers to the list of functions or method calls that led up to the point where the error occurred. Python displays this from the most recent call to the least recent, allowing you to trace the execution path that led to the error. This is particularly useful for understanding and locating errors in larger programs.\n",
    "\n",
    "Let's take a common Python error as an example: a **`TypeError`**. Here's a simple piece of code that will raise this error:"
   ]
  },
  {
   "cell_type": "code",
   "execution_count": 1,
   "id": "fbb54ba2-9439-460c-bb86-947140ce7810",
   "metadata": {},
   "outputs": [
    {
     "ename": "TypeError",
     "evalue": "unsupported operand type(s) for +: 'int' and 'str'",
     "output_type": "error",
     "traceback": [
      "\u001b[1;31m---------------------------------------------------------------------------\u001b[0m",
      "\u001b[1;31mTypeError\u001b[0m                                 Traceback (most recent call last)",
      "Cell \u001b[1;32mIn[1], line 4\u001b[0m\n\u001b[0;32m      2\u001b[0m number \u001b[38;5;241m=\u001b[39m \u001b[38;5;241m5\u001b[39m\n\u001b[0;32m      3\u001b[0m message \u001b[38;5;241m=\u001b[39m \u001b[38;5;124m\"\u001b[39m\u001b[38;5;124mHello, world!\u001b[39m\u001b[38;5;124m\"\u001b[39m\n\u001b[1;32m----> 4\u001b[0m combined \u001b[38;5;241m=\u001b[39m number \u001b[38;5;241m+\u001b[39m message\n",
      "\u001b[1;31mTypeError\u001b[0m: unsupported operand type(s) for +: 'int' and 'str'"
     ]
    }
   ],
   "source": [
    "# This will raise a TypeError\n",
    "number = 5\n",
    "message = \"Hello, world!\"\n",
    "combined = number + message"
   ]
  },
  {
   "cell_type": "markdown",
   "id": "0d64a2f1-58e1-4842-a49a-000740955f84",
   "metadata": {},
   "source": [
    "Here's how the components we discussed are represented in this error message:\n",
    "\n",
    "- **Error Type (`TypeError`):** This is the type of error Python encountered. In this case, **`TypeError`** means we tried to perform an operation on a type that doesn't support it.\n",
    "- **Error Description (`unsupported operand type(s) for +: 'int' and 'str'`):** This message tells us more specifically what the problem was. Here, Python is saying it doesn't know how to use the **`+`** operator with an **`int`** (integer number) and a **`str`** (string of text).\n",
    "- **Traceback:** This is the part of the error message that starts with **`Traceback (most recent call last):`** and includes a list of the lines of code that were being executed when Python encountered the error. It's like a map that leads you to the location of the error. In this case, it tells us the error occurred in line 3.\n",
    "\n",
    "By analyzing these components, we can conclude that we made a mistake on line 3 by trying to add a number and a string together, which Python doesn't know how to do. We might decide to correct this by turning the number into a string with the **`str()`** function and then running the code again:"
   ]
  },
  {
   "cell_type": "code",
   "execution_count": 4,
   "id": "a86a2818-49fd-40e1-aef0-94cb2821b070",
   "metadata": {},
   "outputs": [
    {
     "name": "stdout",
     "output_type": "stream",
     "text": [
      "5Hello, world!\n"
     ]
    }
   ],
   "source": [
    "# This will work\n",
    "number = 5\n",
    "message = \"Hello, world!\"\n",
    "combined = str(number) + message\n",
    "\n",
    "print(f\"{combined}\")"
   ]
  },
  {
   "cell_type": "markdown",
   "id": "6fe3c797-1fd9-45d3-a3bc-4cd79e09b825",
   "metadata": {},
   "source": [
    "\n",
    "## Common Python Errors\n",
    "\n",
    "This section will introduce some of the most frequently encountered Python errors, explaining what they mean and offering examples of code scenarios that could potentially cause them.\n",
    "\n",
    "### SyntaxError\n",
    "\n",
    "Python raises this error when it encounters incorrect syntax. It could be caused by a variety of issues, such as missing punctuation like a closing parenthesis or colon, incorrect indentation, or using a reserved keyword for a variable name.\n",
    "\n",
    "Here is an example:"
   ]
  },
  {
   "cell_type": "code",
   "execution_count": 5,
   "id": "2b77a1ee-bc0c-4c4d-84d3-0a21d4d361a8",
   "metadata": {},
   "outputs": [
    {
     "ename": "SyntaxError",
     "evalue": "incomplete input (4008789091.py, line 4)",
     "output_type": "error",
     "traceback": [
      "\u001b[1;36m  Cell \u001b[1;32mIn[5], line 4\u001b[1;36m\u001b[0m\n\u001b[1;33m    # This will raise a SyntaxError: unexpected EOF while parsing\u001b[0m\n\u001b[1;37m                                                                 ^\u001b[0m\n\u001b[1;31mSyntaxError\u001b[0m\u001b[1;31m:\u001b[0m incomplete input\n"
     ]
    }
   ],
   "source": [
    "# Forgetting to close a parenthesis\n",
    "print(\"Hello, world!\"\n",
    "\n",
    "# This will raise a SyntaxError: unexpected EOF while parsing"
   ]
  },
  {
   "cell_type": "markdown",
   "id": "04759e12-6729-4795-9fc9-5407997213f4",
   "metadata": {},
   "source": [
    "### TypeError\n",
    "\n",
    "This error occurs when an operation or function is applied to an object of an inappropriate type. For example, trying to add a string and an integer would raise a TypeError.\n",
    "\n",
    "Here is an example:"
   ]
  },
  {
   "cell_type": "code",
   "execution_count": 6,
   "id": "7e7b4759-07b5-49e6-a29c-fbb5e9377681",
   "metadata": {},
   "outputs": [
    {
     "ename": "TypeError",
     "evalue": "can only concatenate str (not \"int\") to str",
     "output_type": "error",
     "traceback": [
      "\u001b[1;31m---------------------------------------------------------------------------\u001b[0m",
      "\u001b[1;31mTypeError\u001b[0m                                 Traceback (most recent call last)",
      "Cell \u001b[1;32mIn[6], line 2\u001b[0m\n\u001b[0;32m      1\u001b[0m \u001b[38;5;66;03m# Trying to add a string and an integer\u001b[39;00m\n\u001b[1;32m----> 2\u001b[0m result \u001b[38;5;241m=\u001b[39m \u001b[38;5;124m\"\u001b[39m\u001b[38;5;124mhello\u001b[39m\u001b[38;5;124m\"\u001b[39m \u001b[38;5;241m+\u001b[39m \u001b[38;5;241m5\u001b[39m\n",
      "\u001b[1;31mTypeError\u001b[0m: can only concatenate str (not \"int\") to str"
     ]
    }
   ],
   "source": [
    "# Trying to add a string and an integer\n",
    "result = \"hello\" + 5\n",
    "\n",
    "# This will raise a TypeError: can only concatenate str (not \"int\") to str"
   ]
  },
  {
   "cell_type": "markdown",
   "id": "75310d9c-a808-4981-802b-53f97f029b69",
   "metadata": {},
   "source": [
    "\n",
    "### ValueError\n",
    "\n",
    "Python raises this error when a function's argument is of the right type but inappropriate value. For instance, trying to convert a non-numeric string to an integer using the int() function would raise a ValueError.\n",
    "\n",
    "Here is an example:"
   ]
  },
  {
   "cell_type": "code",
   "execution_count": 7,
   "id": "1b22f213-f5bc-40ee-91a8-220ba10feee9",
   "metadata": {},
   "outputs": [
    {
     "ename": "ValueError",
     "evalue": "invalid literal for int() with base 10: 'hello'",
     "output_type": "error",
     "traceback": [
      "\u001b[1;31m---------------------------------------------------------------------------\u001b[0m",
      "\u001b[1;31mValueError\u001b[0m                                Traceback (most recent call last)",
      "Cell \u001b[1;32mIn[7], line 2\u001b[0m\n\u001b[0;32m      1\u001b[0m \u001b[38;5;66;03m# Trying to convert a non-numeric string to an integer\u001b[39;00m\n\u001b[1;32m----> 2\u001b[0m \u001b[38;5;28mint\u001b[39m(\u001b[38;5;124m\"\u001b[39m\u001b[38;5;124mhello\u001b[39m\u001b[38;5;124m\"\u001b[39m)\n",
      "\u001b[1;31mValueError\u001b[0m: invalid literal for int() with base 10: 'hello'"
     ]
    }
   ],
   "source": [
    "# Trying to convert a non-numeric string to an integer\n",
    "int(\"hello\")\n",
    "\n",
    "# This will raise a ValueError: invalid literal for int() with base 10: 'hello'"
   ]
  },
  {
   "cell_type": "markdown",
   "id": "69b54c3a-072d-49cc-8c62-f87e1d0528f4",
   "metadata": {},
   "source": [
    "### NameError\n",
    "\n",
    "This error is raised when a local or global name is not found. This usually means that you've referenced a variable or function that hasn't been defined yet."
   ]
  },
  {
   "cell_type": "code",
   "execution_count": 8,
   "id": "d1c97ad9-abb8-441b-98f6-3f67321be3b5",
   "metadata": {},
   "outputs": [
    {
     "ename": "NameError",
     "evalue": "name 'variable' is not defined",
     "output_type": "error",
     "traceback": [
      "\u001b[1;31m---------------------------------------------------------------------------\u001b[0m",
      "\u001b[1;31mNameError\u001b[0m                                 Traceback (most recent call last)",
      "Cell \u001b[1;32mIn[8], line 2\u001b[0m\n\u001b[0;32m      1\u001b[0m \u001b[38;5;66;03m# Referencing a variable that hasn't been defined\u001b[39;00m\n\u001b[1;32m----> 2\u001b[0m \u001b[38;5;28mprint\u001b[39m(variable)\n",
      "\u001b[1;31mNameError\u001b[0m: name 'variable' is not defined"
     ]
    }
   ],
   "source": [
    "# Referencing a variable that hasn't been defined\n",
    "print(variable)\n",
    "\n",
    "# This will raise a NameError: name 'variable' is not defined"
   ]
  },
  {
   "cell_type": "markdown",
   "id": "0937f81e-1f9d-43ea-ac60-a09a8269a87d",
   "metadata": {},
   "source": [
    "### ZeroDivisionError\n",
    "\n",
    "Python raises this error when the second argument of a division or modulo operation is zero. As you can't divide by zero in mathematics, Python doesn't allow it either.\n",
    "\n",
    "Here is an example:"
   ]
  },
  {
   "cell_type": "code",
   "execution_count": 9,
   "id": "36176b6a-d0cf-4df6-aed9-fe0175d8197b",
   "metadata": {},
   "outputs": [
    {
     "ename": "ZeroDivisionError",
     "evalue": "division by zero",
     "output_type": "error",
     "traceback": [
      "\u001b[1;31m---------------------------------------------------------------------------\u001b[0m",
      "\u001b[1;31mZeroDivisionError\u001b[0m                         Traceback (most recent call last)",
      "Cell \u001b[1;32mIn[9], line 2\u001b[0m\n\u001b[0;32m      1\u001b[0m \u001b[38;5;66;03m# Trying to divide by zero\u001b[39;00m\n\u001b[1;32m----> 2\u001b[0m result \u001b[38;5;241m=\u001b[39m \u001b[38;5;241m10\u001b[39m \u001b[38;5;241m/\u001b[39m \u001b[38;5;241m0\u001b[39m\n",
      "\u001b[1;31mZeroDivisionError\u001b[0m: division by zero"
     ]
    }
   ],
   "source": [
    "# Trying to divide by zero\n",
    "result = 10 / 0\n",
    "\n",
    "# This will raise a ZeroDivisionError: division by zero"
   ]
  },
  {
   "cell_type": "markdown",
   "id": "922da330-24e9-4600-9f11-a7c8b448c155",
   "metadata": {
    "tags": []
   },
   "source": [
    "## Dealing with Python Errors\n",
    "\n",
    "Recognizing the type of error will help you understand what kind of problem you're dealing with. Reading the error description can offer more context and possibly an insight into how to fix it. \n",
    "\n",
    "Here is a checklist to refer to when using error messages:\n",
    "\n",
    "1. **Read and Understand the Error**:  Start by identifying the type of error and carefully read the error message. Once you have the error message, focus on the most recent call in the traceback. This step-by-step method allows you to analyze the code flow and identify the specific line or function that is causing the error. \n",
    "    - **Identify the error type:** The error type is your first clue to understanding the nature of the problem. The error type can quickly point you in the direction of the issue.\n",
    "    - **Read the error message:** The error message provides more context to the issue at hand. It is more specific and often offers an insight into how to fix the problem.\n",
    "    - **Traceback:** Traceback allows you to locate where in your code the error occurred and what sequence of function or method calls led to it. It is an invaluable tool when debugging more complex programs.\n",
    "    \n",
    "2. **Search the Internet**:Using your favorite search engine, enter the error type and the keywords from the error message along with the word \"Python\" into the search bar.  Look for tutorials, forums, or articles that discuss similar errors and their solutions.  Online communities such as **StackOverflow** often provide answers to common Python errors.  \n",
    "\n",
    "3. Use **Print Statements**:\n",
    "   - Insert print statements in strategic locations to track the flow of your code and verify intermediate values.\n",
    "   - Print important variables, function outputs, or any relevant information that helps you understand the code's behavior.\n",
    "   \n",
    "4. **Reproduce the error**: Consistently reproducing the error is a critical step in debugging. It allows you to verify that the issue has been resolved after making modifications to your code.\n",
    "\n"
   ]
  },
  {
   "cell_type": "markdown",
   "id": "350a593f-bcc1-4520-982f-66375235b8b7",
   "metadata": {},
   "source": [
    "## Summary\n",
    "\n",
    "In the lesson about understanding Python error messages, you dove into the structure of Python error messages, learning about the different components including error type, error description, and traceback. We examined common Python errors such as **`SyntaxError`**, **`TypeError`**, **`ValueError`**, **`NameError`**, and **`ZeroDivisionError`** with specific examples. The importance of using these error messages for debugging was emphasized, with tips provided to systematically approach and resolve errors.\n",
    "\n",
    "## Additional **Reading Materials:**\n",
    "\n",
    "1. [Common Errors in Python and How to Fix Them](https://www.freecodecamp.org/news/common-errors-in-python-and-how-to-fix-them/)\n",
    "2. **[Errors and Exceptions](https://docs.python.org/3/tutorial/errors.html)**"
   ]
  }
 ],
 "metadata": {
  "kernelspec": {
   "display_name": "Python 3 (ipykernel)",
   "language": "python",
   "name": "python3"
  },
  "language_info": {
   "codemirror_mode": {
    "name": "ipython",
    "version": 3
   },
   "file_extension": ".py",
   "mimetype": "text/x-python",
   "name": "python",
   "nbconvert_exporter": "python",
   "pygments_lexer": "ipython3",
   "version": "3.11.7"
  }
 },
 "nbformat": 4,
 "nbformat_minor": 5
}
