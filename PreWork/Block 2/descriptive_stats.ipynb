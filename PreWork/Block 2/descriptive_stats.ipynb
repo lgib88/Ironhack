{
 "cells": [
  {
   "cell_type": "markdown",
   "id": "53378ff7-9652-4d94-bf62-4b07a96637ee",
   "metadata": {},
   "source": [
    "# Descriptive Statistics"
   ]
  },
  {
   "cell_type": "markdown",
   "id": "2b7a802f-6965-4314-b37c-6e00197088d1",
   "metadata": {},
   "source": [
    "In this hands-on lesson, we will explore descriptive statistics using the Titanic dataset, a popular dataset often used for introductory data analysis. \n",
    "\n",
    "In this lesson, we will explore descriptive statistics numerical techniques. In the following lesson, we will explore graphical techniques."
   ]
  },
  {
   "cell_type": "markdown",
   "id": "08c97ab6-400a-4887-bc5e-fb97da31ea10",
   "metadata": {},
   "source": [
    "## Quick look at the dataset"
   ]
  },
  {
   "cell_type": "code",
   "execution_count": 1,
   "id": "84575c7d-4023-4dd7-8a01-1d2088bb8c97",
   "metadata": {},
   "outputs": [],
   "source": [
    "# Let's start by importing pandas and reading the titanic dataset\n",
    "import pandas as pd\n",
    "\n",
    "# We can read from an online URL\n",
    "titanic_data = pd.read_csv('https://raw.githubusercontent.com/data-bootcamp-v4/prework_data/main/titanic.csv')"
   ]
  },
  {
   "cell_type": "markdown",
   "id": "9d61baed-bbae-4ff1-a420-2c9d3f74127e",
   "metadata": {},
   "source": [
    "Here is a description of the titanic dataset variables to get a better understanding of the data:\n",
    "- PassengerId: an Id to identify each passenger.\n",
    "- Survived: Whether the passenger survived (0 = No, 1 = Yes)\n",
    "- Pclass: Passenger class (1 = 1st class, 2 = 2nd class, 3 = 3rd class)\n",
    "- Name: Passenger's name\n",
    "- Sex: Passenger's gender (Male or Female)\n",
    "- Age: Passenger's age in years\n",
    "- SibSp: Number of siblings/spouses aboard the Titanic\n",
    "- Parch: Number of parents/children aboard the Titanic\n",
    "- Ticket: Ticket number\n",
    "- Fare: Passenger fare\n",
    "- Cabin: Cabin number\n",
    "- Embarked: Port of embarkation (C = Cherbourg, Q = Queenstown, S = Southampton)"
   ]
  },
  {
   "cell_type": "code",
   "execution_count": 2,
   "id": "608042bf-0c63-4906-9aa3-63ba713dab80",
   "metadata": {},
   "outputs": [
    {
     "data": {
      "text/html": [
       "<div>\n",
       "<style scoped>\n",
       "    .dataframe tbody tr th:only-of-type {\n",
       "        vertical-align: middle;\n",
       "    }\n",
       "\n",
       "    .dataframe tbody tr th {\n",
       "        vertical-align: top;\n",
       "    }\n",
       "\n",
       "    .dataframe thead th {\n",
       "        text-align: right;\n",
       "    }\n",
       "</style>\n",
       "<table border=\"1\" class=\"dataframe\">\n",
       "  <thead>\n",
       "    <tr style=\"text-align: right;\">\n",
       "      <th></th>\n",
       "      <th>PassengerId</th>\n",
       "      <th>Survived</th>\n",
       "      <th>Pclass</th>\n",
       "      <th>Name</th>\n",
       "      <th>Sex</th>\n",
       "      <th>Age</th>\n",
       "      <th>SibSp</th>\n",
       "      <th>Parch</th>\n",
       "      <th>Ticket</th>\n",
       "      <th>Fare</th>\n",
       "      <th>Cabin</th>\n",
       "      <th>Embarked</th>\n",
       "    </tr>\n",
       "  </thead>\n",
       "  <tbody>\n",
       "    <tr>\n",
       "      <th>0</th>\n",
       "      <td>1</td>\n",
       "      <td>0</td>\n",
       "      <td>3</td>\n",
       "      <td>Braund, Mr. Owen Harris</td>\n",
       "      <td>male</td>\n",
       "      <td>22.0</td>\n",
       "      <td>1</td>\n",
       "      <td>0</td>\n",
       "      <td>A/5 21171</td>\n",
       "      <td>7.2500</td>\n",
       "      <td>NaN</td>\n",
       "      <td>S</td>\n",
       "    </tr>\n",
       "    <tr>\n",
       "      <th>1</th>\n",
       "      <td>2</td>\n",
       "      <td>1</td>\n",
       "      <td>1</td>\n",
       "      <td>Cumings, Mrs. John Bradley (Florence Briggs Th...</td>\n",
       "      <td>female</td>\n",
       "      <td>38.0</td>\n",
       "      <td>1</td>\n",
       "      <td>0</td>\n",
       "      <td>PC 17599</td>\n",
       "      <td>71.2833</td>\n",
       "      <td>C85</td>\n",
       "      <td>C</td>\n",
       "    </tr>\n",
       "    <tr>\n",
       "      <th>2</th>\n",
       "      <td>3</td>\n",
       "      <td>1</td>\n",
       "      <td>3</td>\n",
       "      <td>Heikkinen, Miss. Laina</td>\n",
       "      <td>female</td>\n",
       "      <td>26.0</td>\n",
       "      <td>0</td>\n",
       "      <td>0</td>\n",
       "      <td>STON/O2. 3101282</td>\n",
       "      <td>7.9250</td>\n",
       "      <td>NaN</td>\n",
       "      <td>S</td>\n",
       "    </tr>\n",
       "    <tr>\n",
       "      <th>3</th>\n",
       "      <td>4</td>\n",
       "      <td>1</td>\n",
       "      <td>1</td>\n",
       "      <td>Futrelle, Mrs. Jacques Heath (Lily May Peel)</td>\n",
       "      <td>female</td>\n",
       "      <td>35.0</td>\n",
       "      <td>1</td>\n",
       "      <td>0</td>\n",
       "      <td>113803</td>\n",
       "      <td>53.1000</td>\n",
       "      <td>C123</td>\n",
       "      <td>S</td>\n",
       "    </tr>\n",
       "    <tr>\n",
       "      <th>4</th>\n",
       "      <td>5</td>\n",
       "      <td>0</td>\n",
       "      <td>3</td>\n",
       "      <td>Allen, Mr. William Henry</td>\n",
       "      <td>male</td>\n",
       "      <td>35.0</td>\n",
       "      <td>0</td>\n",
       "      <td>0</td>\n",
       "      <td>373450</td>\n",
       "      <td>8.0500</td>\n",
       "      <td>NaN</td>\n",
       "      <td>S</td>\n",
       "    </tr>\n",
       "  </tbody>\n",
       "</table>\n",
       "</div>"
      ],
      "text/plain": [
       "   PassengerId  Survived  Pclass  \\\n",
       "0            1         0       3   \n",
       "1            2         1       1   \n",
       "2            3         1       3   \n",
       "3            4         1       1   \n",
       "4            5         0       3   \n",
       "\n",
       "                                                Name     Sex   Age  SibSp  \\\n",
       "0                            Braund, Mr. Owen Harris    male  22.0      1   \n",
       "1  Cumings, Mrs. John Bradley (Florence Briggs Th...  female  38.0      1   \n",
       "2                             Heikkinen, Miss. Laina  female  26.0      0   \n",
       "3       Futrelle, Mrs. Jacques Heath (Lily May Peel)  female  35.0      1   \n",
       "4                           Allen, Mr. William Henry    male  35.0      0   \n",
       "\n",
       "   Parch            Ticket     Fare Cabin Embarked  \n",
       "0      0         A/5 21171   7.2500   NaN        S  \n",
       "1      0          PC 17599  71.2833   C85        C  \n",
       "2      0  STON/O2. 3101282   7.9250   NaN        S  \n",
       "3      0            113803  53.1000  C123        S  \n",
       "4      0            373450   8.0500   NaN        S  "
      ]
     },
     "execution_count": 2,
     "metadata": {},
     "output_type": "execute_result"
    }
   ],
   "source": [
    "# Let's start by gaining a general understanding of the dataset.\n",
    "titanic_data.head()"
   ]
  },
  {
   "cell_type": "markdown",
   "id": "97653963-22f9-48a3-b837-a3163295e78a",
   "metadata": {},
   "source": [
    "As we saw in the previous lesson,  we consider the following as numerical or quantitative variables:\n",
    "    \n",
    "- Age: continuous (it can also be considered discrete)\n",
    "- SibSp: discrete\n",
    "- Parch: discrete\n",
    "- Fare: continuous"
   ]
  },
  {
   "cell_type": "markdown",
   "id": "ae62faa6-655d-4085-ab41-8d83a435cf56",
   "metadata": {},
   "source": [
    "The following variables are considered categorical variables:"
   ]
  },
  {
   "cell_type": "markdown",
   "id": "683f76c3-a0db-41e6-95c6-788aca4e6b8e",
   "metadata": {},
   "source": [
    " \n",
    "- Survived\n",
    "- Pclass\n",
    "- Sex\n",
    "- Embarked"
   ]
  },
  {
   "cell_type": "markdown",
   "id": "8c5dd186-452d-4d46-bfdf-715ca1eea625",
   "metadata": {},
   "source": [
    "'Sex', 'Embarked', and 'Survived' are considered nominal variables, and 'Pclass' is considered an ordinal variable. While we won't delve into the importance of this distinction at the moment, we will explore it further during the bootcamp to understand its significance in data analysis."
   ]
  },
  {
   "cell_type": "markdown",
   "id": "4605ba8e-a90f-4e76-ac81-071496161535",
   "metadata": {},
   "source": [
    "For now, we will ignore PassengerId, Name, Ticket, and Cabin."
   ]
  },
  {
   "cell_type": "markdown",
   "id": "6a753409-e3fd-446f-b779-149e03471d63",
   "metadata": {},
   "source": [
    "## Descriptive statistics for numerical variables"
   ]
  },
  {
   "cell_type": "markdown",
   "id": "b2b84a81-539f-41dc-a37a-ab28a9c7a2f8",
   "metadata": {},
   "source": [
    "### Numerical Univariate Techniques\n",
    "\n",
    "#### Measures of Central Tendency\n",
    "\n",
    "Used for numerical/quantitative variables.\n",
    "\n",
    "- **Mean**: The **average** value of a variable, calculated by summing all values and dividing by the total number of observations.\n",
    "\t- Mostly used for: numerical/quantitative *continuous* variables.\n",
    "- **Median**: The **middle value** in a dataset when arranged in ascending or descending order.\n",
    "\t- Mostly used for: numerical/quantitative *continuous* variables.\n",
    "- **Mode**: The **most frequent** value or values in a dataset.\n",
    "\t- Mostly used for: numerical/quantitative -  *discrete* variables.\n",
    "\t\n"
   ]
  },
  {
   "cell_type": "markdown",
   "id": "6c7b27f4-777c-475b-9351-8d6a416ead39",
   "metadata": {},
   "source": [
    "<div style=\"text-align:center\">\n",
    "    <img src=\"https://github.com/data-bootcamp-v4/prework_img/blob/main/Median-Mode-Mean-and-Range-1.jpg?raw=true\" alt=\"Image\" style=\"width:40%;\">\n",
    "</div>\n",
    "\n",
    "*Source: [k8schoollessons](https://k8schoollessons.com/median-mode-mean-and-range/)*\n",
    "\n",
    "*Range is a measure of dispersion, we will talk about it after measures of central tendency*"
   ]
  },
  {
   "cell_type": "markdown",
   "id": "a329ee21-baeb-422b-b52c-2e968b8e2aae",
   "metadata": {},
   "source": [
    "Lets look at a quick example before continuing with our titanic dataset:"
   ]
  },
  {
   "cell_type": "code",
   "execution_count": 3,
   "id": "1cfa4038-802f-4b9d-8d14-a89bbf28b909",
   "metadata": {},
   "outputs": [
    {
     "data": {
      "text/plain": [
       "19.333333333333332"
      ]
     },
     "execution_count": 3,
     "metadata": {},
     "output_type": "execute_result"
    }
   ],
   "source": [
    "# Mean: add all the numbers and divide by the amount of numbers.\n",
    "ages = [18, 19, 16, 19, 20, 20, 21, 19, 22]\n",
    "mean = sum(ages)/len(ages)\n",
    "mean"
   ]
  },
  {
   "cell_type": "code",
   "execution_count": 4,
   "id": "05352740-a6ab-4b7b-ba23-47b3d72c3866",
   "metadata": {},
   "outputs": [
    {
     "data": {
      "text/plain": [
       "[16, 18, 19, 19, 19, 20, 20, 21, 22]"
      ]
     },
     "execution_count": 4,
     "metadata": {},
     "output_type": "execute_result"
    }
   ],
   "source": [
    "#Median: order the set of numbers, the median is the middle number.\n",
    "ages.sort() \n",
    "ages # If we get the number in the middle of the list, just by looking at the ordered list, is the number 19"
   ]
  },
  {
   "cell_type": "code",
   "execution_count": 5,
   "id": "ddb5b228-bf4c-4417-9a4e-c993eb93f9a1",
   "metadata": {},
   "outputs": [],
   "source": [
    "# Mode: the most common number\n",
    "# Just by looking at the list, we can see its the number 19 since it is repeated 3 times, and\n",
    "# no other number is repeated 3 times"
   ]
  },
  {
   "cell_type": "markdown",
   "id": "8f06748a-7846-4b4c-8ee6-93529b5a1b84",
   "metadata": {},
   "source": [
    "Now, what happens if we add two huge numbers at the end of the list?"
   ]
  },
  {
   "cell_type": "code",
   "execution_count": 6,
   "id": "0e1731f9-f993-4746-9d2c-77e72d7e8116",
   "metadata": {},
   "outputs": [
    {
     "data": {
      "text/plain": [
       "34.90909090909091"
      ]
     },
     "execution_count": 6,
     "metadata": {},
     "output_type": "execute_result"
    }
   ],
   "source": [
    "ages = [18, 19, 16, 19, 20, 20, 21, 19, 22, 110, 100]\n",
    "mean = sum(ages)/len(ages)\n",
    "mean"
   ]
  },
  {
   "cell_type": "code",
   "execution_count": 7,
   "id": "cf5f55a0-1523-41c1-95c4-393ddd995991",
   "metadata": {},
   "outputs": [
    {
     "data": {
      "text/plain": [
       "[16, 18, 19, 19, 19, 20, 20, 21, 22, 100, 110]"
      ]
     },
     "execution_count": 7,
     "metadata": {},
     "output_type": "execute_result"
    }
   ],
   "source": [
    "#Median: order the set of numbers, the median is the middle number.\n",
    "ages.sort() \n",
    "ages # If we get the number in the middle of the list, just by looking at the ordered list, is the number 20"
   ]
  },
  {
   "cell_type": "code",
   "execution_count": 8,
   "id": "d58aed0f-985c-42b1-928f-381b8c00b645",
   "metadata": {},
   "outputs": [],
   "source": [
    "# Mode: the most common number\n",
    "# Just by looking at the list, we can see its the number 19 since it is repeated 3 times, and\n",
    "# no other number is repeated 3 times"
   ]
  },
  {
   "cell_type": "markdown",
   "id": "90f49f15-6f70-44fd-b511-17f001211718",
   "metadata": {},
   "source": [
    "We can observe that when there are extreme values in the dataset, the mean is significantly affected, but the mode and median remain relatively stable. This indicates that the statistical measure **mean is sensitive to extreme values or outliers**, while the **median and mode are more resistant to such values**. Therefore, when analyzing data that may contain outliers, it is advisable to rely on the median and mode rather than the mean. This approach helps to mitigate the impact of outliers and provide a more robust representation of the central tendency and the most frequent values in the dataset."
   ]
  },
  {
   "cell_type": "markdown",
   "id": "ce94b738-75f6-41bb-9308-8ba63398020d",
   "metadata": {},
   "source": [
    "Lets look at measures of central tendency for numerical variables in the titanic dataset."
   ]
  },
  {
   "cell_type": "markdown",
   "id": "cd0cf858-c049-4782-96e8-18400f2dbc22",
   "metadata": {},
   "source": [
    "We saw in the *Introduction to Pandas* lesson that we could calculate the `mean` of a variable by doing:\n",
    "```python\n",
    "data[\"column_name\"].mean()\n",
    "```"
   ]
  },
  {
   "cell_type": "code",
   "execution_count": 9,
   "id": "75e45547-7234-41dc-aa52-228474d6774f",
   "metadata": {},
   "outputs": [
    {
     "data": {
      "text/plain": [
       "29.69911764705882"
      ]
     },
     "execution_count": 9,
     "metadata": {},
     "output_type": "execute_result"
    }
   ],
   "source": [
    "titanic_data[\"Age\"].mean()"
   ]
  },
  {
   "cell_type": "markdown",
   "id": "e45e7b32-5fbe-4fed-b252-3df33f8bb76c",
   "metadata": {},
   "source": [
    "We also saw that to access a single column, you can use \n",
    "\n",
    "```python\n",
    "df['column_name']\n",
    "```\n",
    "\n",
    "and to access many columns in a DataFrame, you can pass a list of column names using \n",
    "```python\n",
    "df[column_list]\n",
    "```\n"
   ]
  },
  {
   "cell_type": "code",
   "execution_count": 10,
   "id": "4a2d65ad-15e3-497a-b6bb-e540043a341e",
   "metadata": {},
   "outputs": [
    {
     "data": {
      "text/plain": [
       "Age     29.699118\n",
       "Fare    32.204208\n",
       "dtype: float64"
      ]
     },
     "execution_count": 10,
     "metadata": {},
     "output_type": "execute_result"
    }
   ],
   "source": [
    "titanic_data[[\"Age\",\"Fare\"]].mean() # This way we calculate at the same time the mean for Age and Fare"
   ]
  },
  {
   "cell_type": "markdown",
   "id": "490b16ca-1803-4047-a775-cd758b05ab78",
   "metadata": {},
   "source": [
    "By obtaining the list of numeric variables, we can calculate the mean of multiple variables simultaneously using just a single line of code."
   ]
  },
  {
   "cell_type": "code",
   "execution_count": 11,
   "id": "ce7747ba-fbcb-4682-afa4-db1000219038",
   "metadata": {},
   "outputs": [],
   "source": [
    "numerical_variables = [\"Age\",\"SibSp\",\"Parch\",\"Fare\"]"
   ]
  },
  {
   "cell_type": "code",
   "execution_count": 12,
   "id": "b3818491-6aa1-4b8e-9bb4-ef07aa26dc71",
   "metadata": {},
   "outputs": [
    {
     "data": {
      "text/plain": [
       "Age      29.699118\n",
       "SibSp     0.523008\n",
       "Parch     0.381594\n",
       "Fare     32.204208\n",
       "dtype: float64"
      ]
     },
     "execution_count": 12,
     "metadata": {},
     "output_type": "execute_result"
    }
   ],
   "source": [
    "titanic_data[numerical_variables].mean()"
   ]
  },
  {
   "cell_type": "markdown",
   "id": "d18f987b-0a6b-4f8a-8dab-9ab93bb1cf56",
   "metadata": {},
   "source": [
    "The means for the variables in the Titanic dataset can be interpreted as follows:\n",
    "\n",
    "- Age: The average age of the passengers aboard the Titanic is approximately 29.7 years. This means that, on average, the passengers were around 29.7 years old.\n",
    "\n",
    "- SibSp: The average number of siblings/spouses aboard the Titanic is approximately 0.52. This indicates that, on average, passengers had slightly more than half a sibling/spouse accompanying them on the ship.\n",
    "\n",
    "- Parch: The average number of parents/children aboard the Titanic is approximately 0.38. This means that, on average, passengers had less than one parent/child accompanying them on the ship.\n",
    "\n",
    "- Fare: The average fare paid by the passengers is approximately 32.20 dollars. This suggests that, on average, passengers paid around $32.20 for their tickets.\n",
    "\n",
    "These interpretations provide insights into the central tendency or average values of the respective variables in the Titanic dataset."
   ]
  },
  {
   "cell_type": "markdown",
   "id": "fbb88a23-1bb3-4de1-89bc-4eb3221d7f17",
   "metadata": {},
   "source": [
    "For continuous variables like Age and Fare, the mean provides a meaningful interpretation. However, for discrete variables like SibSp (number of siblings/spouses aboard the Titanic) and Parch (number of parents/children aboard the Titanic), the mean may not have a practical interpretation. It doesn't make sense to have fractions or decimals representing the number of siblings/spouses or parents/children aboard the Titanic (e.g., 0.52 or 0.38).\n"
   ]
  },
  {
   "cell_type": "markdown",
   "id": "a7d75cd1-db63-4af4-aadb-0f5ce9c3827d",
   "metadata": {},
   "source": [
    "We can do many other operations on numerical columns using `median()`, `mode()`, `sum()`, `min()`, `max()`, `std()`, `var()`the same way we did with `mean()`."
   ]
  },
  {
   "cell_type": "code",
   "execution_count": 13,
   "id": "153040fe-a4d1-48d0-a721-e6fd613dbcb9",
   "metadata": {},
   "outputs": [
    {
     "data": {
      "text/plain": [
       "Age      28.0000\n",
       "SibSp     0.0000\n",
       "Parch     0.0000\n",
       "Fare     14.4542\n",
       "dtype: float64"
      ]
     },
     "execution_count": 13,
     "metadata": {},
     "output_type": "execute_result"
    }
   ],
   "source": [
    "titanic_data[numerical_variables].median()"
   ]
  },
  {
   "cell_type": "markdown",
   "id": "8f927775-1922-4137-8767-e2eaeb56b3a6",
   "metadata": {},
   "source": [
    "- Age: The median age of the passengers aboard the Titanic is 28 years. This means that 50% of the passengers were younger than 28 and 50% were older. Comparing it to the mean age of approximately 29.7, we can see that the mean is slightly higher than the median, indicating that there might be some older passengers with higher ages that pull the mean slightly upwards."
   ]
  },
  {
   "cell_type": "markdown",
   "id": "2908a224-b2fa-4da5-99ca-695d88808842",
   "metadata": {},
   "source": [
    "- SibSp: The median number of siblings/spouses aboard the Titanic is 0. This suggests that 50% of the passengers did not have any siblings or spouses accompanying them. The mean is slightly higher than the median due to a few passengers having more siblings or spouses.\n",
    "\n",
    "- Parch: The median number of parents/children aboard the Titanic is 0. This indicates that 50% of the passengers did not have any parents or children accompanying them. Comparing it to the mean of approximately 0.38, we can see a similar pattern as with SibSp. The mean is slightly higher than the median due to a few passengers having parents or children on board.\n",
    "\n",
    "- Fare: The median fare paid by the passengers is 14.45 dollars approximately. This means that 50% of the passengers paid less than or equal to this amount for their tickets. Comparing it to the mean fare of approximately $32.20, we can observe the mean is higher than the median, indicating the presence of a few passengers who paid **significantly** higher fares."
   ]
  },
  {
   "cell_type": "code",
   "execution_count": 14,
   "id": "e9417c43-ea5f-4628-a285-e8846fd176cb",
   "metadata": {},
   "outputs": [
    {
     "data": {
      "text/html": [
       "<div>\n",
       "<style scoped>\n",
       "    .dataframe tbody tr th:only-of-type {\n",
       "        vertical-align: middle;\n",
       "    }\n",
       "\n",
       "    .dataframe tbody tr th {\n",
       "        vertical-align: top;\n",
       "    }\n",
       "\n",
       "    .dataframe thead th {\n",
       "        text-align: right;\n",
       "    }\n",
       "</style>\n",
       "<table border=\"1\" class=\"dataframe\">\n",
       "  <thead>\n",
       "    <tr style=\"text-align: right;\">\n",
       "      <th></th>\n",
       "      <th>Age</th>\n",
       "      <th>SibSp</th>\n",
       "      <th>Parch</th>\n",
       "      <th>Fare</th>\n",
       "    </tr>\n",
       "  </thead>\n",
       "  <tbody>\n",
       "    <tr>\n",
       "      <th>0</th>\n",
       "      <td>24.0</td>\n",
       "      <td>0</td>\n",
       "      <td>0</td>\n",
       "      <td>8.05</td>\n",
       "    </tr>\n",
       "  </tbody>\n",
       "</table>\n",
       "</div>"
      ],
      "text/plain": [
       "    Age  SibSp  Parch  Fare\n",
       "0  24.0      0      0  8.05"
      ]
     },
     "execution_count": 14,
     "metadata": {},
     "output_type": "execute_result"
    }
   ],
   "source": [
    "titanic_data[numerical_variables].mode()"
   ]
  },
  {
   "cell_type": "markdown",
   "id": "1fcd919f-53d4-4f32-89ef-1864c8bc7ccd",
   "metadata": {},
   "source": [
    "The mode, which represents the most frequently occurring value, provides more meaningful information for discrete variables compared to continuous variables. In the case of the Titanic dataset:\n",
    "\n",
    "- SibSp (number of siblings/spouses aboard): The mode of 0 suggests that the majority of passengers did not have any siblings or spouses accompanying them on the Titanic. We already saw that when calculating the median.\n",
    "\n",
    "- Parch (number of parents/children aboard): Similarly, the mode of 0 indicates that most passengers did not have any parents or children accompanying them on the ship. We also already saw that when calculating the median."
   ]
  },
  {
   "cell_type": "markdown",
   "id": "ac9b4188-6551-443a-b03f-23e3482bf822",
   "metadata": {},
   "source": [
    "Based on the mean, median, and mode values of the numeric variables in the dataset, we can draw the following general conclusions:\n",
    "\n",
    "- Age: The age distribution appears to be centered around the late 20s to early 30s range.\n",
    "- SibSp (number of siblings/spouses aboard): The majority of passengers (mode: 0) did not have any siblings or spouses aboard.\n",
    "- Parch (number of parents/children aboard): The mode of 0 indicates that most passengers did not have parents or children aboard.\n",
    "- Fare: the higher mean, compared to the median, suggests the presence of some higher fare values, possibly indicating variations in ticket prices.\n",
    "\n",
    "These general conclusions provide insights into the central tendency and distribution of the numeric variables in the dataset."
   ]
  },
  {
   "cell_type": "markdown",
   "id": "53006add-41e3-49f5-9d8c-b75beb254c3e",
   "metadata": {},
   "source": [
    "#### Measures of Dispersion\n",
    "Used for numerical/quantitative variables.\n",
    "\n",
    "- **Range**: The **difference between the maximum and minimum** values in a dataset.\n",
    "- **Variance**: A measure of **how far each value in the dataset deviates from the mean**, indicating the **spread** of the data. A higher variance indicates that the data points are more dispersed or spread out from the mean. \n",
    "\t- Mostly used for: numerical/quantitative *continuous* variables.\n",
    "- **Standard Deviation**: The Standard Deviation is also a measure of how spread out numbers are. It is the square root of the variance. The standard deviation is easier to interpret since it is expressed in the same unit as the data. Like variance, a higher standard deviation indicates that the data points are more spread out from the mean.\n",
    "\t- Mostly used for: numerical/quantitative *continuous* variables.\n",
    "    \n",
    "*This measures and other measures such as interquartile range will be studied during the bootcamp.*\n",
    "\t\n"
   ]
  },
  {
   "cell_type": "markdown",
   "id": "fc7bda09-5c64-4b0e-9c4a-ba2f249e590a",
   "metadata": {},
   "source": [
    "Lets look at a simple example:"
   ]
  },
  {
   "cell_type": "markdown",
   "id": "1b2466ac-49b8-4549-8064-cdad8d71a7fa",
   "metadata": {},
   "source": [
    "<div style=\"text-align:center\">\n",
    "    <img src=\"https://upload.wikimedia.org/wikipedia/commons/thumb/f/f9/Comparison_standard_deviations.svg/1224px-Comparison_standard_deviations.svg.png\" alt=\"Image\" style=\"width:40%;\">\n",
    "</div>\n",
    "\n",
    "*Source: [wiki.kidzsearch.com](https://wiki.kidzsearch.com/wiki/File:Comparison_standard_deviations.svg)*"
   ]
  },
  {
   "cell_type": "markdown",
   "id": "a62d00f1-4d40-4b10-b794-e240ed4cf7d8",
   "metadata": {},
   "source": [
    "In the image, we have two sample populations with the same mean but different standard deviations. The red population has a mean of 100 and a standard deviation of 10, while the blue population has a mean of 100 and a standard deviation of 50.\n",
    "\n",
    "From this example, we can observe that simply looking at the mean is not sufficient to fully understand the data. We can see that the blue data points are more spread out compared to the red data points. This aligns with our understanding of standard deviation, as the blue population has a higher standard deviation, indicating greater variability or dispersion in the data. Therefore, the standard deviation provides valuable information about the spread of the data, complementing the mean as a measure of centrality."
   ]
  },
  {
   "cell_type": "markdown",
   "id": "76eeb71f-bd67-467e-b2d1-0d7a8364e4de",
   "metadata": {},
   "source": [
    "If you want more information about this, take a look at [this page](https://www.mathsisfun.com/data/standard-deviation.html)"
   ]
  },
  {
   "cell_type": "markdown",
   "id": "93333d2e-531d-47b6-9569-ac2e58cd3fc5",
   "metadata": {},
   "source": [
    "Lets look at dispersion measures for the titanic dataset."
   ]
  },
  {
   "cell_type": "code",
   "execution_count": 15,
   "id": "de5a6404-57cf-4f37-b801-debeabeb2837",
   "metadata": {},
   "outputs": [
    {
     "data": {
      "text/plain": [
       "Age      14.526497\n",
       "SibSp     1.102743\n",
       "Parch     0.806057\n",
       "Fare     49.693429\n",
       "dtype: float64"
      ]
     },
     "execution_count": 15,
     "metadata": {},
     "output_type": "execute_result"
    }
   ],
   "source": [
    "# Calculate standard deviation\n",
    "titanic_data[numerical_variables].std()"
   ]
  },
  {
   "cell_type": "code",
   "execution_count": 16,
   "id": "04a948ea-fb38-4f5a-8896-445f4e0f5dd4",
   "metadata": {},
   "outputs": [
    {
     "data": {
      "text/plain": [
       "Age       79.5800\n",
       "SibSp      8.0000\n",
       "Parch      6.0000\n",
       "Fare     512.3292\n",
       "dtype: float64"
      ]
     },
     "execution_count": 16,
     "metadata": {},
     "output_type": "execute_result"
    }
   ],
   "source": [
    "# Calculate range\n",
    "titanic_data[numerical_variables].max() - titanic_data[numerical_variables].min()"
   ]
  },
  {
   "cell_type": "code",
   "execution_count": 17,
   "id": "aedcdaa5-6408-4760-81e2-36921f8366ad",
   "metadata": {},
   "outputs": [
    {
     "data": {
      "text/plain": [
       "Age       211.019125\n",
       "SibSp       1.216043\n",
       "Parch       0.649728\n",
       "Fare     2469.436846\n",
       "dtype: float64"
      ]
     },
     "execution_count": 17,
     "metadata": {},
     "output_type": "execute_result"
    }
   ],
   "source": [
    "# Calculate variance\n",
    "titanic_data[numerical_variables].var()"
   ]
  },
  {
   "cell_type": "markdown",
   "id": "ef1403f3-034e-4b26-a85f-83efba3ae8a9",
   "metadata": {},
   "source": [
    "- For continuous variables like Age and Fare, the variance, standard deviation, and range make sense as they provide information about the spread or variability of the data. In this case, we can see that the Fare variable has a much larger variance, standard deviation, and range compared to the Age variable, indicating a wider range of values and greater variability in fares.\n",
    "    - For the variable \"Age,\" the standard deviation of 14.52 indicates that the ages of individuals in the dataset deviate from the mean age of 29.69 by approximately 14 years on average. This means that, on average, the ages of individuals in the dataset can vary by around 14 years from the mean age.\n",
    "    - For the variable \"Fare,\" the standard deviation of 49.69 signifies that the fares paid by passengers deviate from the mean fare of 32.20 by approximately 49.69 units on average. The unit here represents the currency. Therefore, on average, the fares paid by passengers can vary by around 49.69 dollars from the mean fare.\n",
    "\n",
    "    In both cases, the standard deviation quantifies the average amount of deviation or dispersion of data points from the mean value. It provides a measure of the variability or spread of the data around the mean, giving insights into how much the values tend to deviate from the average.\n",
    "\n",
    "- For discrete variables like SibSp and Parch, the variance and standard deviation may not provide meaningful insights since they are primarily used for continuous data. Instead, the range can give us an idea of the extent of values for these variables. We can see that both SibSp and Parch have relatively small ranges, indicating that the majority of values are concentrated within a narrower range."
   ]
  },
  {
   "cell_type": "markdown",
   "id": "c519e238-c1da-4f66-ad16-3b0e8c8c9d1c",
   "metadata": {},
   "source": [
    "We can use the describe() method to obtain a summary of these statistics.\n",
    "\n",
    "```python\n",
    "# Generate descriptive statistics for numerical variables\n",
    "df.describe()\n",
    "```\n",
    "\n",
    "The describe() method provides statistics such as count, mean, standard deviation, minimum, quartiles, and maximum values for the numerical variables. This information gives us insights into the central tendency, dispersion, and range of these variables."
   ]
  },
  {
   "cell_type": "code",
   "execution_count": 18,
   "id": "d7b5e741-f809-4bd6-a49c-4fa5ecfb6625",
   "metadata": {},
   "outputs": [
    {
     "data": {
      "text/html": [
       "<div>\n",
       "<style scoped>\n",
       "    .dataframe tbody tr th:only-of-type {\n",
       "        vertical-align: middle;\n",
       "    }\n",
       "\n",
       "    .dataframe tbody tr th {\n",
       "        vertical-align: top;\n",
       "    }\n",
       "\n",
       "    .dataframe thead th {\n",
       "        text-align: right;\n",
       "    }\n",
       "</style>\n",
       "<table border=\"1\" class=\"dataframe\">\n",
       "  <thead>\n",
       "    <tr style=\"text-align: right;\">\n",
       "      <th></th>\n",
       "      <th>Age</th>\n",
       "      <th>SibSp</th>\n",
       "      <th>Parch</th>\n",
       "      <th>Fare</th>\n",
       "    </tr>\n",
       "  </thead>\n",
       "  <tbody>\n",
       "    <tr>\n",
       "      <th>count</th>\n",
       "      <td>714.000000</td>\n",
       "      <td>891.000000</td>\n",
       "      <td>891.000000</td>\n",
       "      <td>891.000000</td>\n",
       "    </tr>\n",
       "    <tr>\n",
       "      <th>mean</th>\n",
       "      <td>29.699118</td>\n",
       "      <td>0.523008</td>\n",
       "      <td>0.381594</td>\n",
       "      <td>32.204208</td>\n",
       "    </tr>\n",
       "    <tr>\n",
       "      <th>std</th>\n",
       "      <td>14.526497</td>\n",
       "      <td>1.102743</td>\n",
       "      <td>0.806057</td>\n",
       "      <td>49.693429</td>\n",
       "    </tr>\n",
       "    <tr>\n",
       "      <th>min</th>\n",
       "      <td>0.420000</td>\n",
       "      <td>0.000000</td>\n",
       "      <td>0.000000</td>\n",
       "      <td>0.000000</td>\n",
       "    </tr>\n",
       "    <tr>\n",
       "      <th>25%</th>\n",
       "      <td>20.125000</td>\n",
       "      <td>0.000000</td>\n",
       "      <td>0.000000</td>\n",
       "      <td>7.910400</td>\n",
       "    </tr>\n",
       "    <tr>\n",
       "      <th>50%</th>\n",
       "      <td>28.000000</td>\n",
       "      <td>0.000000</td>\n",
       "      <td>0.000000</td>\n",
       "      <td>14.454200</td>\n",
       "    </tr>\n",
       "    <tr>\n",
       "      <th>75%</th>\n",
       "      <td>38.000000</td>\n",
       "      <td>1.000000</td>\n",
       "      <td>0.000000</td>\n",
       "      <td>31.000000</td>\n",
       "    </tr>\n",
       "    <tr>\n",
       "      <th>max</th>\n",
       "      <td>80.000000</td>\n",
       "      <td>8.000000</td>\n",
       "      <td>6.000000</td>\n",
       "      <td>512.329200</td>\n",
       "    </tr>\n",
       "  </tbody>\n",
       "</table>\n",
       "</div>"
      ],
      "text/plain": [
       "              Age       SibSp       Parch        Fare\n",
       "count  714.000000  891.000000  891.000000  891.000000\n",
       "mean    29.699118    0.523008    0.381594   32.204208\n",
       "std     14.526497    1.102743    0.806057   49.693429\n",
       "min      0.420000    0.000000    0.000000    0.000000\n",
       "25%     20.125000    0.000000    0.000000    7.910400\n",
       "50%     28.000000    0.000000    0.000000   14.454200\n",
       "75%     38.000000    1.000000    0.000000   31.000000\n",
       "max     80.000000    8.000000    6.000000  512.329200"
      ]
     },
     "execution_count": 18,
     "metadata": {},
     "output_type": "execute_result"
    }
   ],
   "source": [
    "# Display summary statistics for each numerical variable\n",
    "titanic_data[numerical_variables].describe()"
   ]
  },
  {
   "cell_type": "markdown",
   "id": "a83f9996-06a4-43df-a244-b59b0e2a4674",
   "metadata": {},
   "source": [
    "Note that in the describe table, the value corresponding to the median is labeled as \"50%\". This represents the median value of the dataset. The label \"50%\" is used because the median divides the dataset into two equal parts, with 50% of the data falling below the median and 50% above it.\n",
    "\n",
    "The values labeled as \"25%\" and \"75%\" in the describe table represent the value below which 25% of the data falls, and the value below which 75% of the data falls, respectively. Further discussion on the values labeled as \"25%\" and \"75%\" will be covered during the bootcamp, where we will explore their significance and interpretation in descriptive statistics. "
   ]
  },
  {
   "cell_type": "markdown",
   "id": "55eb4778-6207-4b9d-8842-132374414f1f",
   "metadata": {},
   "source": [
    "## Descriptive statistics for categorical variables"
   ]
  },
  {
   "cell_type": "markdown",
   "id": "ea214987-b2dd-4f52-aab6-b4a23212be36",
   "metadata": {},
   "source": [
    "### Numerical Univariate Techniques\n",
    "- **Frequency Counts**: used for categorical/qualitative variables.\n",
    "\t- Counting the **number of occurrences of each value or category** within a dataset, providing insights into the distribution of values.\n",
    "\n"
   ]
  },
  {
   "cell_type": "markdown",
   "id": "093e5bba-3cdd-4dc3-ab48-587109176bfe",
   "metadata": {},
   "source": [
    "The `value_counts()` method is especially useful for categorical variables as it provides insights into the frequency or occurrence of each category in the dataset. \n",
    "\n",
    "To use it simply do:\n",
    "```python\n",
    "data[\"column_name\"].value_counts()\n",
    "```"
   ]
  },
  {
   "cell_type": "code",
   "execution_count": 19,
   "id": "46722423-f4e1-4934-bfdc-1886e4704a90",
   "metadata": {},
   "outputs": [
    {
     "data": {
      "text/plain": [
       "Sex\n",
       "male      577\n",
       "female    314\n",
       "Name: count, dtype: int64"
      ]
     },
     "execution_count": 19,
     "metadata": {},
     "output_type": "execute_result"
    }
   ],
   "source": [
    "# Remember we can access columns using [] and that column names are case sensitive\n",
    "titanic_data['Sex'].value_counts() # Calculate frequency counts for a categorical variable"
   ]
  },
  {
   "cell_type": "code",
   "execution_count": 20,
   "id": "54d31d81-a632-46c0-ae00-971dab79c99e",
   "metadata": {},
   "outputs": [],
   "source": [
    "# Lets define a list of categorical variables\n",
    "categorical_variables = [\"Survived\", \"Pclass\", \"Sex\", \"Embarked\"]"
   ]
  },
  {
   "cell_type": "code",
   "execution_count": 21,
   "id": "5d1b4e9e-1a69-46e3-96e1-6420cfe774e1",
   "metadata": {},
   "outputs": [
    {
     "data": {
      "text/plain": [
       "Survived  Pclass  Sex     Embarked\n",
       "0         3       male    S           231\n",
       "          2       male    S            82\n",
       "1         2       female  S            61\n",
       "0         3       female  S            55\n",
       "          1       male    S            51\n",
       "1         1       female  S            46\n",
       "                          C            42\n",
       "0         3       male    Q            36\n",
       "1         3       male    S            34\n",
       "0         3       male    C            33\n",
       "1         3       female  S            33\n",
       "          1       male    S            28\n",
       "0         1       male    C            25\n",
       "1         3       female  Q            24\n",
       "          1       male    C            17\n",
       "          3       female  C            15\n",
       "          2       male    S            15\n",
       "          3       male    C            10\n",
       "0         3       female  Q             9\n",
       "                          C             8\n",
       "          2       male    C             8\n",
       "1         2       female  C             7\n",
       "0         2       female  S             6\n",
       "1         3       male    Q             3\n",
       "          2       female  Q             2\n",
       "                  male    C             2\n",
       "0         1       female  S             2\n",
       "                  male    Q             1\n",
       "1         1       female  Q             1\n",
       "0         2       male    Q             1\n",
       "          1       female  C             1\n",
       "Name: count, dtype: int64"
      ]
     },
     "execution_count": 21,
     "metadata": {},
     "output_type": "execute_result"
    }
   ],
   "source": [
    "#If we do the same as for the numerical variables, we see the result is not what we wanted\n",
    "titanic_data[categorical_variables].value_counts()"
   ]
  },
  {
   "cell_type": "markdown",
   "id": "969af8f9-2865-49e4-99ac-5bf4c998a5db",
   "metadata": {},
   "source": [
    "This is because it prints the count for each combination of those variables values. In this case, we should print the value counts separately."
   ]
  },
  {
   "cell_type": "markdown",
   "id": "3ba5cd6a-54e0-427e-8192-d997722276ab",
   "metadata": {},
   "source": [
    "We can do this by calculating `value_counts()` for each variable, writing a line of code for each variable, or by iterating through the list of categorical variables like this:"
   ]
  },
  {
   "cell_type": "code",
   "execution_count": 22,
   "id": "1afeb29a-6b21-471d-bfd8-8a1f1a9f5348",
   "metadata": {},
   "outputs": [
    {
     "name": "stdout",
     "output_type": "stream",
     "text": [
      "Survived\n",
      "0    549\n",
      "1    342\n",
      "Name: count, dtype: int64\n",
      "Pclass\n",
      "3    491\n",
      "1    216\n",
      "2    184\n",
      "Name: count, dtype: int64\n",
      "Sex\n",
      "male      577\n",
      "female    314\n",
      "Name: count, dtype: int64\n",
      "Embarked\n",
      "S    644\n",
      "C    168\n",
      "Q     77\n",
      "Name: count, dtype: int64\n"
     ]
    }
   ],
   "source": [
    "# Display unique values and their frequency counts for each categorical variable\n",
    "for column in categorical_variables:\n",
    "    print(titanic_data[column].value_counts())"
   ]
  },
  {
   "cell_type": "markdown",
   "id": "54a06a99-d969-4563-a348-2b79a613225b",
   "metadata": {},
   "source": [
    "From the value counts of the categorical variables in the Titanic dataset, we can draw the following insights:\n",
    "\n",
    "- Survived: Out of the 891 passengers, 342 (38.38%) survived, while 549 (61.62%) did not survive. This indicates that the majority of passengers did not survive the Titanic disaster.\n",
    "\n",
    "- Pclass: The passengers were categorized into three classes - 1, 2, and 3. The majority of passengers (491 or 55.11%) were in the third class, followed by 216 (24.24%) in the first class and 184 (20.65%) in the second class. This suggests that the majority of passengers belonged to the lower class.\n",
    "\n",
    "- Sex: The dataset consists of 577 male passengers (64.76%) and 314 female passengers (35.24%). This indicates a higher number of male passengers compared to female passengers.\n",
    "\n",
    "- Embarked: The passengers boarded the Titanic from three different ports - S (Southampton), C (Cherbourg), and Q (Queenstown). The majority of passengers (644 or 72.28%) boarded from Southampton, followed by 168 (18.86%) from Cherbourg and 77 (8.64%) from Queenstown. This provides information about the distribution of passengers from different embarkation points.\n",
    "\n",
    "*Note that we calculate the percentages just by dividing the numbers by the total of rows, 891, and multiplying by 100*"
   ]
  },
  {
   "cell_type": "markdown",
   "id": "b2c025ac-d101-4bad-b849-34e10a595b1d",
   "metadata": {},
   "source": [
    "## Additional Analysis"
   ]
  },
  {
   "cell_type": "markdown",
   "id": "ea87a138-2038-46a2-bee7-10821cebef44",
   "metadata": {},
   "source": [
    "You can further explore the dataset by calculating statistics for specific subsets of the data and analyzing correlations between variables.\n",
    "\n",
    "We will look at this during the bootcamp."
   ]
  },
  {
   "cell_type": "markdown",
   "id": "56d288c3-d651-4c55-b77b-4cf818713862",
   "metadata": {},
   "source": [
    "## Exercise"
   ]
  },
  {
   "cell_type": "markdown",
   "id": "4cecb52d-0633-4307-9640-c391845d85eb",
   "metadata": {},
   "source": [
    "Exploring Students' Performance Dataset - Numerical Techniques\n",
    "\n",
    "**Objective**: The objective of this exercise is to practice using **numerical techniques** to analyze the Students' Performance dataset and gain insights into the students' academic performance.\n",
    "\n",
    "**Dataset Description**:\n",
    "The Students' Performance dataset contains information about students' demographic attributes, such as gender, race/ethnicity, parental education, lunch type, and test scores in three subjects: Math, Reading, and Writing.\n",
    "\n",
    "**Exercise Steps**:\n",
    "\n",
    "- Load the Dataset: Import the necessary libraries and load the Students' Performance dataset into a pandas DataFrame. \n",
    "\n",
    "- Explore the Dataset: Use basic pandas functions to get an overview of the dataset, including the number of rows and columns, and number of unique values for each column. For those columns that have less than 10 distinct values, show those unique values. *Hint: look at the previous lesson. There you can find the functions or methods you need to use.**\n",
    "\n",
    "- Analyze Descriptive Statistics: Calculate and interpret descriptive statistics, including measures of central tendency (mean, median, mode) and dispersion (standard deviation, range) for the numerical variables, and frequency counts for categorical variables. "
   ]
  },
  {
   "cell_type": "code",
   "execution_count": 4,
   "id": "49a5073d-0c04-4519-821a-f60f0ae13457",
   "metadata": {},
   "outputs": [
    {
     "name": "stdout",
     "output_type": "stream",
     "text": [
      "Number of rows: 1000\n",
      "Number of columns: 8\n",
      "Number of unique values:\n",
      "gender                          2\n",
      "race/ethnicity                  5\n",
      "parental level of education     6\n",
      "lunch                           2\n",
      "test preparation course         2\n",
      "math score                     81\n",
      "reading score                  72\n",
      "writing score                  77\n",
      "dtype: int64\n",
      "\n",
      "Unique values for gender:\n",
      "['female' 'male']\n",
      "\n",
      "Unique values for race/ethnicity:\n",
      "['group B' 'group C' 'group A' 'group D' 'group E']\n",
      "\n",
      "Unique values for parental level of education:\n",
      "[\"bachelor's degree\" 'some college' \"master's degree\" \"associate's degree\"\n",
      " 'high school' 'some high school']\n",
      "\n",
      "Unique values for lunch:\n",
      "['standard' 'free/reduced']\n",
      "\n",
      "Unique values for test preparation course:\n",
      "['none' 'completed']\n",
      "\n",
      "Descriptive statistics for numerical variables:\n",
      "       math score  reading score  writing score\n",
      "count  1000.00000    1000.000000    1000.000000\n",
      "mean     66.08900      69.169000      68.054000\n",
      "std      15.16308      14.600192      15.195657\n",
      "min       0.00000      17.000000      10.000000\n",
      "25%      57.00000      59.000000      57.750000\n",
      "50%      66.00000      70.000000      69.000000\n",
      "75%      77.00000      79.000000      79.000000\n",
      "max     100.00000     100.000000     100.000000\n",
      "\n",
      "Frequency counts for categorical variables:\n",
      "gender\n",
      "female    518\n",
      "male      482\n",
      "Name: count, dtype: int64\n",
      "\n",
      "race/ethnicity\n",
      "group C    319\n",
      "group D    262\n",
      "group B    190\n",
      "group E    140\n",
      "group A     89\n",
      "Name: count, dtype: int64\n",
      "\n",
      "parental level of education\n",
      "some college          226\n",
      "associate's degree    222\n",
      "high school           196\n",
      "some high school      179\n",
      "bachelor's degree     118\n",
      "master's degree        59\n",
      "Name: count, dtype: int64\n",
      "\n",
      "lunch\n",
      "standard        645\n",
      "free/reduced    355\n",
      "Name: count, dtype: int64\n",
      "\n",
      "test preparation course\n",
      "none         642\n",
      "completed    358\n",
      "Name: count, dtype: int64\n",
      "\n"
     ]
    }
   ],
   "source": [
    "# Dataset source URL\n",
    "url = \"https://raw.githubusercontent.com/data-bootcamp-v4/prework_data/main/students_performance.csv\"\n",
    "\n",
    "import pandas as pd\n",
    "\n",
    "df = pd.read_csv('https://raw.githubusercontent.com/data-bootcamp-v4/prework_data/main/students_performance.csv')\n",
    "\n",
    "df.to_csv(r'C:\\Users\\lluis\\Documents\\IronHack\\PreWork\\Block 2\\students_performance.csv')\n",
    "\n",
    "print(\"Number of rows:\", df.shape[0])\n",
    "print(\"Number of columns:\", df.shape[1])\n",
    "print(\"Number of unique values:\")\n",
    "print(df.nunique())\n",
    "print()\n",
    "\n",
    "columns_with_few_unique_values = [\"gender\",\"race/ethnicity\",\"parental level of education\",\"lunch\",\"test preparation course\"]\n",
    "for column in columns_with_few_unique_values:\n",
    "    unique_values = df[column].unique()\n",
    "    print(f\"Unique values for {column}:\")\n",
    "    print(unique_values)\n",
    "    print()\n",
    "\n",
    "numerical_variables = ['math score', 'reading score', 'writing score']\n",
    "print(\"Descriptive statistics for numerical variables:\")\n",
    "print(df[numerical_variables].describe())\n",
    "print()\n",
    "\n",
    "categorical_variables = ['gender', 'race/ethnicity', 'parental level of education', 'lunch', \"test preparation course\"]\n",
    "print(\"Frequency counts for categorical variables:\")\n",
    "for column in categorical_variables:\n",
    "    frequency_counts = df[column].value_counts()\n",
    "    print(frequency_counts)\n",
    "    print()"
   ]
  },
  {
   "cell_type": "code",
   "execution_count": null,
   "id": "1fef6422-d9dc-4993-bde6-cfccbaffacc0",
   "metadata": {},
   "outputs": [],
   "source": []
  }
 ],
 "metadata": {
  "kernelspec": {
   "display_name": "Python 3 (ipykernel)",
   "language": "python",
   "name": "python3"
  },
  "language_info": {
   "codemirror_mode": {
    "name": "ipython",
    "version": 3
   },
   "file_extension": ".py",
   "mimetype": "text/x-python",
   "name": "python",
   "nbconvert_exporter": "python",
   "pygments_lexer": "ipython3",
   "version": "3.11.7"
  }
 },
 "nbformat": 4,
 "nbformat_minor": 5
}
