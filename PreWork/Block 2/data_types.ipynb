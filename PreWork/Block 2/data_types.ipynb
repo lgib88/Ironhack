{
 "cells": [
  {
   "cell_type": "markdown",
   "id": "53378ff7-9652-4d94-bf62-4b07a96637ee",
   "metadata": {},
   "source": [
    "# Data types"
   ]
  },
  {
   "cell_type": "markdown",
   "id": "2b7a802f-6965-4314-b37c-6e00197088d1",
   "metadata": {},
   "source": [
    "In this hands-on lesson, we will explore the common data types."
   ]
  },
  {
   "cell_type": "code",
   "execution_count": 3,
   "id": "84575c7d-4023-4dd7-8a01-1d2088bb8c97",
   "metadata": {},
   "outputs": [],
   "source": [
    "# Let's start by importing pandas and reading the titanic dataset\n",
    "import pandas as pd\n",
    "\n",
    "# We can read from an online URL\n",
    "titanic_data = pd.read_csv('https://raw.githubusercontent.com/data-bootcamp-v4/prework_data/main/titanic.csv')"
   ]
  },
  {
   "cell_type": "markdown",
   "id": "9d61baed-bbae-4ff1-a420-2c9d3f74127e",
   "metadata": {},
   "source": [
    "Here is a description of the titanic dataset variables to get a better understanding of the data:\n",
    "- PassengerId: an Id to identify each passenger.\n",
    "- Survived: Whether the passenger survived (0 = No, 1 = Yes)\n",
    "- Pclass: Passenger class (1 = 1st class, 2 = 2nd class, 3 = 3rd class)\n",
    "- Name: Passenger's name\n",
    "- Sex: Passenger's gender (Male or Female)\n",
    "- Age: Passenger's age in years\n",
    "- SibSp: Number of siblings/spouses aboard the Titanic\n",
    "- Parch: Number of parents/children aboard the Titanic\n",
    "- Ticket: Ticket number\n",
    "- Fare: Passenger fare\n",
    "- Cabin: Cabin number\n",
    "- Embarked: Port of embarkation (C = Cherbourg, Q = Queenstown, S = Southampton)"
   ]
  },
  {
   "cell_type": "code",
   "execution_count": 4,
   "id": "608042bf-0c63-4906-9aa3-63ba713dab80",
   "metadata": {},
   "outputs": [
    {
     "data": {
      "text/html": [
       "<div>\n",
       "<style scoped>\n",
       "    .dataframe tbody tr th:only-of-type {\n",
       "        vertical-align: middle;\n",
       "    }\n",
       "\n",
       "    .dataframe tbody tr th {\n",
       "        vertical-align: top;\n",
       "    }\n",
       "\n",
       "    .dataframe thead th {\n",
       "        text-align: right;\n",
       "    }\n",
       "</style>\n",
       "<table border=\"1\" class=\"dataframe\">\n",
       "  <thead>\n",
       "    <tr style=\"text-align: right;\">\n",
       "      <th></th>\n",
       "      <th>PassengerId</th>\n",
       "      <th>Survived</th>\n",
       "      <th>Pclass</th>\n",
       "      <th>Name</th>\n",
       "      <th>Sex</th>\n",
       "      <th>Age</th>\n",
       "      <th>SibSp</th>\n",
       "      <th>Parch</th>\n",
       "      <th>Ticket</th>\n",
       "      <th>Fare</th>\n",
       "      <th>Cabin</th>\n",
       "      <th>Embarked</th>\n",
       "    </tr>\n",
       "  </thead>\n",
       "  <tbody>\n",
       "    <tr>\n",
       "      <th>0</th>\n",
       "      <td>1</td>\n",
       "      <td>0</td>\n",
       "      <td>3</td>\n",
       "      <td>Braund, Mr. Owen Harris</td>\n",
       "      <td>male</td>\n",
       "      <td>22.0</td>\n",
       "      <td>1</td>\n",
       "      <td>0</td>\n",
       "      <td>A/5 21171</td>\n",
       "      <td>7.2500</td>\n",
       "      <td>NaN</td>\n",
       "      <td>S</td>\n",
       "    </tr>\n",
       "    <tr>\n",
       "      <th>1</th>\n",
       "      <td>2</td>\n",
       "      <td>1</td>\n",
       "      <td>1</td>\n",
       "      <td>Cumings, Mrs. John Bradley (Florence Briggs Th...</td>\n",
       "      <td>female</td>\n",
       "      <td>38.0</td>\n",
       "      <td>1</td>\n",
       "      <td>0</td>\n",
       "      <td>PC 17599</td>\n",
       "      <td>71.2833</td>\n",
       "      <td>C85</td>\n",
       "      <td>C</td>\n",
       "    </tr>\n",
       "    <tr>\n",
       "      <th>2</th>\n",
       "      <td>3</td>\n",
       "      <td>1</td>\n",
       "      <td>3</td>\n",
       "      <td>Heikkinen, Miss. Laina</td>\n",
       "      <td>female</td>\n",
       "      <td>26.0</td>\n",
       "      <td>0</td>\n",
       "      <td>0</td>\n",
       "      <td>STON/O2. 3101282</td>\n",
       "      <td>7.9250</td>\n",
       "      <td>NaN</td>\n",
       "      <td>S</td>\n",
       "    </tr>\n",
       "    <tr>\n",
       "      <th>3</th>\n",
       "      <td>4</td>\n",
       "      <td>1</td>\n",
       "      <td>1</td>\n",
       "      <td>Futrelle, Mrs. Jacques Heath (Lily May Peel)</td>\n",
       "      <td>female</td>\n",
       "      <td>35.0</td>\n",
       "      <td>1</td>\n",
       "      <td>0</td>\n",
       "      <td>113803</td>\n",
       "      <td>53.1000</td>\n",
       "      <td>C123</td>\n",
       "      <td>S</td>\n",
       "    </tr>\n",
       "    <tr>\n",
       "      <th>4</th>\n",
       "      <td>5</td>\n",
       "      <td>0</td>\n",
       "      <td>3</td>\n",
       "      <td>Allen, Mr. William Henry</td>\n",
       "      <td>male</td>\n",
       "      <td>35.0</td>\n",
       "      <td>0</td>\n",
       "      <td>0</td>\n",
       "      <td>373450</td>\n",
       "      <td>8.0500</td>\n",
       "      <td>NaN</td>\n",
       "      <td>S</td>\n",
       "    </tr>\n",
       "  </tbody>\n",
       "</table>\n",
       "</div>"
      ],
      "text/plain": [
       "   PassengerId  Survived  Pclass  \\\n",
       "0            1         0       3   \n",
       "1            2         1       1   \n",
       "2            3         1       3   \n",
       "3            4         1       1   \n",
       "4            5         0       3   \n",
       "\n",
       "                                                Name     Sex   Age  SibSp  \\\n",
       "0                            Braund, Mr. Owen Harris    male  22.0      1   \n",
       "1  Cumings, Mrs. John Bradley (Florence Briggs Th...  female  38.0      1   \n",
       "2                             Heikkinen, Miss. Laina  female  26.0      0   \n",
       "3       Futrelle, Mrs. Jacques Heath (Lily May Peel)  female  35.0      1   \n",
       "4                           Allen, Mr. William Henry    male  35.0      0   \n",
       "\n",
       "   Parch            Ticket     Fare Cabin Embarked  \n",
       "0      0         A/5 21171   7.2500   NaN        S  \n",
       "1      0          PC 17599  71.2833   C85        C  \n",
       "2      0  STON/O2. 3101282   7.9250   NaN        S  \n",
       "3      0            113803  53.1000  C123        S  \n",
       "4      0            373450   8.0500   NaN        S  "
      ]
     },
     "execution_count": 4,
     "metadata": {},
     "output_type": "execute_result"
    }
   ],
   "source": [
    "# Lets look again at our data\n",
    "titanic_data.head()"
   ]
  },
  {
   "cell_type": "markdown",
   "id": "d23a3306-9a37-4fcc-8c96-fe3a82360ee9",
   "metadata": {},
   "source": [
    "## Numerical or quantitative data"
   ]
  },
  {
   "cell_type": "markdown",
   "id": "979fdfb8-0ba3-45f4-b54f-8fc0d3269db1",
   "metadata": {},
   "source": [
    "Numerical or quantitative data consists of values that **can be measured or counted**. When working with numerical data, **we focus on understanding the central tendency (measures of centrality) and the variability (measures of dispersion)** within the dataset."
   ]
  },
  {
   "cell_type": "code",
   "execution_count": 5,
   "id": "21d2afdf-508d-4d05-b41f-4ce1825bc965",
   "metadata": {},
   "outputs": [
    {
     "data": {
      "text/html": [
       "<div>\n",
       "<style scoped>\n",
       "    .dataframe tbody tr th:only-of-type {\n",
       "        vertical-align: middle;\n",
       "    }\n",
       "\n",
       "    .dataframe tbody tr th {\n",
       "        vertical-align: top;\n",
       "    }\n",
       "\n",
       "    .dataframe thead th {\n",
       "        text-align: right;\n",
       "    }\n",
       "</style>\n",
       "<table border=\"1\" class=\"dataframe\">\n",
       "  <thead>\n",
       "    <tr style=\"text-align: right;\">\n",
       "      <th></th>\n",
       "      <th>PassengerId</th>\n",
       "      <th>Survived</th>\n",
       "      <th>Pclass</th>\n",
       "      <th>Name</th>\n",
       "      <th>Sex</th>\n",
       "      <th>Age</th>\n",
       "      <th>SibSp</th>\n",
       "      <th>Parch</th>\n",
       "      <th>Ticket</th>\n",
       "      <th>Fare</th>\n",
       "      <th>Cabin</th>\n",
       "      <th>Embarked</th>\n",
       "    </tr>\n",
       "  </thead>\n",
       "  <tbody>\n",
       "    <tr>\n",
       "      <th>0</th>\n",
       "      <td>1</td>\n",
       "      <td>0</td>\n",
       "      <td>3</td>\n",
       "      <td>Braund, Mr. Owen Harris</td>\n",
       "      <td>male</td>\n",
       "      <td>22.0</td>\n",
       "      <td>1</td>\n",
       "      <td>0</td>\n",
       "      <td>A/5 21171</td>\n",
       "      <td>7.2500</td>\n",
       "      <td>NaN</td>\n",
       "      <td>S</td>\n",
       "    </tr>\n",
       "    <tr>\n",
       "      <th>1</th>\n",
       "      <td>2</td>\n",
       "      <td>1</td>\n",
       "      <td>1</td>\n",
       "      <td>Cumings, Mrs. John Bradley (Florence Briggs Th...</td>\n",
       "      <td>female</td>\n",
       "      <td>38.0</td>\n",
       "      <td>1</td>\n",
       "      <td>0</td>\n",
       "      <td>PC 17599</td>\n",
       "      <td>71.2833</td>\n",
       "      <td>C85</td>\n",
       "      <td>C</td>\n",
       "    </tr>\n",
       "    <tr>\n",
       "      <th>2</th>\n",
       "      <td>3</td>\n",
       "      <td>1</td>\n",
       "      <td>3</td>\n",
       "      <td>Heikkinen, Miss. Laina</td>\n",
       "      <td>female</td>\n",
       "      <td>26.0</td>\n",
       "      <td>0</td>\n",
       "      <td>0</td>\n",
       "      <td>STON/O2. 3101282</td>\n",
       "      <td>7.9250</td>\n",
       "      <td>NaN</td>\n",
       "      <td>S</td>\n",
       "    </tr>\n",
       "    <tr>\n",
       "      <th>3</th>\n",
       "      <td>4</td>\n",
       "      <td>1</td>\n",
       "      <td>1</td>\n",
       "      <td>Futrelle, Mrs. Jacques Heath (Lily May Peel)</td>\n",
       "      <td>female</td>\n",
       "      <td>35.0</td>\n",
       "      <td>1</td>\n",
       "      <td>0</td>\n",
       "      <td>113803</td>\n",
       "      <td>53.1000</td>\n",
       "      <td>C123</td>\n",
       "      <td>S</td>\n",
       "    </tr>\n",
       "    <tr>\n",
       "      <th>4</th>\n",
       "      <td>5</td>\n",
       "      <td>0</td>\n",
       "      <td>3</td>\n",
       "      <td>Allen, Mr. William Henry</td>\n",
       "      <td>male</td>\n",
       "      <td>35.0</td>\n",
       "      <td>0</td>\n",
       "      <td>0</td>\n",
       "      <td>373450</td>\n",
       "      <td>8.0500</td>\n",
       "      <td>NaN</td>\n",
       "      <td>S</td>\n",
       "    </tr>\n",
       "  </tbody>\n",
       "</table>\n",
       "</div>"
      ],
      "text/plain": [
       "   PassengerId  Survived  Pclass  \\\n",
       "0            1         0       3   \n",
       "1            2         1       1   \n",
       "2            3         1       3   \n",
       "3            4         1       1   \n",
       "4            5         0       3   \n",
       "\n",
       "                                                Name     Sex   Age  SibSp  \\\n",
       "0                            Braund, Mr. Owen Harris    male  22.0      1   \n",
       "1  Cumings, Mrs. John Bradley (Florence Briggs Th...  female  38.0      1   \n",
       "2                             Heikkinen, Miss. Laina  female  26.0      0   \n",
       "3       Futrelle, Mrs. Jacques Heath (Lily May Peel)  female  35.0      1   \n",
       "4                           Allen, Mr. William Henry    male  35.0      0   \n",
       "\n",
       "   Parch            Ticket     Fare Cabin Embarked  \n",
       "0      0         A/5 21171   7.2500   NaN        S  \n",
       "1      0          PC 17599  71.2833   C85        C  \n",
       "2      0  STON/O2. 3101282   7.9250   NaN        S  \n",
       "3      0            113803  53.1000  C123        S  \n",
       "4      0            373450   8.0500   NaN        S  "
      ]
     },
     "execution_count": 5,
     "metadata": {},
     "output_type": "execute_result"
    }
   ],
   "source": [
    "# Lets look again at our data\n",
    "titanic_data.head()"
   ]
  },
  {
   "cell_type": "markdown",
   "id": "65671e0a-1a9b-4a2c-9a81-a0d0a31d9ec1",
   "metadata": {},
   "source": [
    "Just by looking at it, we can see that the following variables have numeric values:"
   ]
  },
  {
   "cell_type": "markdown",
   "id": "7b69d4d8-8b14-4087-a172-36dfcdcbd719",
   "metadata": {},
   "source": [
    "- PassengerId: Id for each passenger.\n",
    "- Survived: Whether the passenger survived (0 = No, 1 = Yes).\n",
    "- Pclass: Passenger class (1 = 1st class, 2 = 2nd class, 3 = 3rd class).\n",
    "- Age: The age of the passengers.\n",
    "- SibSp: The number of siblings/spouses aboard the Titanic.\n",
    "- Parch: The number of parents/children aboard the Titanic.\n",
    "- Fare: The fare or price of the ticket.\n"
   ]
  },
  {
   "cell_type": "markdown",
   "id": "bdc658bb-4165-49de-97d4-6306dea9186b",
   "metadata": {},
   "source": [
    "But remember what we mentioned in the data types lesson.\n",
    "\n",
    "❗ **Important note**: It is important to recognize that in some cases, a **numerical or quantitative variable may represent a categorical or qualitative variable**. For example, if a dataset includes a column with numerical values representing different categories or labels, such as \"0\" for \"male\" and \"1\" for \"female,\" it should be treated as a categorical variable rather than a true numerical variable. Always consider the context and meaning of the data when determining the appropriate data type."
   ]
  },
  {
   "cell_type": "markdown",
   "id": "cd980911-e077-466c-a649-ea852091dfe8",
   "metadata": {},
   "source": [
    "The variables \"PassengerId,\" \"Survived,\" and \"Pclass\" have numerical values. However, they are typically not considered numerical or quantitative variables for the following reasons:\n",
    "\n",
    "- PassengerId: Although it is represented by numbers, it serves as an identifier or label for each passenger rather than a numerical quantity with meaningful magnitude or units. \n",
    "\n",
    "- Survived: While it has numerical values (0 and 1), it represents a binary or categorical outcome rather than a numerical quantity. It indicates whether a passenger survived or not, rather than measuring a quantitative attribute.\n",
    "\n",
    "- Pclass: Despite having numerical values (1, 2, and 3), it represents different passenger classes or categories rather than a numerical scale. The numbers are used to label the different classes rather than implying a quantitative relationship between them.\n",
    "\n",
    "This is why these variables are typically treated as categorical variables due to their nature and usage in the analysis."
   ]
  },
  {
   "cell_type": "markdown",
   "id": "97653963-22f9-48a3-b837-a3163295e78a",
   "metadata": {},
   "source": [
    "With this said, we consider the following as numerical or quantitative variables:\n",
    "    \n",
    "- Age\n",
    "- SibSp\n",
    "- Parch\n",
    "- Fare"
   ]
  },
  {
   "cell_type": "markdown",
   "id": "35c3cb5b-fec4-4fed-a55a-a2635f9981db",
   "metadata": {},
   "source": [
    "### Discrete and Continuous variables"
   ]
  },
  {
   "cell_type": "markdown",
   "id": "cee33f31-a915-4731-ad99-f6ce68608c1b",
   "metadata": {},
   "source": [
    "Remember that numerical or quantitative variables can be discrete or continuous. \n",
    "\n",
    "- **Discrete Data**: Discrete data refers to data that is counted and **can only take on specific values** within a defined range or set. These values are often whole numbers and cannot be further subdivided. For example, let's consider the number of students in each bootcamp. This is a classic example of discrete data, as it can only take on specific whole number values. We cannot have fractions or decimals when counting the number of students. \n",
    "\n",
    "- **Continuous Data**: On the other hand, continuous data represents measurements that **can take on any value within a specified range**. It is not limited to whole numbers and can include decimal values. \n",
    "A classic example of continuous data is the height of each student in a class. Heights can vary continuously, encompassing a wide range of values. From 0 cm to the tallest height ever recorded, there exists an infinite number of possible height values in between."
   ]
  },
  {
   "cell_type": "markdown",
   "id": "b085b93c-6d71-4278-b792-b9914572dbf1",
   "metadata": {},
   "source": [
    "Which variables in the titanic dataset are continuous and which are discrete?"
   ]
  },
  {
   "cell_type": "code",
   "execution_count": 6,
   "id": "f0ce717b-0873-4d5e-8dff-15d2b70ea1b3",
   "metadata": {},
   "outputs": [
    {
     "data": {
      "text/html": [
       "<div>\n",
       "<style scoped>\n",
       "    .dataframe tbody tr th:only-of-type {\n",
       "        vertical-align: middle;\n",
       "    }\n",
       "\n",
       "    .dataframe tbody tr th {\n",
       "        vertical-align: top;\n",
       "    }\n",
       "\n",
       "    .dataframe thead th {\n",
       "        text-align: right;\n",
       "    }\n",
       "</style>\n",
       "<table border=\"1\" class=\"dataframe\">\n",
       "  <thead>\n",
       "    <tr style=\"text-align: right;\">\n",
       "      <th></th>\n",
       "      <th>Age</th>\n",
       "      <th>SibSp</th>\n",
       "      <th>Parch</th>\n",
       "      <th>Fare</th>\n",
       "    </tr>\n",
       "  </thead>\n",
       "  <tbody>\n",
       "    <tr>\n",
       "      <th>0</th>\n",
       "      <td>22.0</td>\n",
       "      <td>1</td>\n",
       "      <td>0</td>\n",
       "      <td>7.2500</td>\n",
       "    </tr>\n",
       "    <tr>\n",
       "      <th>1</th>\n",
       "      <td>38.0</td>\n",
       "      <td>1</td>\n",
       "      <td>0</td>\n",
       "      <td>71.2833</td>\n",
       "    </tr>\n",
       "    <tr>\n",
       "      <th>2</th>\n",
       "      <td>26.0</td>\n",
       "      <td>0</td>\n",
       "      <td>0</td>\n",
       "      <td>7.9250</td>\n",
       "    </tr>\n",
       "    <tr>\n",
       "      <th>3</th>\n",
       "      <td>35.0</td>\n",
       "      <td>1</td>\n",
       "      <td>0</td>\n",
       "      <td>53.1000</td>\n",
       "    </tr>\n",
       "    <tr>\n",
       "      <th>4</th>\n",
       "      <td>35.0</td>\n",
       "      <td>0</td>\n",
       "      <td>0</td>\n",
       "      <td>8.0500</td>\n",
       "    </tr>\n",
       "    <tr>\n",
       "      <th>...</th>\n",
       "      <td>...</td>\n",
       "      <td>...</td>\n",
       "      <td>...</td>\n",
       "      <td>...</td>\n",
       "    </tr>\n",
       "    <tr>\n",
       "      <th>886</th>\n",
       "      <td>27.0</td>\n",
       "      <td>0</td>\n",
       "      <td>0</td>\n",
       "      <td>13.0000</td>\n",
       "    </tr>\n",
       "    <tr>\n",
       "      <th>887</th>\n",
       "      <td>19.0</td>\n",
       "      <td>0</td>\n",
       "      <td>0</td>\n",
       "      <td>30.0000</td>\n",
       "    </tr>\n",
       "    <tr>\n",
       "      <th>888</th>\n",
       "      <td>NaN</td>\n",
       "      <td>1</td>\n",
       "      <td>2</td>\n",
       "      <td>23.4500</td>\n",
       "    </tr>\n",
       "    <tr>\n",
       "      <th>889</th>\n",
       "      <td>26.0</td>\n",
       "      <td>0</td>\n",
       "      <td>0</td>\n",
       "      <td>30.0000</td>\n",
       "    </tr>\n",
       "    <tr>\n",
       "      <th>890</th>\n",
       "      <td>32.0</td>\n",
       "      <td>0</td>\n",
       "      <td>0</td>\n",
       "      <td>7.7500</td>\n",
       "    </tr>\n",
       "  </tbody>\n",
       "</table>\n",
       "<p>891 rows × 4 columns</p>\n",
       "</div>"
      ],
      "text/plain": [
       "      Age  SibSp  Parch     Fare\n",
       "0    22.0      1      0   7.2500\n",
       "1    38.0      1      0  71.2833\n",
       "2    26.0      0      0   7.9250\n",
       "3    35.0      1      0  53.1000\n",
       "4    35.0      0      0   8.0500\n",
       "..    ...    ...    ...      ...\n",
       "886  27.0      0      0  13.0000\n",
       "887  19.0      0      0  30.0000\n",
       "888   NaN      1      2  23.4500\n",
       "889  26.0      0      0  30.0000\n",
       "890  32.0      0      0   7.7500\n",
       "\n",
       "[891 rows x 4 columns]"
      ]
     },
     "execution_count": 6,
     "metadata": {},
     "output_type": "execute_result"
    }
   ],
   "source": [
    "# We saw that to access a single column, you can use df['column_name'].\n",
    "# To access many columns in a DataFrame, you can pass a list of column names using df[column_list].\n",
    "numerical_vars = [\"Age\",\"SibSp\",\"Parch\",\"Fare\"]\n",
    "titanic_data[numerical_vars]"
   ]
  },
  {
   "cell_type": "markdown",
   "id": "cb264c0e-75a5-43ab-b75e-4ce298a6cfca",
   "metadata": {},
   "source": [
    "\n",
    "Continuous Variables:\n",
    "\n",
    "- Age: Represents the age of the passengers. It is a continuous variable as it can take any numerical value within a range.\n",
    "\n",
    "- Fare: Indicates the fare or ticket price paid by the passengers. It is a continuous variable as it can take any numerical value within a range.\n",
    "\n",
    "Discrete Variables:\n",
    "\n",
    "- SibSp: The number of siblings/spouses aboard the Titanic. It represents discrete numerical values.\n",
    "- Parch: The number of parents/children aboard the Titanic. It also represents discrete numerical values.\n"
   ]
  },
  {
   "cell_type": "markdown",
   "id": "9a071cbb-3b86-4acc-88b0-abda136a02b7",
   "metadata": {},
   "source": [
    "*Note: In a strict mathematical sense, age is a continuous variable because it can theoretically take on any value within a range (e.g., 20.5 years, 30.75 years, etc.). Age can be measured with a high level of precision, allowing for decimal values.*\n",
    "\n",
    "*However, in many practical applications and datasets, age is often recorded and represented as whole numbers (integers) since people's ages are typically reported in whole years (e.g., 20 years, 30 years, etc.). In such cases, age is treated as a discrete variable with integer values.*"
   ]
  },
  {
   "cell_type": "markdown",
   "id": "a8d50dea-f287-4cfb-8134-f3bf09284cf5",
   "metadata": {},
   "source": [
    "## Categorical or Qualitative Data\n",
    "\n",
    "Categorical or qualitative data represents variables that are divided into **distinct categories or groups**. When working with categorical data, we focus on understanding the frequency counts and proportions within each category."
   ]
  },
  {
   "cell_type": "code",
   "execution_count": 7,
   "id": "fecefc30-2f60-475c-9be5-f0ef56cae960",
   "metadata": {},
   "outputs": [
    {
     "data": {
      "text/html": [
       "<div>\n",
       "<style scoped>\n",
       "    .dataframe tbody tr th:only-of-type {\n",
       "        vertical-align: middle;\n",
       "    }\n",
       "\n",
       "    .dataframe tbody tr th {\n",
       "        vertical-align: top;\n",
       "    }\n",
       "\n",
       "    .dataframe thead th {\n",
       "        text-align: right;\n",
       "    }\n",
       "</style>\n",
       "<table border=\"1\" class=\"dataframe\">\n",
       "  <thead>\n",
       "    <tr style=\"text-align: right;\">\n",
       "      <th></th>\n",
       "      <th>PassengerId</th>\n",
       "      <th>Survived</th>\n",
       "      <th>Pclass</th>\n",
       "      <th>Name</th>\n",
       "      <th>Sex</th>\n",
       "      <th>Age</th>\n",
       "      <th>SibSp</th>\n",
       "      <th>Parch</th>\n",
       "      <th>Ticket</th>\n",
       "      <th>Fare</th>\n",
       "      <th>Cabin</th>\n",
       "      <th>Embarked</th>\n",
       "    </tr>\n",
       "  </thead>\n",
       "  <tbody>\n",
       "    <tr>\n",
       "      <th>0</th>\n",
       "      <td>1</td>\n",
       "      <td>0</td>\n",
       "      <td>3</td>\n",
       "      <td>Braund, Mr. Owen Harris</td>\n",
       "      <td>male</td>\n",
       "      <td>22.0</td>\n",
       "      <td>1</td>\n",
       "      <td>0</td>\n",
       "      <td>A/5 21171</td>\n",
       "      <td>7.2500</td>\n",
       "      <td>NaN</td>\n",
       "      <td>S</td>\n",
       "    </tr>\n",
       "    <tr>\n",
       "      <th>1</th>\n",
       "      <td>2</td>\n",
       "      <td>1</td>\n",
       "      <td>1</td>\n",
       "      <td>Cumings, Mrs. John Bradley (Florence Briggs Th...</td>\n",
       "      <td>female</td>\n",
       "      <td>38.0</td>\n",
       "      <td>1</td>\n",
       "      <td>0</td>\n",
       "      <td>PC 17599</td>\n",
       "      <td>71.2833</td>\n",
       "      <td>C85</td>\n",
       "      <td>C</td>\n",
       "    </tr>\n",
       "    <tr>\n",
       "      <th>2</th>\n",
       "      <td>3</td>\n",
       "      <td>1</td>\n",
       "      <td>3</td>\n",
       "      <td>Heikkinen, Miss. Laina</td>\n",
       "      <td>female</td>\n",
       "      <td>26.0</td>\n",
       "      <td>0</td>\n",
       "      <td>0</td>\n",
       "      <td>STON/O2. 3101282</td>\n",
       "      <td>7.9250</td>\n",
       "      <td>NaN</td>\n",
       "      <td>S</td>\n",
       "    </tr>\n",
       "    <tr>\n",
       "      <th>3</th>\n",
       "      <td>4</td>\n",
       "      <td>1</td>\n",
       "      <td>1</td>\n",
       "      <td>Futrelle, Mrs. Jacques Heath (Lily May Peel)</td>\n",
       "      <td>female</td>\n",
       "      <td>35.0</td>\n",
       "      <td>1</td>\n",
       "      <td>0</td>\n",
       "      <td>113803</td>\n",
       "      <td>53.1000</td>\n",
       "      <td>C123</td>\n",
       "      <td>S</td>\n",
       "    </tr>\n",
       "    <tr>\n",
       "      <th>4</th>\n",
       "      <td>5</td>\n",
       "      <td>0</td>\n",
       "      <td>3</td>\n",
       "      <td>Allen, Mr. William Henry</td>\n",
       "      <td>male</td>\n",
       "      <td>35.0</td>\n",
       "      <td>0</td>\n",
       "      <td>0</td>\n",
       "      <td>373450</td>\n",
       "      <td>8.0500</td>\n",
       "      <td>NaN</td>\n",
       "      <td>S</td>\n",
       "    </tr>\n",
       "  </tbody>\n",
       "</table>\n",
       "</div>"
      ],
      "text/plain": [
       "   PassengerId  Survived  Pclass  \\\n",
       "0            1         0       3   \n",
       "1            2         1       1   \n",
       "2            3         1       3   \n",
       "3            4         1       1   \n",
       "4            5         0       3   \n",
       "\n",
       "                                                Name     Sex   Age  SibSp  \\\n",
       "0                            Braund, Mr. Owen Harris    male  22.0      1   \n",
       "1  Cumings, Mrs. John Bradley (Florence Briggs Th...  female  38.0      1   \n",
       "2                             Heikkinen, Miss. Laina  female  26.0      0   \n",
       "3       Futrelle, Mrs. Jacques Heath (Lily May Peel)  female  35.0      1   \n",
       "4                           Allen, Mr. William Henry    male  35.0      0   \n",
       "\n",
       "   Parch            Ticket     Fare Cabin Embarked  \n",
       "0      0         A/5 21171   7.2500   NaN        S  \n",
       "1      0          PC 17599  71.2833   C85        C  \n",
       "2      0  STON/O2. 3101282   7.9250   NaN        S  \n",
       "3      0            113803  53.1000  C123        S  \n",
       "4      0            373450   8.0500   NaN        S  "
      ]
     },
     "execution_count": 7,
     "metadata": {},
     "output_type": "execute_result"
    }
   ],
   "source": [
    "# Lets look again at our data\n",
    "titanic_data.head()"
   ]
  },
  {
   "cell_type": "markdown",
   "id": "ae62faa6-655d-4085-ab41-8d83a435cf56",
   "metadata": {},
   "source": [
    "We know because of the dataset description, that the following variables take only the values mentioned below:"
   ]
  },
  {
   "cell_type": "markdown",
   "id": "683f76c3-a0db-41e6-95c6-788aca4e6b8e",
   "metadata": {},
   "source": [
    " \n",
    "- Survived: Indicates whether a passenger survived (0 = No, 1 = Yes).\n",
    "- Pclass: The passenger class (1 = 1st class, 2 = 2nd class, 3 = 3rd class).\n",
    "- Sex: The gender of the passenger (male or female).\n",
    "- Embarked: The port of embarkation (C = Cherbourg, Q = Queenstown, S = Southampton).\n",
    "\n",
    "So we know they can be classified as categorical."
   ]
  },
  {
   "cell_type": "markdown",
   "id": "4605ba8e-a90f-4e76-ac81-071496161535",
   "metadata": {},
   "source": [
    "How about PassengerId, Name, Ticket, or Cabin?\n",
    "\n",
    "To determine the uniqueness and potential usefulness of these variables, we can examine the number of distinct or unique values they have. To calculate the number of unique values for each variable in a dataframe, we can use:\n",
    "```python\n",
    "dataset.nunique()\n",
    "```"
   ]
  },
  {
   "cell_type": "code",
   "execution_count": 8,
   "id": "662b92cf-0db6-48b9-a000-2c83de8b393b",
   "metadata": {},
   "outputs": [
    {
     "data": {
      "text/plain": [
       "PassengerId    891\n",
       "Survived         2\n",
       "Pclass           3\n",
       "Name           891\n",
       "Sex              2\n",
       "Age             88\n",
       "SibSp            7\n",
       "Parch            7\n",
       "Ticket         681\n",
       "Fare           248\n",
       "Cabin          147\n",
       "Embarked         3\n",
       "dtype: int64"
      ]
     },
     "execution_count": 8,
     "metadata": {},
     "output_type": "execute_result"
    }
   ],
   "source": [
    "titanic_data.nunique()"
   ]
  },
  {
   "cell_type": "markdown",
   "id": "6998dbd4-812b-400c-afcc-17a5d7335be4",
   "metadata": {},
   "source": [
    "We can see what we were told before, that our categorical variables Survived and Sex have 2 unique values and, Pclass and Embarked 3."
   ]
  },
  {
   "cell_type": "markdown",
   "id": "d3ab17aa-0a65-46a3-a271-5c95e6b7ac52",
   "metadata": {},
   "source": [
    "How many rows did our dataset have?"
   ]
  },
  {
   "cell_type": "code",
   "execution_count": 9,
   "id": "b7475877-411d-46c6-83f1-ad1b7d1aa5b2",
   "metadata": {},
   "outputs": [
    {
     "data": {
      "text/plain": [
       "(891, 12)"
      ]
     },
     "execution_count": 9,
     "metadata": {},
     "output_type": "execute_result"
    }
   ],
   "source": [
    "titanic_data.shape # We use shape to look at it"
   ]
  },
  {
   "cell_type": "markdown",
   "id": "08148131-5344-46f8-a865-e2c18f889fa6",
   "metadata": {},
   "source": [
    "We can observe that \"PassengerId\" and \"Name\" have the same number of unique values as the total number of rows in the dataset (891), indicating that they are unique identifiers for each passenger and not useful for categorical analysis.\n",
    "\n",
    "The variable \"Ticket\" has 681 unique values, suggesting that it may have some variations but is not highly categorical. Similarly, the \"Cabin\" variable has 147 unique values, indicating a significant number of distinct categories but not necessarily categorical in the traditional sense.\n",
    "\n",
    "Based on this information, it is advisable to treat \"PassengerId,\" \"Name,\" \"Ticket,\" and \"Cabin\" as non-categorical variables for analysis purposes. However, further exploration and domain knowledge may be required to determine if any meaningful insights can be derived from these variables through other data manipulation techniques."
   ]
  },
  {
   "cell_type": "markdown",
   "id": "eeabca6e-06c0-46c1-b1c9-eff330ddbf76",
   "metadata": {},
   "source": [
    "Note: The `unique()` method in pandas is used to identify and retrieve the unique values within a column of a DataFrame or a Series. It returns an array or a list containing all the distinct values present in the column, in the order they appear.\n",
    "```python\n",
    "data[\"column_name\"].unique()\n",
    "```"
   ]
  },
  {
   "cell_type": "code",
   "execution_count": 10,
   "id": "ba5a0b56-a50a-436c-a9d4-1474f0bdb946",
   "metadata": {},
   "outputs": [
    {
     "data": {
      "text/plain": [
       "array(['male', 'female'], dtype=object)"
      ]
     },
     "execution_count": 10,
     "metadata": {},
     "output_type": "execute_result"
    }
   ],
   "source": [
    "titanic_data[\"Sex\"].unique() # This way we can see the unique values of a column"
   ]
  },
  {
   "cell_type": "markdown",
   "id": "7ae4717f-dd06-4f37-a8be-2c96edb0a1fe",
   "metadata": {},
   "source": [
    "### Nominal and Ordinal variables"
   ]
  },
  {
   "cell_type": "markdown",
   "id": "af07089a-958b-49ea-b06c-c75db67f7bc3",
   "metadata": {},
   "source": [
    "There are two main types of categorical variables: nominal and ordinal.\n",
    "\n",
    "- **Nominal Variables**: Nominal variables represent categories or groups that **have no inherent order** or ranking. Each category is distinct and independent, without any numerical or hierarchical relationship between them. Examples of nominal variables include gender (male, female), ethnicity (Asian, African American, Caucasian), and marital status (single, married, divorced).\n",
    "\n",
    "- **Ordinal Variables**: Ordinal variables, on the other hand, represent categories that **have a natural order or ranking**. The categories possess a qualitative relationship of \"more\" or \"less\" compared to others but do not have a consistent or measurable difference between them. Examples of ordinal variables include rating scales (such as Likert scales), educational levels (e.g., high school, bachelor's degree, master's degree), and satisfaction levels (e.g., very satisfied, satisfied, neutral, dissatisfied, very dissatisfied)."
   ]
  },
  {
   "cell_type": "markdown",
   "id": "92b422b2-5fd4-44d0-bf31-22a00c59fdd6",
   "metadata": {},
   "source": [
    "Which categorical variables are nominal and which are ordinal?"
   ]
  },
  {
   "cell_type": "code",
   "execution_count": 11,
   "id": "a4b6b8c7-960d-4997-9e55-f92fcb4c5c18",
   "metadata": {},
   "outputs": [
    {
     "data": {
      "text/html": [
       "<div>\n",
       "<style scoped>\n",
       "    .dataframe tbody tr th:only-of-type {\n",
       "        vertical-align: middle;\n",
       "    }\n",
       "\n",
       "    .dataframe tbody tr th {\n",
       "        vertical-align: top;\n",
       "    }\n",
       "\n",
       "    .dataframe thead th {\n",
       "        text-align: right;\n",
       "    }\n",
       "</style>\n",
       "<table border=\"1\" class=\"dataframe\">\n",
       "  <thead>\n",
       "    <tr style=\"text-align: right;\">\n",
       "      <th></th>\n",
       "      <th>Survived</th>\n",
       "      <th>Pclass</th>\n",
       "      <th>Sex</th>\n",
       "      <th>Embarked</th>\n",
       "    </tr>\n",
       "  </thead>\n",
       "  <tbody>\n",
       "    <tr>\n",
       "      <th>0</th>\n",
       "      <td>0</td>\n",
       "      <td>3</td>\n",
       "      <td>male</td>\n",
       "      <td>S</td>\n",
       "    </tr>\n",
       "    <tr>\n",
       "      <th>1</th>\n",
       "      <td>1</td>\n",
       "      <td>1</td>\n",
       "      <td>female</td>\n",
       "      <td>C</td>\n",
       "    </tr>\n",
       "    <tr>\n",
       "      <th>2</th>\n",
       "      <td>1</td>\n",
       "      <td>3</td>\n",
       "      <td>female</td>\n",
       "      <td>S</td>\n",
       "    </tr>\n",
       "    <tr>\n",
       "      <th>3</th>\n",
       "      <td>1</td>\n",
       "      <td>1</td>\n",
       "      <td>female</td>\n",
       "      <td>S</td>\n",
       "    </tr>\n",
       "    <tr>\n",
       "      <th>4</th>\n",
       "      <td>0</td>\n",
       "      <td>3</td>\n",
       "      <td>male</td>\n",
       "      <td>S</td>\n",
       "    </tr>\n",
       "    <tr>\n",
       "      <th>...</th>\n",
       "      <td>...</td>\n",
       "      <td>...</td>\n",
       "      <td>...</td>\n",
       "      <td>...</td>\n",
       "    </tr>\n",
       "    <tr>\n",
       "      <th>886</th>\n",
       "      <td>0</td>\n",
       "      <td>2</td>\n",
       "      <td>male</td>\n",
       "      <td>S</td>\n",
       "    </tr>\n",
       "    <tr>\n",
       "      <th>887</th>\n",
       "      <td>1</td>\n",
       "      <td>1</td>\n",
       "      <td>female</td>\n",
       "      <td>S</td>\n",
       "    </tr>\n",
       "    <tr>\n",
       "      <th>888</th>\n",
       "      <td>0</td>\n",
       "      <td>3</td>\n",
       "      <td>female</td>\n",
       "      <td>S</td>\n",
       "    </tr>\n",
       "    <tr>\n",
       "      <th>889</th>\n",
       "      <td>1</td>\n",
       "      <td>1</td>\n",
       "      <td>male</td>\n",
       "      <td>C</td>\n",
       "    </tr>\n",
       "    <tr>\n",
       "      <th>890</th>\n",
       "      <td>0</td>\n",
       "      <td>3</td>\n",
       "      <td>male</td>\n",
       "      <td>Q</td>\n",
       "    </tr>\n",
       "  </tbody>\n",
       "</table>\n",
       "<p>891 rows × 4 columns</p>\n",
       "</div>"
      ],
      "text/plain": [
       "     Survived  Pclass     Sex Embarked\n",
       "0           0       3    male        S\n",
       "1           1       1  female        C\n",
       "2           1       3  female        S\n",
       "3           1       1  female        S\n",
       "4           0       3    male        S\n",
       "..        ...     ...     ...      ...\n",
       "886         0       2    male        S\n",
       "887         1       1  female        S\n",
       "888         0       3  female        S\n",
       "889         1       1    male        C\n",
       "890         0       3    male        Q\n",
       "\n",
       "[891 rows x 4 columns]"
      ]
     },
     "execution_count": 11,
     "metadata": {},
     "output_type": "execute_result"
    }
   ],
   "source": [
    "# We saw that to access a single column, you can use df['column_name'].\n",
    "# To access many columns in a DataFrame, you can pass a list of column names using df[column_list].\n",
    "categorical_vars = [\"Survived\",\"Pclass\",\"Sex\",\"Embarked\"]\n",
    "titanic_data[categorical_vars]"
   ]
  },
  {
   "cell_type": "markdown",
   "id": "efc464e2-2d6b-41cb-b72d-68eed09213da",
   "metadata": {},
   "source": [
    "Looking at the Titanic dataset, or just understanding the meaning of the variables and the values it takes, the following categorical variables can be classified as nominal or ordinal:\n",
    "\n",
    "- Nominal Variables:\n",
    "\n",
    "    - Sex: It has two categories: Male and Female. This variable is nominal since there is no inherent order or ranking between the categories.\n",
    "\n",
    "    - Embarked: Indicates the port of embarkation. It has three categories: C (Cherbourg), Q (Queenstown), and S (Southampton). This variable is also nominal since the categories represent distinct locations with no inherent order.\n",
    "    \n",
    "    - Survived: While it represents two distinct categories, there is no inherent order or ranking between them. Therefore, it does not possess an ordinal nature.\n",
    "\n",
    "- Ordinal Variable:\n",
    "\n",
    "    - Pclass: Represents the passenger class. It has three categories: 1 (first class), 2 (second class), and 3 (third class). This variable is ordinal because the categories have a natural order or hierarchy based on the class hierarchy (first class being higher than second and third class)."
   ]
  },
  {
   "cell_type": "markdown",
   "id": "95eecd87-c851-4e8d-91eb-49a216331497",
   "metadata": {},
   "source": [
    "# Exercises"
   ]
  },
  {
   "cell_type": "markdown",
   "id": "e6253190-dcc6-45ef-bd75-d46dfe665e31",
   "metadata": {},
   "source": [
    "1. Exploring Variables in the Student Performance Dataset\n",
    "\n",
    "**Objective**: Identify the variables in the Student Performance dataset and classify them as numerical or categorical, as well as determine if they are continuous or discrete, and whether they are ordinal or nominal.\n",
    "\n",
    "**Dataset Description**:\n",
    "The Student Performance dataset contains information about students' performance in exams. It includes various attributes such as gender, ethnicity, parental level of education, test scores, and more.\n",
    "\n",
    "**Instructions**:\n",
    "- Load the Student Performance dataset into a DataFrame called df.\n",
    "- Examine the dataset and the available columns.\n",
    "- For each column, determine its data type and classify it accordingly:\n",
    "\n",
    "    a) Identify the numerical variables and specify if they are continuous or discrete.\n",
    "\n",
    "    b) Identify the categorical variables and specify if they are ordinal or nominal.\n",
    "\n",
    "Remember to consider the nature of the variables, their values, and the context of the dataset when classifying them. Some variables may require further examination or interpretation to determine their exact classification."
   ]
  },
  {
   "cell_type": "code",
   "execution_count": 14,
   "id": "49a5073d-0c04-4519-821a-f60f0ae13457",
   "metadata": {},
   "outputs": [],
   "source": [
    "# Dataset source URL\n",
    "url = \"https://raw.githubusercontent.com/data-bootcamp-v4/prework_data/main/students_performance.csv\"\n",
    "\n",
    "import pandas as pd\n",
    "\n",
    "df = pd.read_csv('https://raw.githubusercontent.com/data-bootcamp-v4/prework_data/main/students_performance.csv')\n",
    "\n",
    "df.to_csv(r'C:\\Users\\lluis\\Documents\\IronHack\\PreWork\\Block 2\\students_performance.csv')"
   ]
  },
  {
   "cell_type": "markdown",
   "id": "e1d40607-7f8b-467e-9c80-760866d889b5",
   "metadata": {},
   "source": [
    "# Additional Content: Data types and pandas"
   ]
  },
  {
   "cell_type": "raw",
   "id": "fe609534-dfb3-479e-a477-798abaa41a4f",
   "metadata": {
    "tags": []
   },
   "source": [
    "Not Included in Pre-Work Assessment\n",
    "\n",
    "The following content provides additional information on the topic but will not be covered in the pre-work assessment. It serves as supplementary material to enhance your understanding beyond the assessment requirements."
   ]
  },
  {
   "cell_type": "markdown",
   "id": "08a0bf20-5df0-4dff-aa36-74881c8c2e2b",
   "metadata": {},
   "source": [
    "In Python, we can use methods like dtypes and select_dtypes in pandas to analyze data types. "
   ]
  },
  {
   "cell_type": "markdown",
   "id": "bc6e70af-23cc-4c7e-8d9d-e7aa61022a20",
   "metadata": {},
   "source": [
    "In terms of data types:\n",
    "\n",
    "- `int` (integer): Represents whole numbers without decimal places. For example, the \"Pclass\" variable in the Titanic dataset, representing passenger class.\n",
    "- `float` (floating-point): Represents numbers with decimal places. For example, the \"Fare\" variable in the Titanic dataset, representing the fare paid by passengers.\n",
    "- `object`: Represents non-numeric data types, such as strings. For example, the \"Name\" variable in the Titanic dataset, containing passenger names."
   ]
  },
  {
   "cell_type": "markdown",
   "id": "b2cd103e-0ba0-40ac-a049-fc7716f6e096",
   "metadata": {
    "tags": []
   },
   "source": [
    "## dtypes"
   ]
  },
  {
   "cell_type": "markdown",
   "id": "a9ae5af2-bbc0-4480-8ca9-d8a88daa279b",
   "metadata": {},
   "source": [
    "The dtypes attribute in pandas is used to retrieve the data types of columns in a DataFrame. It provides information about the data type of each column, allowing you to understand how the data is stored and processed."
   ]
  },
  {
   "cell_type": "code",
   "execution_count": 15,
   "id": "7a706d3c-4b4c-44f7-b3f8-b47f00d61cfc",
   "metadata": {},
   "outputs": [
    {
     "data": {
      "text/plain": [
       "PassengerId      int64\n",
       "Survived         int64\n",
       "Pclass           int64\n",
       "Name            object\n",
       "Sex             object\n",
       "Age            float64\n",
       "SibSp            int64\n",
       "Parch            int64\n",
       "Ticket          object\n",
       "Fare           float64\n",
       "Cabin           object\n",
       "Embarked        object\n",
       "dtype: object"
      ]
     },
     "execution_count": 15,
     "metadata": {},
     "output_type": "execute_result"
    }
   ],
   "source": [
    "# Get the data types of all columns\n",
    "titanic_data.dtypes"
   ]
  },
  {
   "cell_type": "markdown",
   "id": "0a37636c-1d2a-4ae1-9003-feea144efd12",
   "metadata": {},
   "source": [
    "## select_dtypes"
   ]
  },
  {
   "cell_type": "markdown",
   "id": "27485aab-0731-422c-837e-54a38c068531",
   "metadata": {},
   "source": [
    "The `select_dtypes` method in pandas allows you to select columns from a DataFrame based on their data types. It helps you filter and retrieve specific columns that match the desired data types."
   ]
  },
  {
   "cell_type": "markdown",
   "id": "ba17a8c8-4dd3-4a6e-bc75-43aaa34db998",
   "metadata": {},
   "source": [
    "The syntax for select_dtypes is as follows:\n",
    "```python\n",
    "df.select_dtypes(include=None, exclude=None)\n",
    "```\n",
    "\n",
    "- include: Specifies the data types to include. It accepts a string or a list of strings representing the desired data types. For example, include='object' will select columns with the object data type.\n",
    "- exclude: Specifies the data types to exclude. It also accepts a string or a list of strings representing the data types to be excluded. For example, exclude=['int64', 'float64'] will exclude columns with the int64 and float64 data types.\n",
    "\n",
    "By default, if neither include nor exclude is provided, select_dtypes will return all columns of the DataFrame."
   ]
  },
  {
   "cell_type": "code",
   "execution_count": 16,
   "id": "2f0ff040-3932-4b92-b867-25444f4ddf06",
   "metadata": {},
   "outputs": [],
   "source": [
    "# Select columns with specific data types, in this case, with numeric data types, which are typically numerical variables\n",
    "numerical_variables = titanic_data.select_dtypes(include=['int64', 'float64'])"
   ]
  },
  {
   "cell_type": "code",
   "execution_count": null,
   "id": "a312810b-46f1-4faa-93c6-4d9ef375a757",
   "metadata": {},
   "outputs": [],
   "source": [
    "numerical_variables"
   ]
  },
  {
   "cell_type": "code",
   "execution_count": 17,
   "id": "a15098c0-3ac8-46e8-a29d-94795c38a463",
   "metadata": {},
   "outputs": [
    {
     "data": {
      "text/html": [
       "<div>\n",
       "<style scoped>\n",
       "    .dataframe tbody tr th:only-of-type {\n",
       "        vertical-align: middle;\n",
       "    }\n",
       "\n",
       "    .dataframe tbody tr th {\n",
       "        vertical-align: top;\n",
       "    }\n",
       "\n",
       "    .dataframe thead th {\n",
       "        text-align: right;\n",
       "    }\n",
       "</style>\n",
       "<table border=\"1\" class=\"dataframe\">\n",
       "  <thead>\n",
       "    <tr style=\"text-align: right;\">\n",
       "      <th></th>\n",
       "      <th>Name</th>\n",
       "      <th>Sex</th>\n",
       "      <th>Ticket</th>\n",
       "      <th>Cabin</th>\n",
       "      <th>Embarked</th>\n",
       "    </tr>\n",
       "  </thead>\n",
       "  <tbody>\n",
       "    <tr>\n",
       "      <th>0</th>\n",
       "      <td>Braund, Mr. Owen Harris</td>\n",
       "      <td>male</td>\n",
       "      <td>A/5 21171</td>\n",
       "      <td>NaN</td>\n",
       "      <td>S</td>\n",
       "    </tr>\n",
       "    <tr>\n",
       "      <th>1</th>\n",
       "      <td>Cumings, Mrs. John Bradley (Florence Briggs Th...</td>\n",
       "      <td>female</td>\n",
       "      <td>PC 17599</td>\n",
       "      <td>C85</td>\n",
       "      <td>C</td>\n",
       "    </tr>\n",
       "    <tr>\n",
       "      <th>2</th>\n",
       "      <td>Heikkinen, Miss. Laina</td>\n",
       "      <td>female</td>\n",
       "      <td>STON/O2. 3101282</td>\n",
       "      <td>NaN</td>\n",
       "      <td>S</td>\n",
       "    </tr>\n",
       "    <tr>\n",
       "      <th>3</th>\n",
       "      <td>Futrelle, Mrs. Jacques Heath (Lily May Peel)</td>\n",
       "      <td>female</td>\n",
       "      <td>113803</td>\n",
       "      <td>C123</td>\n",
       "      <td>S</td>\n",
       "    </tr>\n",
       "    <tr>\n",
       "      <th>4</th>\n",
       "      <td>Allen, Mr. William Henry</td>\n",
       "      <td>male</td>\n",
       "      <td>373450</td>\n",
       "      <td>NaN</td>\n",
       "      <td>S</td>\n",
       "    </tr>\n",
       "    <tr>\n",
       "      <th>...</th>\n",
       "      <td>...</td>\n",
       "      <td>...</td>\n",
       "      <td>...</td>\n",
       "      <td>...</td>\n",
       "      <td>...</td>\n",
       "    </tr>\n",
       "    <tr>\n",
       "      <th>886</th>\n",
       "      <td>Montvila, Rev. Juozas</td>\n",
       "      <td>male</td>\n",
       "      <td>211536</td>\n",
       "      <td>NaN</td>\n",
       "      <td>S</td>\n",
       "    </tr>\n",
       "    <tr>\n",
       "      <th>887</th>\n",
       "      <td>Graham, Miss. Margaret Edith</td>\n",
       "      <td>female</td>\n",
       "      <td>112053</td>\n",
       "      <td>B42</td>\n",
       "      <td>S</td>\n",
       "    </tr>\n",
       "    <tr>\n",
       "      <th>888</th>\n",
       "      <td>Johnston, Miss. Catherine Helen \"Carrie\"</td>\n",
       "      <td>female</td>\n",
       "      <td>W./C. 6607</td>\n",
       "      <td>NaN</td>\n",
       "      <td>S</td>\n",
       "    </tr>\n",
       "    <tr>\n",
       "      <th>889</th>\n",
       "      <td>Behr, Mr. Karl Howell</td>\n",
       "      <td>male</td>\n",
       "      <td>111369</td>\n",
       "      <td>C148</td>\n",
       "      <td>C</td>\n",
       "    </tr>\n",
       "    <tr>\n",
       "      <th>890</th>\n",
       "      <td>Dooley, Mr. Patrick</td>\n",
       "      <td>male</td>\n",
       "      <td>370376</td>\n",
       "      <td>NaN</td>\n",
       "      <td>Q</td>\n",
       "    </tr>\n",
       "  </tbody>\n",
       "</table>\n",
       "<p>891 rows × 5 columns</p>\n",
       "</div>"
      ],
      "text/plain": [
       "                                                  Name     Sex  \\\n",
       "0                              Braund, Mr. Owen Harris    male   \n",
       "1    Cumings, Mrs. John Bradley (Florence Briggs Th...  female   \n",
       "2                               Heikkinen, Miss. Laina  female   \n",
       "3         Futrelle, Mrs. Jacques Heath (Lily May Peel)  female   \n",
       "4                             Allen, Mr. William Henry    male   \n",
       "..                                                 ...     ...   \n",
       "886                              Montvila, Rev. Juozas    male   \n",
       "887                       Graham, Miss. Margaret Edith  female   \n",
       "888           Johnston, Miss. Catherine Helen \"Carrie\"  female   \n",
       "889                              Behr, Mr. Karl Howell    male   \n",
       "890                                Dooley, Mr. Patrick    male   \n",
       "\n",
       "               Ticket Cabin Embarked  \n",
       "0           A/5 21171   NaN        S  \n",
       "1            PC 17599   C85        C  \n",
       "2    STON/O2. 3101282   NaN        S  \n",
       "3              113803  C123        S  \n",
       "4              373450   NaN        S  \n",
       "..                ...   ...      ...  \n",
       "886            211536   NaN        S  \n",
       "887            112053   B42        S  \n",
       "888        W./C. 6607   NaN        S  \n",
       "889            111369  C148        C  \n",
       "890            370376   NaN        Q  \n",
       "\n",
       "[891 rows x 5 columns]"
      ]
     },
     "execution_count": 17,
     "metadata": {},
     "output_type": "execute_result"
    }
   ],
   "source": [
    "# Selecting columns with object data type, which are typically categorical variables\n",
    "categorical_variables = titanic_data.select_dtypes(include=['object'])\n",
    "categorical_variables"
   ]
  },
  {
   "cell_type": "markdown",
   "id": "bab5d30e-6f12-439c-b82e-18a36f32f1a4",
   "metadata": {},
   "source": [
    "## Important observation"
   ]
  },
  {
   "cell_type": "markdown",
   "id": "3d937352-be84-4ce2-99be-fba6a5516155",
   "metadata": {},
   "source": [
    "It is important to note that **we cannot solely rely on the assumption that `object` data type indicates categorical variables, while `int` or `float` data types indicate numerical variables**. To ensure accuracy, let's compare these results with our previous analysis and examine any differences. \n",
    "\n",
    "Have in mind that:\n",
    "\n",
    "- **Numbers can indicate categories**: The presence of numbers in a column does not necessarily mean it represents a numerical variable. We can use the `nunique()` method to determine the number of unique values in a column. If the number of unique values is small, it suggests that the variable is categorical, even if it is represented as a number. It is crucial to understand the variable's meaning and context to correctly interpret its data type.\n",
    "\n",
    "- **Errors in data can affect data types**: In certain cases, errors or inconsistencies in the data can lead to a numerical variable being classified as an object data type. For example, if an \"Age\" column contains a space or a value like \"h25\", it would be stored as an object data type instead of an int or float. This can be misleading and may lead to confusion if the variable is incorrectly assumed to be categorical.\n",
    "\n",
    "Therefore, it is essential to consider the unique values, data information, and the intended meaning of a variable when determining its data type, rather than solely relying on the data type itself."
   ]
  }
 ],
 "metadata": {
  "kernelspec": {
   "display_name": "Python 3 (ipykernel)",
   "language": "python",
   "name": "python3"
  },
  "language_info": {
   "codemirror_mode": {
    "name": "ipython",
    "version": 3
   },
   "file_extension": ".py",
   "mimetype": "text/x-python",
   "name": "python",
   "nbconvert_exporter": "python",
   "pygments_lexer": "ipython3",
   "version": "3.11.7"
  }
 },
 "nbformat": 4,
 "nbformat_minor": 5
}
