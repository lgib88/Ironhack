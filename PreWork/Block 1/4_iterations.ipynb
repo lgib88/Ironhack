{
 "cells": [
  {
   "cell_type": "markdown",
   "metadata": {
    "id": "KrahGtLGD6ON",
    "tags": []
   },
   "source": [
    "# Iterations "
   ]
  },
  {
   "cell_type": "markdown",
   "metadata": {},
   "source": [
    "Iterations are a fundamental concept in programming that allow us to repeat a block of code multiple times. "
   ]
  },
  {
   "cell_type": "markdown",
   "metadata": {},
   "source": [
    "In Python, there are two primary ways to perform **loops**: using **`for` loops** and **`while` loops**."
   ]
  },
  {
   "cell_type": "markdown",
   "metadata": {},
   "source": [
    "## For Loop\n",
    "\n",
    "A `for` loop is used to **iterate over a sequence** (such as a list, tuple, or string) or any iterable object. It **executes a block of code for each item** in the sequence."
   ]
  },
  {
   "cell_type": "markdown",
   "metadata": {},
   "source": [
    "```python\n",
    "for item in sequence:\n",
    "    # Code to be executed for each item\n",
    "```"
   ]
  },
  {
   "cell_type": "markdown",
   "metadata": {},
   "source": [
    "Here's a breakdown of each component:\n",
    "\n",
    "- `for` keyword: Starts the for loop.\n",
    "- `item`: Represents a variable that holds the current item in each iteration. \n",
    "    -  You can choose any valid variable name. It's a good practice to choose a meaningful variable name and one that hasn't been used before in your code to avoid overwriting its content.\n",
    "    - The variable (e.g., *item*) takes on the value of each element in the sequence or iterable, one at a time. This process continues until all the values in the sequence have been used, resulting in the statements being repeated as many times as there are elements in the sequence.\n",
    "- `in` operator: Specifies the sequence or collection to iterate over.\n",
    "- `sequence`: Refers to the list, tuple, string, range, or any other iterable object that you want to loop through.\n",
    "- `: colon`: is an essential symbol used in Python to indicate the start of a loop block. Following the colon, you should indent the subsequent lines of code consistently. \n",
    "- `Code to be executed`: \n",
    "    - **Indentation**: Although Jupyter Notebook and Google Colab automatically handle the indentation, it's important to ensure that the code is indented in the desired way for proper execution. Indentation plays a crucial role in Python, as it determines which lines of code are part of the loop and helps maintain the code's structure and readability.\n",
    "    - You can have as many lines of code as you need inside the for loop's block. These lines will be repeated for each item in the sequence.\n",
    "    - The statements inside the for loop's block will be repeated as many times as there are elements in the sequence. The block is executed once for each item in the sequence, following a specific order.\n"
   ]
  },
  {
   "cell_type": "markdown",
   "metadata": {},
   "source": [
    "Let's look at some examples to understand how the `for` loop works. "
   ]
  },
  {
   "cell_type": "markdown",
   "metadata": {},
   "source": [
    "### Iterating through a list"
   ]
  },
  {
   "cell_type": "markdown",
   "metadata": {},
   "source": [
    "In this example we will iterate through a list of fruits. "
   ]
  },
  {
   "cell_type": "code",
   "execution_count": null,
   "metadata": {},
   "outputs": [],
   "source": [
    "fruits = [\"apple\", \"banana\", \"orange\"]\n",
    "\n",
    "for fruit in fruits:\n",
    "    print(fruit) # This is executed 3 times since there are 3 elements in the fruits list"
   ]
  },
  {
   "cell_type": "markdown",
   "metadata": {},
   "source": [
    "In this example, the variable fruit takes on each item in the fruits list, and the print statement is executed for each item.\n",
    "\n",
    "Note that the `:` colon after the iterable entry point indicates the start of a statement block. The indentation  visually separates the statement block from the rest of the code.\n",
    "\n",
    "The loop will iterate through all items in the sequence, executing the statement block once for each item."
   ]
  },
  {
   "cell_type": "code",
   "execution_count": null,
   "metadata": {},
   "outputs": [],
   "source": [
    "fruits = [\"apple\", \"banana\", \"orange\"]\n",
    "\n",
    "for fruit in fruits:\n",
    "    print(fruit) # This is executed 3 times since there are 3 elements in the fruits list\n",
    "    \n",
    "print(\"This line is outside the loop so it is only executed once\")"
   ]
  },
  {
   "cell_type": "markdown",
   "metadata": {},
   "source": [
    "Code blocks that have the same indentation level are executed together. This is true not only for conditional statements like if, elif, and else, but also for loops and other structures."
   ]
  },
  {
   "cell_type": "code",
   "execution_count": null,
   "metadata": {},
   "outputs": [],
   "source": [
    "fruits = [\"apple\", \"banana\", \"orange\"]\n",
    "\n",
    "for fruit in fruits:\n",
    "    print(fruit) # This is executed 3 times since there are 3 elements in the fruits list\n",
    "    print(\"hey!\") # This is also inside the loop and it is executed 3 times, each time after the previous line is executed\n",
    "    \n",
    "print(\"This line is outside the loop so it is only executed once\")"
   ]
  },
  {
   "cell_type": "markdown",
   "metadata": {},
   "source": [
    "Here's another example where we iterate over a list of names and print each name:"
   ]
  },
  {
   "cell_type": "code",
   "execution_count": null,
   "metadata": {},
   "outputs": [],
   "source": [
    "names = [\"Alice\", \"Bob\", \"Charlie\", \"Dave\"]\n",
    "\n",
    "for name in names:\n",
    "    print(\"Hello, \" + name + \"!\")"
   ]
  },
  {
   "cell_type": "markdown",
   "metadata": {},
   "source": [
    "### Iterating through a string"
   ]
  },
  {
   "cell_type": "markdown",
   "metadata": {},
   "source": [
    "You can also use a for loop with strings. In the following example, we iterate over each character in a string and print them individually:"
   ]
  },
  {
   "cell_type": "code",
   "execution_count": null,
   "metadata": {},
   "outputs": [],
   "source": [
    "message = \"Hello, World!\"\n",
    "\n",
    "for char in message:\n",
    "    print(char)"
   ]
  },
  {
   "cell_type": "markdown",
   "metadata": {},
   "source": [
    "### Iterating with the range() function"
   ]
  },
  {
   "cell_type": "markdown",
   "metadata": {},
   "source": [
    "If we want to print the numbers from 1 to 5, we need to use the `range()` function. The `range()` function in Python is used to generate a sequence of numbers. It is commonly **used in `for` loops to iterate over a specific range of numbers.**\n",
    "\n",
    "The `range()` function can be called in three different ways:\n",
    "\n",
    "- `range(stop)`: Generates a sequence of numbers starting from 0 up to (but not including) the specified stop value.\n",
    "- `range(start, stop)`: Generates a sequence of numbers starting from the start value up to (but not including) the stop value.\n",
    "- `range(start, stop, step)`: Generates a sequence of numbers starting from the start value up to (but not including) the stop value, with a specified step value as the increment."
   ]
  },
  {
   "cell_type": "code",
   "execution_count": null,
   "metadata": {},
   "outputs": [],
   "source": [
    "for number in range(1, 6):\n",
    "    print(number)"
   ]
  },
  {
   "cell_type": "markdown",
   "metadata": {},
   "source": [
    "In this example, range(1, 6) generates a sequence of numbers from 1 to 5 (inclusive). The for loop iterates over each number in the sequence, and the variable number takes on the value of each number in each iteration. The print(number) statement inside the loop's block prints each number."
   ]
  },
  {
   "cell_type": "markdown",
   "metadata": {},
   "source": [
    "Another example of the range function:"
   ]
  },
  {
   "cell_type": "code",
   "execution_count": null,
   "metadata": {
    "id": "qcU1NWarD6OY",
    "outputId": "69003652-5770-4e33-e101-b973815078fe"
   },
   "outputs": [],
   "source": [
    "# \"i\" is the variable here. It takes on values from the range() function from 0 to 9, iteratively\n",
    "# By default, the values are generated starting with 0 \n",
    "for i in range(10):  \n",
    "    print(i)"
   ]
  },
  {
   "cell_type": "markdown",
   "metadata": {},
   "source": [
    "### Combining loops with conditional statements"
   ]
  },
  {
   "cell_type": "markdown",
   "metadata": {},
   "source": [
    "You can **combine for loops with conditional statements (if-else)** to perform certain actions based on specific conditions. \n",
    "\n",
    "Here's an example that prints only the even numbers from 1 to 10:"
   ]
  },
  {
   "cell_type": "code",
   "execution_count": null,
   "metadata": {},
   "outputs": [],
   "source": [
    "for number in range(1, 11):\n",
    "    if number % 2 == 0:\n",
    "        print(number)"
   ]
  },
  {
   "cell_type": "markdown",
   "metadata": {
    "id": "d8IHtPpKD6OZ"
   },
   "source": [
    "Pay attention to the flow of the code and the indentation. `if` condition is executed 10 times, but \"number\" is only printed when the condition is met because it is contained inside the `if` statement."
   ]
  },
  {
   "cell_type": "markdown",
   "metadata": {},
   "source": [
    "### Incrementing a variable with a loop"
   ]
  },
  {
   "cell_type": "markdown",
   "metadata": {},
   "source": [
    "In the next example, we'll demonstrate how to use a for loop to increment a variable by a constant value at each iteration. We'll start with an initial value of `a` and increase it by a fixed amount in each iteration of the loop. After each iteration, we'll print the value of `a`. Finally, we'll print the final value of `a` once the for loop completes."
   ]
  },
  {
   "cell_type": "code",
   "execution_count": null,
   "metadata": {},
   "outputs": [],
   "source": [
    "a = 0  # Initial value of 'a'\n",
    "increment = 5  # Constant value to increment 'a' by\n",
    "\n",
    "for i in range(5):  # Iterate 5 times\n",
    "    a += increment  # Increment 'a' by 'increment' value\n",
    "    print(a)  # Print the value of 'a' at each iteration\n",
    "\n",
    "print(\"Final value of 'a':\", a)  # Print the final value of 'a' after the for loop"
   ]
  },
  {
   "cell_type": "markdown",
   "metadata": {},
   "source": [
    "In this example, we initialize the variable a to 0. Within the for loop, we use the += operator to increment a by the value of increment (which is 5 in this case) at each iteration. The print(a) statement inside the loop displays the current value of a after each increment. Finally, outside the loop, we print the final value of a once the loop completes."
   ]
  },
  {
   "cell_type": "markdown",
   "metadata": {},
   "source": [
    "### Adding the elements of a list"
   ]
  },
  {
   "cell_type": "markdown",
   "metadata": {
    "id": "3TpGHrEfD6Of"
   },
   "source": [
    "Here's a simple example that demonstrates adding the elements of a list. We'll break it down into several steps:\n",
    "\n",
    "1. First, we define a list with multiple elements.\n",
    "2. Next, we create a variable called total to keep track of the sum of all the elements in the list.\n",
    "3. Since we know the number of elements we want to add, we can use a for loop to iterate through each element in the list.\n",
    "4. Inside the loop, we update the value of the total variable by adding the current element to it."
   ]
  },
  {
   "cell_type": "code",
   "execution_count": null,
   "metadata": {},
   "outputs": [],
   "source": [
    "my_list = [2, 4, 6, 8, 10]  # Define a list\n",
    "\n",
    "total = 0  # Variable to store the sum of list elements\n",
    "\n",
    "for element in my_list:  # Iterate through each element in the list\n",
    "    total += element  # Update the value of 'total' by adding the current element\n",
    "\n",
    "print(\"The sum of the elements in the list is:\", total)  # Print the final sum\n"
   ]
  },
  {
   "cell_type": "markdown",
   "metadata": {},
   "source": [
    "### Create an empty list and populate it"
   ]
  },
  {
   "cell_type": "markdown",
   "metadata": {},
   "source": [
    "In the following example, we'll demonstrate how to create an empty list and populate it with elements using iterations.\n",
    "\n",
    "Problem Statement: We have a list containing some integer elements, and we want to create a new list that consists of the squares of each element from the original list.\n",
    "\n",
    "To solve this problem, we can use the `append()` function, which specifically works with lists. It allows us to add elements of any kind to the end of a given list."
   ]
  },
  {
   "cell_type": "code",
   "execution_count": null,
   "metadata": {},
   "outputs": [],
   "source": [
    "original_list = [2, 4, 6, 8, 10]  # Given list with integer elements\n",
    "squared_list = []  # Empty list to store the squares\n",
    "\n",
    "for element in original_list:  # Iterate through each element in the original list\n",
    "    squared_list.append(element ** 2)  # Append the square of the element to the squared list\n",
    "\n",
    "print(\"Original List:\", original_list)\n",
    "print(\"Squared List:\", squared_list)"
   ]
  },
  {
   "cell_type": "markdown",
   "metadata": {
    "id": "m5U0Px-2D6Og"
   },
   "source": [
    "### Iterating on dictionaries\n",
    "\n",
    "Similarly, we can also iterate on the elements of a dictionary. A simple example is shown below:"
   ]
  },
  {
   "cell_type": "code",
   "execution_count": null,
   "metadata": {
    "id": "fTjIHIk_D6Oh"
   },
   "outputs": [],
   "source": [
    "my_dict = {'name': 'John', 'age': 25, 'city': 'New York'}"
   ]
  },
  {
   "cell_type": "markdown",
   "metadata": {},
   "source": [
    "By applying the `.keys()` method on a dictionary, we can obtain an iterable object that can be used in a `for` loop to iterate over all the keys of the dictionary, one by one."
   ]
  },
  {
   "cell_type": "code",
   "execution_count": null,
   "metadata": {
    "id": "G2SyxXhxD6Oh",
    "outputId": "57b01699-9206-472a-d7bd-e4d7a6f912bf"
   },
   "outputs": [],
   "source": [
    "# Iterating over the keys using a for loop\n",
    "for key in my_dict.keys():\n",
    "    # Accessing each key\n",
    "    print(key)"
   ]
  },
  {
   "cell_type": "markdown",
   "metadata": {
    "id": "WtceUnfID6Oh"
   },
   "source": [
    "By applying the `.values()` method on a dictionary, we can obtain an iterable object that can be used in a for `loop` to iterate over all the values of the dictionary, one by one."
   ]
  },
  {
   "cell_type": "code",
   "execution_count": null,
   "metadata": {
    "id": "QmemmBirD6Oh"
   },
   "outputs": [],
   "source": [
    "# Iterating over the values using a for loop\n",
    "for value in my_dict.values():\n",
    "    # Accessing each value\n",
    "    print(value)"
   ]
  },
  {
   "cell_type": "markdown",
   "metadata": {},
   "source": [
    "By applying the `.items()` method on a dictionary, we can obtain an iterable object that contains all the key-value pairs in the dictionary. This iterable can be used in a `for` loop to iterate over each key-value pair."
   ]
  },
  {
   "cell_type": "code",
   "execution_count": null,
   "metadata": {
    "id": "TGbVZ5UHD6Oi",
    "outputId": "2b27b9eb-e6f5-4b5a-b489-b3666a45c836",
    "scrolled": true
   },
   "outputs": [],
   "source": [
    "# Iterating over the key-value pairs using a for loop\n",
    "for key, value in my_dict.items():\n",
    "    # Accessing each key-value pair\n",
    "    print(\"For \", key, \" the value is: \", value)"
   ]
  },
  {
   "cell_type": "markdown",
   "metadata": {},
   "source": [
    "In this case, the `.items()` method returns an iterable of tuples, where each tuple represents a key-value pair from the dictionary `my_dict`. The `for` loop then iterates over each tuple, and within the loop, you can access both the key and the corresponding value and perform operations or work with them as needed."
   ]
  },
  {
   "cell_type": "markdown",
   "metadata": {},
   "source": [
    "When using the `.items()` method, it's important to note that the first value in each iteration represents the `key`, and the second value represents the corresponding `value` associated with that key. The names we assign to the variables in the loop do not affect the order of the key-value pairs."
   ]
  },
  {
   "cell_type": "code",
   "execution_count": null,
   "metadata": {},
   "outputs": [],
   "source": [
    "# Iterating over the key-value pairs using a for loop\n",
    "for custom_key, custom_value in my_dict.items():\n",
    "    # Accessing each key-value pair\n",
    "    print(custom_key, custom_value)"
   ]
  },
  {
   "cell_type": "markdown",
   "metadata": {},
   "source": [
    "In this case, the custom_key variable will hold the key, and the custom_value variable will hold the corresponding value from each key-value pair. You can assign any names to these variables as per your preference, but remember that the first variable will always represent the key, and the second variable will always represent the value associated with that key."
   ]
  },
  {
   "cell_type": "markdown",
   "metadata": {
    "id": "ocK9Yp_kD6Oi"
   },
   "source": [
    " Another example is provided below."
   ]
  },
  {
   "cell_type": "code",
   "execution_count": null,
   "metadata": {
    "id": "0WySk-qBD6Oi",
    "outputId": "5d9fe5e5-d80d-4c60-80f5-18d5316a2170"
   },
   "outputs": [],
   "source": [
    "ages = {'Brian':23, 'Amy':22, 'Darlene':47, 'Ralph':32, 'Jordan':28, 'Stephanie':35}\n",
    "\n",
    "for name, age in ages.items():\n",
    "    print(name, \"is\", age, \"years old.\")"
   ]
  },
  {
   "cell_type": "markdown",
   "metadata": {},
   "source": [
    "Note: Dictionaries are particularly useful for grouping and organizing related data. They allow you to associate values with unique keys. In certain scenarios, dictionaries can be used effectively for counting occurrences or keeping track of different items."
   ]
  },
  {
   "cell_type": "markdown",
   "metadata": {},
   "source": [
    "For example, if you want to count the occurrences of various elements, you can use a dictionary where the keys represent the elements, and the corresponding values store the count of each element."
   ]
  },
  {
   "cell_type": "code",
   "execution_count": null,
   "metadata": {},
   "outputs": [],
   "source": [
    "# Example: Counting occurrences of elements using a dictionary\n",
    "data = [1, 2, 3, 2, 1, 3, 4, 5, 2, 3, 1]\n",
    "\n",
    "# Create an empty dictionary to store the counts\n",
    "counts = {}\n",
    "\n",
    "# Iterate through the elements in the data\n",
    "for element in data:\n",
    "    # Check if the element is already a key in the dictionary\n",
    "    if element in counts:\n",
    "        # Increment the count by 1 if the key exists\n",
    "        counts[element] += 1\n",
    "    else:\n",
    "        # Set the count to 1 if the key doesn't exist\n",
    "        counts[element] = 1\n",
    "\n",
    "# Print the counts\n",
    "for element, count in counts.items():\n",
    "    print(f\"Element {element} occurs {count} times.\")"
   ]
  },
  {
   "cell_type": "markdown",
   "metadata": {},
   "source": [
    "In this example, we use a dictionary `counts` to store the counts of each element in the data list. The keys of the dictionary correspond to the unique elements, and the values represent the count of each element. By iterating through the data list and updating the counts accordingly, we can effectively count the occurrences of different elements."
   ]
  },
  {
   "cell_type": "markdown",
   "metadata": {
    "id": "uYpFsglHD6Ob"
   },
   "source": [
    "-----------------------------"
   ]
  },
  {
   "cell_type": "markdown",
   "metadata": {},
   "source": [
    "## While Loop\n",
    "\n",
    "A `while` loop repeatedly **executes a block of code as long as a given condition is true**. It keeps iterating until the condition becomes false."
   ]
  },
  {
   "cell_type": "markdown",
   "metadata": {},
   "source": [
    "```python\n",
    "while condition:\n",
    "    # Code to be executed\n",
    "```"
   ]
  },
  {
   "cell_type": "markdown",
   "metadata": {
    "id": "tQWD_j80D6Ok"
   },
   "source": [
    "where:\n",
    "- `condition` is any Python logical condition. The `condition` is an expression that evaluates to either True or False. It is checked before executing the block of code inside the loop. If the condition is True, the block of code is executed. If the condition is False, the loop is terminated, and the program continues with the next line of code after the loop. \n",
    "- `code to be executed` it represents the block of code that is executed as long as the condition is true. These statements should be indented to the right to indicate that they are part of the loop."
   ]
  },
  {
   "cell_type": "markdown",
   "metadata": {
    "id": "5RiXFnq4D6Oj"
   },
   "source": [
    "As soon as the condition of the while loop becomes false, the execution of the code inside the loop stops, and the program continues with the code after the while loop.\n",
    "\n",
    "**IMPORTANT**: It's crucial to ensure that the condition of the while loop will eventually change to false; otherwise, the code will continue executing indefinitely, leading to an infinite loop. This can cause the program to become unresponsive or consume excessive resources. Therefore, it's essential to design the condition in a way that guarantees its eventual termination."
   ]
  },
  {
   "cell_type": "code",
   "execution_count": null,
   "metadata": {},
   "outputs": [],
   "source": [
    "count = 0\n",
    "while count < 5:\n",
    "    print(\"Count:\", count)\n",
    "    count += 1 # The value of count is updated based on how many times we want the loop to run or the specific conditions we want to apply."
   ]
  },
  {
   "cell_type": "markdown",
   "metadata": {},
   "source": [
    "In this example, we initialize a variable count with a value of 0. The while loop checks if count is less than 5. If it is, the block of code inside the loop is executed, which prints the current value of count and then increments it by 1. This process is repeated until count is no longer less than 5."
   ]
  },
  {
   "cell_type": "markdown",
   "metadata": {
    "id": "C1WrfMEZD6Ok"
   },
   "source": [
    "**Beware** that we need to change the value of the variable `count` inside the while loop. Otherwise the loop will never end as `count<5` will always be true. "
   ]
  },
  {
   "cell_type": "markdown",
   "metadata": {},
   "source": [
    "We can modify the value of the variable `count` to any other value as shown in the next example."
   ]
  },
  {
   "cell_type": "code",
   "execution_count": null,
   "metadata": {
    "id": "-YIpwkmFD6Ok"
   },
   "outputs": [],
   "source": [
    "count = 0\n",
    "while count<10:\n",
    "    print(\"Hello\")\n",
    "    print(count)\n",
    "    count = count + 3 # we update the value of count depending on how many times or how we want the while loop to work "
   ]
  },
  {
   "cell_type": "markdown",
   "metadata": {},
   "source": [
    "Let's create a program that asks the user for a password and keeps prompting them until they enter the correct password."
   ]
  },
  {
   "cell_type": "code",
   "execution_count": null,
   "metadata": {},
   "outputs": [],
   "source": [
    "# Set the correct password\n",
    "correct_password = \"password123\"\n",
    "\n",
    "# Ask the user for input\n",
    "password = input(\"Enter the password: \")\n",
    "\n",
    "# Create a while loop\n",
    "while password != correct_password:\n",
    "    print(\"Incorrect password. Try again.\")\n",
    "    password = input(\"Enter the password: \")\n",
    "\n",
    "# Code after the while loop\n",
    "print(\"Login successful!\")\n"
   ]
  },
  {
   "cell_type": "markdown",
   "metadata": {},
   "source": [
    "- We start by setting the correct password as \"password123\". We then ask the user to input a password and store it in the password variable.\n",
    "\n",
    "- Next, we create a while loop with the condition password != correct_password, which means the loop will continue executing as long as the entered password is not equal to the correct password.\n",
    "\n",
    "- Inside the loop, we print a message informing the user that the password is incorrect and prompt them to enter the password again using input().\n",
    "\n",
    "- Once the user enters the correct password, the condition password != correct_password becomes false, and the while loop terminates. The program then continues executing the code after the while loop, which in this case, prints \"Login successful!\"\n",
    "\n",
    "- You can run this program and test it by entering different passwords. The loop will keep prompting you until you enter the correct password, at which point the program will print \"Login successful!\" and terminate."
   ]
  },
  {
   "cell_type": "markdown",
   "metadata": {},
   "source": [
    "Let's see another example where we iterate over the characters of a string."
   ]
  },
  {
   "cell_type": "code",
   "execution_count": null,
   "metadata": {
    "id": "boDQe79cD6Ok",
    "outputId": "fa5feddf-13d3-4499-a35d-e73949fe8498"
   },
   "outputs": [],
   "source": [
    "word = \"Ironhack\"\n",
    "i = 0\n",
    "while i < len(word): # The `len()` function returns how many elements (letters or blank spaces) the string has.\n",
    "    print(word[i])\n",
    "    i=i+1"
   ]
  },
  {
   "cell_type": "markdown",
   "metadata": {},
   "source": [
    "We can do the same using a `for` loop:"
   ]
  },
  {
   "cell_type": "code",
   "execution_count": null,
   "metadata": {},
   "outputs": [],
   "source": [
    "word = \"Ironhack\"\n",
    "for i in range(len(word)):\n",
    "    print(word[i])"
   ]
  },
  {
   "cell_type": "markdown",
   "metadata": {},
   "source": [
    "## For vs While loops"
   ]
  },
  {
   "cell_type": "markdown",
   "metadata": {},
   "source": [
    "❗Understanding when to use a `for` loop versus a `while` loop is important. Here's a simple guideline:\n",
    "\n",
    "`For` Loop: Use a `for` loop **when you know the number of repetitions**, regardless of how many. For example, if you need to repeat a task 10 times, use a `for` loop.\n",
    "\n",
    "`While` Loop: Use a `while` loop when **the number of repetitions is not fixed and depends on a condition**. For example, if you need to keep repeating a task until a specific condition is met, use a `while` loop."
   ]
  },
  {
   "cell_type": "markdown",
   "metadata": {},
   "source": [
    "Let's consider a few examples to illustrate this distinction:\n",
    "\n",
    "- For a punishment that requires writing a sentence 500 times, you know the exact number of repetitions in advance (500). Hence, you should use a `for` loop.\n",
    "- However, when studying for an exam, the duration is uncertain. You will continue studying until you feel confident in mastering the lesson. In this case, you don't know the exact number of repetitions in advance, but you have a condition for stopping (mastering the lesson). Therefore, a `while` loop is more appropriate."
   ]
  },
  {
   "cell_type": "markdown",
   "metadata": {
    "id": "sfloBTNND6Of"
   },
   "source": [
    "-----------------------------"
   ]
  },
  {
   "cell_type": "markdown",
   "metadata": {
    "tags": []
   },
   "source": [
    "# Exercises"
   ]
  },
  {
   "cell_type": "markdown",
   "metadata": {
    "id": "hD_jWzm_D6Ob"
   },
   "source": [
    "## 1. Exercise - Simple Iterations "
   ]
  },
  {
   "cell_type": "markdown",
   "metadata": {
    "id": "i82gPbNaD6Oc"
   },
   "source": [
    "**1.1**  Write a simple for loop to print integers from 10 to 30. "
   ]
  },
  {
   "cell_type": "code",
   "execution_count": 1,
   "metadata": {
    "id": "R9xgpmLBD6Oc"
   },
   "outputs": [
    {
     "name": "stdout",
     "output_type": "stream",
     "text": [
      "10\n",
      "11\n",
      "12\n",
      "13\n",
      "14\n",
      "15\n",
      "16\n",
      "17\n",
      "18\n",
      "19\n",
      "20\n",
      "21\n",
      "22\n",
      "23\n",
      "24\n",
      "25\n",
      "26\n",
      "27\n",
      "28\n",
      "29\n",
      "30\n"
     ]
    }
   ],
   "source": [
    "for x in range(10, 31):\n",
    "    print(x)"
   ]
  },
  {
   "cell_type": "markdown",
   "metadata": {
    "id": "ZLjmn0jwD6Oc"
   },
   "source": [
    "**1.2** Update the previous code to print all the numbers from 10 to 30 that are multiples of 5. These are: 5, 10, 15, ..."
   ]
  },
  {
   "cell_type": "code",
   "execution_count": 3,
   "metadata": {
    "id": "rhi3-A0gD6Oc"
   },
   "outputs": [
    {
     "name": "stdout",
     "output_type": "stream",
     "text": [
      "10\n",
      "15\n",
      "20\n",
      "25\n",
      "30\n"
     ]
    }
   ],
   "source": [
    "for x in range(10, 31):\n",
    "    if x % 5 == 0:\n",
    "        print(x)"
   ]
  },
  {
   "cell_type": "markdown",
   "metadata": {
    "id": "nA-Ivr6MD6Oc"
   },
   "source": [
    "**1.3** Modify the dummy code provided to print the following pattern. \n",
    "\n",
    "- The pattern    \n",
    "    ```\n",
    "    *\n",
    "    ***\n",
    "    *****\n",
    "    ```\n",
    "\n",
    "<br>\n",
    "\n",
    "- Dummy Code\n",
    "\n",
    "    ```python\n",
    "    for i in range(1, _, _):\n",
    "        print(\"*\"*i)\n",
    "    ```"
   ]
  },
  {
   "cell_type": "code",
   "execution_count": 11,
   "metadata": {
    "id": "839Sa0cpD6Od"
   },
   "outputs": [
    {
     "name": "stdout",
     "output_type": "stream",
     "text": [
      "*\n",
      "***\n",
      "*****\n"
     ]
    }
   ],
   "source": [
    "for i in range(1, 6, 2):\n",
    "    print(\"*\"*i)"
   ]
  },
  {
   "cell_type": "markdown",
   "metadata": {
    "id": "Y-r13CBRD6Od"
   },
   "source": [
    "**1.4** Update the following code to print the pattern:\n",
    "\n",
    "  ```\n",
    "    *\n",
    "   ***\n",
    "  *****\n",
    "  ```\n",
    "\n",
    "  ```python\n",
    "  a = # Fill the starting value\n",
    "  for i in range(1, _, _):\n",
    "    a = a - 1\n",
    "    print(\" \"*a+\"*\"*i)\n",
    "  ```"
   ]
  },
  {
   "cell_type": "code",
   "execution_count": 12,
   "metadata": {
    "id": "Qz-SKZSfD6Od"
   },
   "outputs": [
    {
     "name": "stdout",
     "output_type": "stream",
     "text": [
      "  *\n",
      " ***\n",
      "*****\n"
     ]
    }
   ],
   "source": [
    "a = 3\n",
    "\n",
    "for i in range(1, 6, 2):\n",
    "    a = a - 1\n",
    "    print(\" \"*a + \"*\"*i)"
   ]
  },
  {
   "cell_type": "markdown",
   "metadata": {
    "id": "DWV8_ryhD6Od"
   },
   "source": [
    "**1.5** Use the function `input()` to prompt the user to enter an integer number. Then calculate the factorial of that number using loops. To verify the correctness of your result, you can compare it with the factorial calculated using the `factorial` function from the `math` library.\n",
    "\n",
    "<br>\n",
    "\n",
    "```python\n",
    "import math\n",
    "math.factorial(n) # n is the positive integer for which we want to calculate the factorial \n",
    "```\n",
    "\n",
    "**Note**: Factorial is defined as:\n",
    "\n",
    "```\n",
    "5 ! = 5*4*3*2*1  # \" ! \" is the mathematical notation for factorial\n",
    "    \n",
    "n! = n*(n-1)*(n-2)*..........*1\n",
    "```"
   ]
  },
  {
   "cell_type": "code",
   "execution_count": 18,
   "metadata": {
    "id": "nlky63ApD6Od"
   },
   "outputs": [
    {
     "name": "stdin",
     "output_type": "stream",
     "text": [
      "enter an integer 18\n"
     ]
    },
    {
     "name": "stdout",
     "output_type": "stream",
     "text": [
      "the factorial of 18 using loops is 6402373705728000\n",
      "The factorial of 18 using math library is 6402373705728000\n"
     ]
    }
   ],
   "source": [
    "import math\n",
    "\n",
    "n = input(\"enter an integer\")\n",
    "\n",
    "n = int(n)\n",
    "\n",
    "factorial = 1\n",
    "\n",
    "for i in range(1, n + 1):\n",
    "    factorial *= i\n",
    "\n",
    "print(f\"the factorial of {n} using loops is {factorial}\")\n",
    "\n",
    "fact_math = math.factorial(n)\n",
    "\n",
    "print(f\"The factorial of {n} using math library is {fact_math}\")"
   ]
  },
  {
   "cell_type": "markdown",
   "metadata": {
    "id": "aAM3MT2-D6Oe"
   },
   "source": [
    "-----------------------------"
   ]
  },
  {
   "cell_type": "markdown",
   "metadata": {
    "id": "o8GHC6l_D6Og"
   },
   "source": [
    "## 2. Exercise - Iterations on Lists"
   ]
  },
  {
   "cell_type": "markdown",
   "metadata": {
    "id": "dPmp1YIgD6Og"
   },
   "source": [
    "Given the list:\n",
    "```python\n",
    "x = [12, 43, 4, 1, 6, 343, 10, 34, 12, 93, 783, 330, 896, 1, 55]\n",
    "```"
   ]
  },
  {
   "cell_type": "markdown",
   "metadata": {},
   "source": [
    "**2.1** Write code to find only those numbers in the list that are divisible by 3."
   ]
  },
  {
   "cell_type": "code",
   "execution_count": 19,
   "metadata": {},
   "outputs": [
    {
     "name": "stdout",
     "output_type": "stream",
     "text": [
      "[12, 6, 12, 93, 783, 330]\n"
     ]
    }
   ],
   "source": [
    "x = [12, 43, 4, 1, 6, 343, 10, 34, 12, 93, 783, 330, 896, 1, 55]\n",
    "\n",
    "div_3 = [num for num in x if num % 3 == 0]\n",
    "\n",
    "print(div_3)"
   ]
  },
  {
   "cell_type": "markdown",
   "metadata": {},
   "source": [
    "**2.2** Write code to find only those numbers in a list that end with the digit 3. Create a new list with those numbers. To accomplish this, you can convert the integers to strings and use indexing to access the last digit. Here's an example of how to use indexing with strings:\n",
    "\n",
    "```python\n",
    "string_value = 'IRONHACK'\n",
    "string_value[0]\n",
    "```"
   ]
  },
  {
   "cell_type": "code",
   "execution_count": 20,
   "metadata": {},
   "outputs": [
    {
     "name": "stdout",
     "output_type": "stream",
     "text": [
      "[43, 343, 93, 783]\n"
     ]
    }
   ],
   "source": [
    "x = [12, 43, 4, 1, 6, 343, 10, 34, 12, 93, 783, 330, 896, 1, 55]\n",
    "\n",
    "end_3 = [num for num in x if str(num)[-1] == '3']\n",
    "\n",
    "print(end_3)"
   ]
  },
  {
   "cell_type": "markdown",
   "metadata": {},
   "source": [
    "**2.3** Find the minimum value in the list `x`. You can research if there is any function available directly to calculate the minimum value."
   ]
  },
  {
   "cell_type": "code",
   "execution_count": 21,
   "metadata": {},
   "outputs": [
    {
     "name": "stdout",
     "output_type": "stream",
     "text": [
      "1\n"
     ]
    }
   ],
   "source": [
    "x = [12, 43, 4, 1, 6, 343, 10, 34, 12, 93, 783, 330, 896, 1, 55]\n",
    "\n",
    "min_value = min(x)\n",
    "\n",
    "print(min_value)"
   ]
  },
  {
   "cell_type": "markdown",
   "metadata": {},
   "source": [
    "**2.4** Find the maximum value in the list `x`. Similarly, research if there is any function available directly to calculate the maximum value."
   ]
  },
  {
   "cell_type": "code",
   "execution_count": 22,
   "metadata": {
    "id": "maYRn1xgD6Og"
   },
   "outputs": [
    {
     "name": "stdout",
     "output_type": "stream",
     "text": [
      "896\n"
     ]
    }
   ],
   "source": [
    "x = [12, 43, 4, 1, 6, 343, 10, 34, 12, 93, 783, 330, 896, 1, 55]\n",
    "\n",
    "max_value = max(x)\n",
    "\n",
    "print(max_value)"
   ]
  },
  {
   "cell_type": "markdown",
   "metadata": {
    "id": "caGMNACND6Og"
   },
   "source": [
    "-----------------------------"
   ]
  },
  {
   "cell_type": "markdown",
   "metadata": {
    "id": "vDaP12dSD6Oj"
   },
   "source": [
    "## 3. Exercise - Iterations on Dictionaries"
   ]
  },
  {
   "cell_type": "markdown",
   "metadata": {
    "id": "oWHtlCccD6Oj"
   },
   "source": [
    "Given this dictionary:"
   ]
  },
  {
   "cell_type": "code",
   "execution_count": null,
   "metadata": {
    "id": "kQMORoCTD6Oj"
   },
   "outputs": [],
   "source": [
    "word_freq = {'love': 25, 'conversation': 1, 'every': 6, \"we're\": 1, 'plate': 1, 'sour': 1, 'jukebox': 1, 'now': 11, 'taxi': 1, 'fast': 1, 'bag': 1, 'man': 1, 'push': 3, 'baby': 14, 'going': 1, 'you': 16, \"don't\": 2, 'one': 1, 'mind': 2, 'backseat': 1, 'friends': 1, 'then': 3, 'know': 2}"
   ]
  },
  {
   "cell_type": "markdown",
   "metadata": {
    "id": "OPiInNFgD6Oj"
   },
   "source": [
    "**3.1** Iterate on the items of this dictionary to print only those keys where the frequency of the word is less than 3."
   ]
  },
  {
   "cell_type": "code",
   "execution_count": 25,
   "metadata": {},
   "outputs": [
    {
     "name": "stdout",
     "output_type": "stream",
     "text": [
      "conversation\n",
      "we're\n",
      "plate\n",
      "sour\n",
      "jukebox\n",
      "taxi\n",
      "fast\n",
      "bag\n",
      "man\n",
      "going\n",
      "don't\n",
      "one\n",
      "mind\n",
      "backseat\n",
      "friends\n",
      "know\n"
     ]
    }
   ],
   "source": [
    "word_freq = {'love': 25, 'conversation': 1, 'every': 6, \"we're\": 1, 'plate': 1, 'sour': 1, 'jukebox': 1, 'now': 11, 'taxi': 1, 'fast': 1, 'bag': 1, 'man': 1, 'push': 3, 'baby': 14, 'going': 1, 'you': 16, \"don't\": 2, 'one': 1, 'mind': 2, 'backseat': 1, 'friends': 1, 'then': 3, 'know': 2}\n",
    "\n",
    "for word, freq in word_freq.items():\n",
    "    if freq < 3:\n",
    "        print(word)"
   ]
  },
  {
   "cell_type": "markdown",
   "metadata": {},
   "source": [
    "**3.2** Iterate on the items of this dictionary to print the word with the highest frequency.\n",
    "\n",
    "*Hint: There are multiple approaches to solve this exercise.*\n",
    "- *Use the max() function with a custom key to find the word with the highest frequency.*\n",
    "- *Initialize max_frequency and word_with_max_freq to 0 and an empty string, respectively. Iterate over the dictionary items, updating the variables when a higher frequency is found.*\n",
    "- *Convert the dictionary values to a list and use max() to find the maximum frequency (max_freq). Iterate over the dictionary items and print the word if its frequency matches max_freq.*"
   ]
  },
  {
   "cell_type": "code",
   "execution_count": 26,
   "metadata": {
    "id": "l_2VFQsdD6Oj"
   },
   "outputs": [
    {
     "name": "stdout",
     "output_type": "stream",
     "text": [
      "love\n",
      "love\n",
      "love\n"
     ]
    }
   ],
   "source": [
    "word_freq = {'love': 25, 'conversation': 1, 'every': 6, \"we're\": 1, 'plate': 1, 'sour': 1, 'jukebox': 1, 'now': 11, 'taxi': 1, 'fast': 1, 'bag': 1, 'man': 1, 'push': 3, 'baby': 14, 'going': 1, 'you': 16, \"don't\": 2, 'one': 1, 'mind': 2, 'backseat': 1, 'friends': 1, 'then': 3, 'know': 2}\n",
    "\n",
    "max_freq_word = max(word_freq, key=word_freq.get)\n",
    "print(max_freq_word)\n",
    "\n",
    "max_freq = 0\n",
    "word_max_freq = ''\n",
    "\n",
    "for word, freq in word_freq.items():\n",
    "    if freq > max_freq:\n",
    "        max_freq = freq\n",
    "        word_max_freq = word\n",
    "\n",
    "print(word_max_freq)\n",
    "\n",
    "max_freq = max(list(word_freq.values()))\n",
    "\n",
    "for word, freq in word_freq.items():\n",
    "    if freq == max_freq:\n",
    "        print(word)"
   ]
  },
  {
   "cell_type": "markdown",
   "metadata": {
    "id": "aAM3MT2-D6Oe"
   },
   "source": [
    "-----------------------------"
   ]
  },
  {
   "cell_type": "markdown",
   "metadata": {
    "id": "o8GHC6l_D6Og"
   },
   "source": [
    "## 4. Exercise - More on iterations "
   ]
  },
  {
   "cell_type": "markdown",
   "metadata": {},
   "source": [
    "Write a program that generates a random number between 1 and 100. The program should then prompt the user to guess the number. If the user's guess is too high, the program should print \"Too high, try again!\" and ask for another guess. If the guess is too low, the program should print \"Too low, try again!\" and ask for another guess. If the user guesses the correct number, the program should print \"Congratulations, you guessed the number!\" and end.\n",
    "\n",
    "Hints:\n",
    "\n",
    "- You will need to use a loop to repeatedly ask for guesses until the correct number is guessed.\n",
    "- Remember to convert the user's input to an integer using the `int()` function.\n",
    "- Use the `random` module in Python to generate a random number.\n",
    "\n",
    "```python\n",
    "import random\n",
    "\n",
    "# Generate a random number between 1 and 10\n",
    "random_number = random.randint(1, 10)\n",
    "```"
   ]
  },
  {
   "cell_type": "code",
   "execution_count": 27,
   "metadata": {},
   "outputs": [
    {
     "name": "stdin",
     "output_type": "stream",
     "text": [
      "guess the number 40\n"
     ]
    },
    {
     "name": "stdout",
     "output_type": "stream",
     "text": [
      "too high, try again!\n"
     ]
    },
    {
     "name": "stdin",
     "output_type": "stream",
     "text": [
      "guess the number 20\n"
     ]
    },
    {
     "name": "stdout",
     "output_type": "stream",
     "text": [
      "too low, try again!\n"
     ]
    },
    {
     "name": "stdin",
     "output_type": "stream",
     "text": [
      "guess the number 30\n"
     ]
    },
    {
     "name": "stdout",
     "output_type": "stream",
     "text": [
      "too low, try again!\n"
     ]
    },
    {
     "name": "stdin",
     "output_type": "stream",
     "text": [
      "guess the number 35\n"
     ]
    },
    {
     "name": "stdout",
     "output_type": "stream",
     "text": [
      "too high, try again!\n"
     ]
    },
    {
     "name": "stdin",
     "output_type": "stream",
     "text": [
      "guess the number 33\n"
     ]
    },
    {
     "name": "stdout",
     "output_type": "stream",
     "text": [
      "too high, try again!\n"
     ]
    },
    {
     "name": "stdin",
     "output_type": "stream",
     "text": [
      "guess the number 32\n"
     ]
    },
    {
     "name": "stdout",
     "output_type": "stream",
     "text": [
      "too high, try again!\n"
     ]
    },
    {
     "name": "stdin",
     "output_type": "stream",
     "text": [
      "guess the number 31\n"
     ]
    },
    {
     "name": "stdout",
     "output_type": "stream",
     "text": [
      "congratulations, you guessed the number!\n"
     ]
    }
   ],
   "source": [
    "import random\n",
    "\n",
    "random_number = random.randint(1, 100)\n",
    "\n",
    "while True:\n",
    "    guess = int(input(\"guess the number\"))\n",
    "\n",
    "    if guess > random_number:\n",
    "        print(\"too high, try again!\")\n",
    "    elif guess < random_number:\n",
    "        print(\"too low, try again!\")\n",
    "    else:\n",
    "        print(\"congratulations, you guessed the number!\")\n",
    "        break"
   ]
  },
  {
   "cell_type": "code",
   "execution_count": null,
   "metadata": {},
   "outputs": [],
   "source": []
  }
 ],
 "metadata": {
  "colab": {
   "name": "4_iterations.ipynb",
   "provenance": []
  },
  "interpreter": {
   "hash": "767d51c1340bd893661ea55ea3124f6de3c7a262a8b4abca0554b478b1e2ff90"
  },
  "kernelspec": {
   "display_name": "Python 3 (ipykernel)",
   "language": "python",
   "name": "python3"
  },
  "language_info": {
   "codemirror_mode": {
    "name": "ipython",
    "version": 3
   },
   "file_extension": ".py",
   "mimetype": "text/x-python",
   "name": "python",
   "nbconvert_exporter": "python",
   "pygments_lexer": "ipython3",
   "version": "3.11.7"
  }
 },
 "nbformat": 4,
 "nbformat_minor": 4
}
