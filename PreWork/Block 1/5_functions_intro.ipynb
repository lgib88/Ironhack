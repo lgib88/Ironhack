{
 "cells": [
  {
   "cell_type": "markdown",
   "metadata": {},
   "source": [
    "# Introduction to functions"
   ]
  },
  {
   "cell_type": "markdown",
   "metadata": {},
   "source": [
    "- Functions are reusable blocks of code that perform specific tasks.\n",
    "- They allow you to break down complex problems into smaller, manageable parts.\n",
    "- Functions take inputs (arguments) and produce outputs (return values)."
   ]
  },
  {
   "cell_type": "markdown",
   "metadata": {},
   "source": [
    "## Function definition"
   ]
  },
  {
   "cell_type": "markdown",
   "metadata": {},
   "source": [
    "A function in Python has the following basic structure:\n",
    "\n",
    "```python\n",
    "def function_name(parameters):\n",
    "    # Function body\n",
    "    # Code statements\n",
    "    # Return statement (optional)\n",
    "\n",
    "```"
   ]
  },
  {
   "cell_type": "markdown",
   "metadata": {},
   "source": [
    "- `def` is the keyword used to define a function. \n",
    "- `function_name` is the name given to the function. It should be descriptive and follow Python naming conventions.\n",
    "- `parameters` (optional) are inputs that the function can accept. They are enclosed in parentheses and separated by commas. \n",
    "    - In some cases, you will see that these parentheses are empty when you define and call (execute) the function, but sometimes you will have to add parameters inside them when you define or call the function. The value you will be passing in these parentheses when you call function it's called argument.\n",
    "        Here is an extra [resource from W3Schools](https://www.w3schools.com/python/gloss_python_function_arguments.asp#:~:text=The%20terms%20parameter%20and%20argument,function%20when%20it%20is%20called.) that can help you understand this terminology better.\n",
    "- The code block within every function starts with a `colon (:)` and is mandatory.\n",
    "- `The function body` consists of the code statements that define the functionality of the function.\n",
    "- `A return statement` (optional) can be used to specify the value the function should output. If no return statement is provided, the function returns None by default."
   ]
  },
  {
   "cell_type": "markdown",
   "metadata": {},
   "source": [
    "## Function Call"
   ]
  },
  {
   "cell_type": "markdown",
   "metadata": {},
   "source": [
    "To use a function, we need to call it by its name and pass the required arguments (if any)."
   ]
  },
  {
   "cell_type": "markdown",
   "metadata": {},
   "source": [
    "```python\n",
    "result = function_name(arguments)\n",
    "```"
   ]
  },
  {
   "cell_type": "markdown",
   "metadata": {},
   "source": [
    "- `result` is a variable that stores the output value of the function (if it has a return statement).\n",
    "- `arguments` (optional) are values passed to the function's parameters (if any)."
   ]
  },
  {
   "cell_type": "markdown",
   "metadata": {},
   "source": [
    "## Examples"
   ]
  },
  {
   "cell_type": "markdown",
   "metadata": {},
   "source": [
    "Let's create a simple function that says hello. It doesn't take any parameters (between the parenthesis ()) and it doesn't return anything. It just prints a string."
   ]
  },
  {
   "cell_type": "code",
   "execution_count": null,
   "metadata": {},
   "outputs": [],
   "source": [
    "def say_hello():\n",
    "    print(\"Hello world\")"
   ]
  },
  {
   "cell_type": "code",
   "execution_count": null,
   "metadata": {},
   "outputs": [],
   "source": [
    "say_hello()"
   ]
  },
  {
   "cell_type": "markdown",
   "metadata": {},
   "source": [
    "Let's create a simple function that calculates the square of a number:"
   ]
  },
  {
   "cell_type": "markdown",
   "metadata": {},
   "source": [
    "- We define a function called square that takes a single parameter, number.\n",
    "- The function calculates the square of the input number and stores the result in the result variable.\n",
    "- Finally, the function returns the result using the return statement."
   ]
  },
  {
   "cell_type": "code",
   "execution_count": null,
   "metadata": {},
   "outputs": [],
   "source": [
    "def square(number):\n",
    "    \"\"\"Calculate the square of a number.\"\"\"\n",
    "    result = number ** 2\n",
    "    return result"
   ]
  },
  {
   "cell_type": "markdown",
   "metadata": {},
   "source": [
    "To use the square function, we can call it and pass an argument:"
   ]
  },
  {
   "cell_type": "code",
   "execution_count": null,
   "metadata": {},
   "outputs": [],
   "source": [
    "x = 5\n",
    "squared_x = square(x)\n",
    "print(squared_x)  # Output: 25"
   ]
  },
  {
   "cell_type": "markdown",
   "metadata": {},
   "source": [
    "- We assign the value 5 to the variable x.\n",
    "- We call the square function, passing x as an argument.\n",
    "- The function calculates the square of x (which is 25) and returns the result."
   ]
  },
  {
   "cell_type": "markdown",
   "metadata": {},
   "source": [
    "Let's look at another example. Let's define a function that adds two numbers."
   ]
  },
  {
   "cell_type": "code",
   "execution_count": null,
   "metadata": {},
   "outputs": [],
   "source": [
    "def add_numbers(num1, num2):\n",
    "    sum = num1 + num2\n",
    "    return sum"
   ]
  },
  {
   "cell_type": "markdown",
   "metadata": {},
   "source": [
    "This function takes two numbers as input (num1 and num2), adds them together, and returns the sum. You can call this function with any two numbers and it will return their sum."
   ]
  },
  {
   "cell_type": "code",
   "execution_count": null,
   "metadata": {},
   "outputs": [],
   "source": [
    "num1 = 10\n",
    "num2 = 20\n",
    "add_numbers(num1, num2)"
   ]
  },
  {
   "cell_type": "markdown",
   "metadata": {},
   "source": [
    "## Scope"
   ]
  },
  {
   "cell_type": "markdown",
   "metadata": {},
   "source": [
    "In Python, the concept of scope refers to the visibility and accessibility of variables within different parts of your code. Understanding function scope is crucial for writing modular and organized programs. Let's explore the different aspects of function scope through examples."
   ]
  },
  {
   "cell_type": "markdown",
   "metadata": {},
   "source": [
    "### Local Scope\n",
    "\n",
    "Variables defined inside a function have local scope.\n",
    "\n",
    "They are accessible only within the function they are defined in.\n",
    "\n",
    "Example:"
   ]
  },
  {
   "cell_type": "code",
   "execution_count": null,
   "metadata": {},
   "outputs": [],
   "source": [
    "def my_function():\n",
    "    local_var = 20  # Local variable\n",
    "    print(local_var)  # Accessing local variable inside function\n",
    "\n",
    "my_function()  # Output: 20\n",
    "print(local_var)  # Error: NameError: name 'local_var' is not defined\n"
   ]
  },
  {
   "cell_type": "markdown",
   "metadata": {},
   "source": [
    "### Global Scope\n",
    "\n",
    "Variables defined outside of any function have global scope.\n",
    "\n",
    "They can be accessed and modified from anywhere in the code.\n",
    "\n",
    "Example:"
   ]
  },
  {
   "cell_type": "code",
   "execution_count": null,
   "metadata": {},
   "outputs": [],
   "source": [
    "global_var = 10  # Global variable\n",
    "\n",
    "def my_function():\n",
    "    print(global_var)  # Accessing global variable inside function\n",
    "\n",
    "my_function()  # Output: 10"
   ]
  },
  {
   "cell_type": "markdown",
   "metadata": {},
   "source": [
    "⚠ **Important**: Even though the code above works, it shouldn't be done like that. Using **global variables inside functions is considered bad programming practice**."
   ]
  },
  {
   "cell_type": "markdown",
   "metadata": {},
   "source": [
    "**To avoid using global variables inside the function, you can pass the variable as a parameter to the function**. Here's how you can modify the code above to achieve this:"
   ]
  },
  {
   "cell_type": "code",
   "execution_count": null,
   "metadata": {},
   "outputs": [],
   "source": [
    "def my_function(var):\n",
    "    print(var)  # Accessing parameter inside function\n",
    "\n",
    "global_var = 10  # Global variable\n",
    "my_function(global_var)  # Pass the global variable as an argument to the function"
   ]
  },
  {
   "cell_type": "markdown",
   "metadata": {},
   "source": [
    "In this modified code, the my_function() function accepts a parameter var. When calling the function my_function(global_var), we pass the value of the global variable global_var as an argument. Inside the function, the value is accessed through the var parameter. This way, we avoid using a global variable directly inside the function."
   ]
  },
  {
   "cell_type": "markdown",
   "metadata": {},
   "source": [
    "## Built-in Functions\n",
    "\n",
    "Python provides a set of built-in functions (pre-written code) that can be used directly. \n",
    "Some commonly used built-in functions are print(), len(), input(), type(), range(), max(), min(), and sum().\n",
    "These functions are already available in Python and can be used in any program.\n",
    "\n",
    "Using Built-in Functions:\n",
    "\n",
    "To use a built-in function, you simply write the function name followed by parentheses, optionally passing any required arguments.\n",
    "- Example 1: print(\"Hello, world!\") - This prints the specified text to the console.\n",
    "- Example 2: length = len(\"Hello\") - This returns the length of the given string and assigns it to the variable length."
   ]
  },
  {
   "cell_type": "markdown",
   "metadata": {},
   "source": [
    "## Libraries"
   ]
  },
  {
   "cell_type": "markdown",
   "metadata": {},
   "source": [
    "Libraries are collections of pre-written code that extend the functionality of Python.\n",
    "They contain additional functions, classes, and modules that can be imported and used in your programs.\n",
    "Python has a vast ecosystem of libraries for various purposes, such as data analysis, web development, machine learning, and more.\n",
    "\n",
    "### Importing Libraries\n",
    "\n",
    "To use a library, you need to import it into your program using the import keyword."
   ]
  },
  {
   "cell_type": "code",
   "execution_count": null,
   "metadata": {},
   "outputs": [],
   "source": [
    "# This imports the math library, which provides mathematical functions and constants.\n",
    "import math\n",
    "import random"
   ]
  },
  {
   "cell_type": "markdown",
   "metadata": {},
   "source": [
    "\n",
    "### Using Library Functions\n",
    "\n",
    "After importing a library, you can use its functions by prefixing them with the library name and a dot."
   ]
  },
  {
   "cell_type": "code",
   "execution_count": null,
   "metadata": {},
   "outputs": [],
   "source": [
    "result = math.sqrt(25) # This calculates the square root of 25 using the sqrt() function from the math library.\n",
    "result"
   ]
  },
  {
   "cell_type": "code",
   "execution_count": null,
   "metadata": {},
   "outputs": [],
   "source": [
    "random_number = random.randint(1, 100) # This generates a random number between 1 and 100 using the randint() function from the random library.\n",
    "random_number"
   ]
  },
  {
   "cell_type": "markdown",
   "metadata": {},
   "source": [
    "**Exploring Libraries:**\n",
    "\n",
    "Python libraries have extensive documentation that explains their functionality and provides examples.\n",
    "You can explore the official Python documentation or search for specific library documentation online.\n",
    "It's important to understand the available functions, their arguments, and return values to use libraries effectively."
   ]
  },
  {
   "cell_type": "markdown",
   "metadata": {},
   "source": [
    "## Benefits of Using Functions\n",
    "\n",
    "- Code Reusability: Functions allow us to write a block of code once and use it multiple times throughout our program.  This reduces code duplication and promotes modularity.\n",
    "- Readability: Breaking down a program into smaller functions makes it easier to read and understand. Each function represents a specific task or functionality, making the overall program flow more intuitive.\n",
    "- Modularity: Functions encapsulate specific tasks, making it easier to modify or update them without affecting other parts of the program.\n",
    "- Debugging and Testing: Functions help isolate specific sections of code, making it easier to locate and fix issues. They also facilitate testing since we can test each function individually.\n",
    "\n",
    "## Best Practices\n",
    "\n",
    "- Function Naming: Use descriptive names that indicate the purpose or functionality of the function.\n",
    "- Function Length: Keep functions concise and focused on a single task. Aim for shorter functions that are easier to understand and maintain.\n",
    "- Function Documentation: Provide a docstring at the beginning of the function to describe its purpose, parameters, and expected output. This helps other programmers (and yourself) understand how to use the function.\n",
    "- Avoid Global Variables: Functions should ideally operate on their input parameters and return values, rather than relying on global variables. This promotes encapsulation and reduces dependencies. When we say \"avoid global variables,\" it means that we should try to limit the use of variables that are defined outside of functions and are accessible from any part of the program. Instead, we should aim to use variables that are passed into functions as parameters and variables that are returned as the output of functions."
   ]
  },
  {
   "cell_type": "markdown",
   "metadata": {},
   "source": [
    "# Exercise "
   ]
  },
  {
   "cell_type": "markdown",
   "metadata": {},
   "source": [
    "\n",
    "Create a function called \"generation_calculator\" to help determine the generation you belong to according to your birth year. Follow the information below:\n",
    "\n",
    "```\n",
    "+-----------------+---------------------+\n",
    "|  birth_year     |      generation     |\n",
    "+-----------------+---------------------+\n",
    "|     < 1949      |  silent generation  |\n",
    "+-----------------+---------------------+\n",
    "|     < 1969      |     baby boomer     |\n",
    "+-----------------+---------------------+\n",
    "|     < 1981      |     X generation    | \n",
    "+-----------------+---------------------+\n",
    "|     < 1994      |      millennial     | \n",
    "+-----------------+---------------------+\n",
    "|     > 1994      |    Z generation     | \n",
    "+-----------------+---------------------+\n",
    "```"
   ]
  },
  {
   "cell_type": "markdown",
   "metadata": {},
   "source": [
    "1. Define the function generation calculator. Write conditionals for each generation. For example, if you were born before 1949 you would be a \"silent generation\".\n",
    "2. Call the function to test it with different year values.\n",
    "3. Print the results."
   ]
  },
  {
   "cell_type": "code",
   "execution_count": 5,
   "metadata": {},
   "outputs": [
    {
     "name": "stdout",
     "output_type": "stream",
     "text": [
      "silent generation\n",
      "baby boomer\n",
      "x generation\n",
      "millennial\n",
      "z generation\n"
     ]
    }
   ],
   "source": [
    "def generation_calculator(birth_year):\n",
    "    if birth_year < 1949:\n",
    "        return \"silent generation\"\n",
    "    elif birth_year < 1969:\n",
    "        return \"baby boomer\"\n",
    "    elif birth_year < 1981:\n",
    "        return \"x generation\"\n",
    "    elif birth_year < 1994:\n",
    "        return \"millennial\"\n",
    "    else:\n",
    "        return \"z generation\"\n",
    "\n",
    "print(generation_calculator(1940))\n",
    "print(generation_calculator(1950))\n",
    "print(generation_calculator(1970))\n",
    "print(generation_calculator(1985))\n",
    "print(generation_calculator(2000))"
   ]
  },
  {
   "cell_type": "markdown",
   "metadata": {},
   "source": [
    "### Additional resources "
   ]
  },
  {
   "cell_type": "markdown",
   "metadata": {},
   "source": [
    "- [https://www.tutorialspoint.com/python/python_functions.htm](https://www.tutorialspoint.com/python/python_functions.htm)"
   ]
  }
 ],
 "metadata": {
  "kernelspec": {
   "display_name": "Python 3 (ipykernel)",
   "language": "python",
   "name": "python3"
  },
  "language_info": {
   "codemirror_mode": {
    "name": "ipython",
    "version": 3
   },
   "file_extension": ".py",
   "mimetype": "text/x-python",
   "name": "python",
   "nbconvert_exporter": "python",
   "pygments_lexer": "ipython3",
   "version": "3.11.7"
  }
 },
 "nbformat": 4,
 "nbformat_minor": 4
}
