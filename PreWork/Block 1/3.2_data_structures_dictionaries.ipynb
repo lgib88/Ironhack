{
 "cells": [
  {
   "cell_type": "markdown",
   "metadata": {
    "tags": []
   },
   "source": [
    "# Data structures - Part II"
   ]
  },
  {
   "cell_type": "markdown",
   "metadata": {},
   "source": [
    "Data structures are fundamental components in programming that allow you to efficiently **store, organize, and manipulate** data. They provide a way to manage and **work with collections of values** or entities. In Python, there are several commonly used data structures:"
   ]
  },
  {
   "cell_type": "markdown",
   "metadata": {},
   "source": [
    "In the previous lesson we talked about *lists*. **Lists** are ordered collections of items enclosed in square brackets [ ]. They can store elements of different data types and allow for indexing, appending, removing, and modifying elements.\n",
    "\n",
    "In this lesson, we will talk about *dictionaries*. **Dictionaries** are key-value pairs enclosed in curly braces { }. Each element in a dictionary consists of a key and its associated value. Dictionaries provide fast lookup and retrieval of values based on their keys and are useful for organizing and accessing data using meaningful labels. (MUTABLE)  "
   ]
  },
  {
   "cell_type": "markdown",
   "metadata": {},
   "source": [
    "## Dictionaries "
   ]
  },
  {
   "cell_type": "markdown",
   "metadata": {},
   "source": [
    "In Python, a dictionary is a powerful data structure that allows you to store and organize data in key-value pairs. It is similar to a real-life dictionary where you can look up a word (key) and find its corresponding definition (value). Dictionaries are mutable, meaning you can modify them after they are created."
   ]
  },
  {
   "cell_type": "markdown",
   "metadata": {},
   "source": [
    "They are enclosed in **curly braces {}** and consist of multiple **key-value pairs separated by commas**. Dictionaries allow you to access elements by using their respective keys."
   ]
  },
  {
   "cell_type": "markdown",
   "metadata": {},
   "source": [
    "### Creating a Dictionary\n",
    "\n",
    "You can create a dictionary by enclosing comma-separated key-value pairs within curly braces {}. For example:"
   ]
  },
  {
   "cell_type": "code",
   "execution_count": null,
   "metadata": {},
   "outputs": [],
   "source": [
    "contacts = {'John': '312-555-1234', 'Paul': '312-555-3123', 'George': '312-555-3333', 'Ringo': '312-555-2222'}"
   ]
  },
  {
   "cell_type": "code",
   "execution_count": null,
   "metadata": {},
   "outputs": [],
   "source": [
    "type(contacts)"
   ]
  },
  {
   "cell_type": "markdown",
   "metadata": {},
   "source": [
    "Here we have defined a dictionary and we saved it in a variable named `contacts`.  \n",
    "\n",
    "A key-value pair is defined using a colon **`:`** - `key : value`.\n",
    "\n",
    "Different key value pairs here are: \n",
    "- \"John\" : \"312-555-1234\"\n",
    "- \"Paul\" : \"312-555-3123\" \n",
    "- \"George\" : \"312-555-3333\" \n",
    "- \"Ringo\" : \"312-555-2222\"\n",
    "\n",
    "All the **keys** in a dictionary **must always unique**, the *values can be repeated*."
   ]
  },
  {
   "cell_type": "markdown",
   "metadata": {},
   "source": [
    "If you try to add a key that already exists in the dictionary, the new value will overwrite the existing value associated with that key. This means that the second occurrence of the key will replace the first occurrence, effectively updating the value for that key."
   ]
  },
  {
   "cell_type": "code",
   "execution_count": null,
   "metadata": {},
   "outputs": [],
   "source": [
    "# Lets add two 'John' keys with different values\n",
    "contacts = {'John': '312-555-1234', 'John': '111-111-1234', 'Paul': '312-555-3123', 'George': '312-555-3333', 'Ringo': '312-555-2222'}"
   ]
  },
  {
   "cell_type": "code",
   "execution_count": null,
   "metadata": {},
   "outputs": [],
   "source": [
    "contacts # We can see that it only kept one 'John' with the latest value"
   ]
  },
  {
   "cell_type": "markdown",
   "metadata": {},
   "source": [
    "### Accessing values using the keys"
   ]
  },
  {
   "cell_type": "markdown",
   "metadata": {},
   "source": [
    "You can access the values in a dictionary by using the corresponding key in square brackets []. "
   ]
  },
  {
   "cell_type": "code",
   "execution_count": null,
   "metadata": {},
   "outputs": [],
   "source": [
    "contacts['John']  # This is very similar to lists except that here we are using keys as indexes"
   ]
  },
  {
   "cell_type": "code",
   "execution_count": null,
   "metadata": {},
   "outputs": [],
   "source": [
    "contacts['Paul']"
   ]
  },
  {
   "cell_type": "markdown",
   "metadata": {},
   "source": [
    "**Note:** Remember that Python is case sensitive, so keys are case sensitive as well. \n",
    "\n",
    "If you use the following code, it will produce an error as shown:"
   ]
  },
  {
   "cell_type": "code",
   "execution_count": null,
   "metadata": {},
   "outputs": [],
   "source": [
    "contacts['PAUL'] # We get a KeyError since the key PAUL is not in the dictionary"
   ]
  },
  {
   "cell_type": "markdown",
   "metadata": {},
   "source": [
    "### Adding and Modifying Values\n",
    "\n",
    "To add a new key-value pair to a dictionary, you can simply assign a value to a new key. If the key already exists, assigning a new value to it will modify the existing value."
   ]
  },
  {
   "cell_type": "markdown",
   "metadata": {},
   "source": [
    "`<Name of dictionary>[<key>] = value`"
   ]
  },
  {
   "cell_type": "code",
   "execution_count": null,
   "metadata": {},
   "outputs": [],
   "source": [
    "contacts['Mel'] = '480-111-2222'"
   ]
  },
  {
   "cell_type": "code",
   "execution_count": null,
   "metadata": {},
   "outputs": [],
   "source": [
    "contacts # Mel was added to the dictionary"
   ]
  },
  {
   "cell_type": "code",
   "execution_count": null,
   "metadata": {},
   "outputs": [],
   "source": [
    "contacts['Mel'] = '480-999-8888'\n",
    "contacts # Mel value (number) was modified"
   ]
  },
  {
   "cell_type": "markdown",
   "metadata": {},
   "source": [
    "In the previous example, the keys and values stored in the dictionary were only strings. But we can have any\n",
    "kind of data type for the keys and values."
   ]
  },
  {
   "cell_type": "code",
   "execution_count": null,
   "metadata": {},
   "outputs": [],
   "source": [
    "student_names = {1: 'John', 2: 'Smith', 3: 'Matt', 4: 'Jimmy', 5: 'Sue'}\n",
    "student_names[1]"
   ]
  },
  {
   "cell_type": "code",
   "execution_count": null,
   "metadata": {},
   "outputs": [],
   "source": [
    "student_names[2]"
   ]
  },
  {
   "cell_type": "markdown",
   "metadata": {},
   "source": [
    "The main idea here is that the values are identified in a dictionary using the keys. "
   ]
  },
  {
   "cell_type": "markdown",
   "metadata": {},
   "source": [
    "Values inside a dictionary can be any data type, including lists or dictionaries itself."
   ]
  },
  {
   "cell_type": "code",
   "execution_count": null,
   "metadata": {},
   "outputs": [],
   "source": [
    "student_data = {\n",
    "    'Name': 'John', \n",
    "    'E-mail': 'john@gmail.com', \n",
    "    'Age': 28, \n",
    "    'subjects': ['math', 'science', 'history', 'geography'] \n",
    "}"
   ]
  },
  {
   "cell_type": "code",
   "execution_count": null,
   "metadata": {},
   "outputs": [],
   "source": [
    "student_data"
   ]
  },
  {
   "cell_type": "code",
   "execution_count": null,
   "metadata": {},
   "outputs": [],
   "source": [
    "# Remember that the keys are case sensitive \n",
    "student_data['Name']"
   ]
  },
  {
   "cell_type": "code",
   "execution_count": null,
   "metadata": {},
   "outputs": [],
   "source": [
    "student_data['E-mail']"
   ]
  },
  {
   "cell_type": "code",
   "execution_count": null,
   "metadata": {},
   "outputs": [],
   "source": [
    "student_data['Age']"
   ]
  },
  {
   "cell_type": "code",
   "execution_count": null,
   "metadata": {},
   "outputs": [],
   "source": [
    "student_data['subjects']"
   ]
  },
  {
   "cell_type": "markdown",
   "metadata": {},
   "source": [
    "**Note**: Value associated with the key 'subjects' is a list."
   ]
  },
  {
   "cell_type": "markdown",
   "metadata": {},
   "source": [
    "According to this, if we want to access 'science', we need first to access the `subjects` key in the dictionary. Then, as the `value` is a list, we need to access the corresponding element of the list."
   ]
  },
  {
   "cell_type": "code",
   "execution_count": null,
   "metadata": {},
   "outputs": [],
   "source": [
    "student_data['subjects'][1] "
   ]
  },
  {
   "cell_type": "markdown",
   "metadata": {},
   "source": [
    "In the student_data dictionary, the value associated with the key 'subjects' is the list ['math', 'science', 'history', 'geography']. Since lists are ordered and indexed starting from 0 in Python, we can access specific elements by their index.\n",
    "\n",
    "For example, to access the element 'science' in the list, we use its index, which is 1. Remember that the index starts counting from 0, so the first element has an index of 0, the second element has an index of 1, and so on."
   ]
  },
  {
   "cell_type": "markdown",
   "metadata": {},
   "source": [
    "### Removing Values\n",
    "\n",
    "You can remove a key-value pair from a dictionary using the del keyword:"
   ]
  },
  {
   "cell_type": "code",
   "execution_count": null,
   "metadata": {},
   "outputs": [],
   "source": [
    "del contacts[\"Mel\"]"
   ]
  },
  {
   "cell_type": "code",
   "execution_count": null,
   "metadata": {},
   "outputs": [],
   "source": [
    "contacts"
   ]
  },
  {
   "cell_type": "markdown",
   "metadata": {},
   "source": [
    "### Checking Key Existence\n",
    "\n",
    "To check if a key exists in a dictionary, you can use the `in` keyword:"
   ]
  },
  {
   "cell_type": "code",
   "execution_count": null,
   "metadata": {},
   "outputs": [],
   "source": [
    "if \"John\" in contacts:\n",
    "    print(\"Yes, 'John' is in the dictionary.\")"
   ]
  },
  {
   "cell_type": "markdown",
   "metadata": {},
   "source": [
    "### Dictionary Methods"
   ]
  },
  {
   "cell_type": "markdown",
   "metadata": {},
   "source": [
    "Python provides several built-in methods to perform operations on dictionaries. Some commonly used methods include keys(), values(), items(), get(), and pop(). You can explore these methods in the Python documentation."
   ]
  },
  {
   "cell_type": "markdown",
   "metadata": {},
   "source": [
    "**`.keys()`** method: This method returns a view object that contains all the keys in the dictionary."
   ]
  },
  {
   "cell_type": "code",
   "execution_count": null,
   "metadata": {},
   "outputs": [],
   "source": [
    "contacts.keys()"
   ]
  },
  {
   "cell_type": "markdown",
   "metadata": {},
   "source": [
    "**`.values()`** mehod: This method returns a view object that contains all the values in the dictionary."
   ]
  },
  {
   "cell_type": "code",
   "execution_count": null,
   "metadata": {},
   "outputs": [],
   "source": [
    "contacts.values()  # But this directly does not tell us to which keys these values are associated "
   ]
  },
  {
   "cell_type": "markdown",
   "metadata": {},
   "source": [
    "**`.items()`** method: This method returns a view object that contains all the key-value pairs in the dictionary as tuples.\n"
   ]
  },
  {
   "cell_type": "code",
   "execution_count": null,
   "metadata": {},
   "outputs": [],
   "source": [
    "contacts.items()"
   ]
  },
  {
   "cell_type": "markdown",
   "metadata": {},
   "source": [
    "**`get(key)`** method: This method returns the value associated with the specified key. If the key is not found, it returns a default value (None by default) instead of raising an error."
   ]
  },
  {
   "cell_type": "markdown",
   "metadata": {},
   "source": [
    "The main difference between using the `get()` method and accessing a dictionary with `[]` is how they handle missing keys. When you access a dictionary using `[]` and provide a key that does not exist in the dictionary, it will raise a `KeyError` exception. On the other hand, the `get()` method provides a way to retrieve a value from a dictionary without raising an error if the key is not found. Instead of raising a `KeyError`, it returns a `default` value that you specify or `None` (indicating the key wasn't found). If the key is found, it returns the corresponding value. "
   ]
  },
  {
   "cell_type": "code",
   "execution_count": null,
   "metadata": {},
   "outputs": [],
   "source": [
    "contacts.get('John')"
   ]
  },
  {
   "cell_type": "code",
   "execution_count": null,
   "metadata": {},
   "outputs": [],
   "source": [
    "print(contacts.get('Anna', 'Not found'))"
   ]
  },
  {
   "cell_type": "markdown",
   "metadata": {},
   "source": [
    "Instead of returning an error, as accessing with contacts['Anna'] would do since the key does not exist, the `get()` method returns the default value we specified."
   ]
  },
  {
   "cell_type": "markdown",
   "metadata": {},
   "source": [
    "If we don't specify what to return if the key is not found, it returns as default the special value called `None`. `None` is a built-in constant in Python that represents the absence of a value."
   ]
  },
  {
   "cell_type": "code",
   "execution_count": null,
   "metadata": {},
   "outputs": [],
   "source": [
    "print(contacts.get('Anna'))"
   ]
  },
  {
   "cell_type": "markdown",
   "metadata": {},
   "source": [
    "When using the `print()` function in Python, the function displays the value that is passed to it and outputs it to the console. If the value is `None`, the `print()` function will explicitly display the word `None` as the output.\n",
    "\n",
    "In contrast, when you write a variable in a Jupyter Notebook cell without explicitly using the print() function, the notebook environment automatically displays the value of the variable as the output of the cell. However, if the value of the variable is None, the notebook environment behaves differently. Instead of displaying `None` as the output, it simply shows nothing."
   ]
  },
  {
   "cell_type": "code",
   "execution_count": null,
   "metadata": {},
   "outputs": [],
   "source": [
    "contacts.get('Anna')"
   ]
  },
  {
   "cell_type": "markdown",
   "metadata": {},
   "source": [
    "## Exercises"
   ]
  },
  {
   "cell_type": "markdown",
   "metadata": {},
   "source": [
    "1. Use the dictionary given below. This is a dictionary that shows the frequency of the words in a text paragraph. The keys are the words, and the values are its frequency.\n"
   ]
  },
  {
   "cell_type": "code",
   "execution_count": null,
   "metadata": {},
   "outputs": [],
   "source": [
    "word_freq = {'love': 25, 'conversation': 1, 'every': 6, \"we're\": 1, 'plate': 1, 'sour': 1, 'jukebox': 1, 'now': 11, 'taxi': 1, 'fast': 1, 'bag': 1, 'man': 1, 'push': 3, 'baby': 14, 'going': 1, 'you': 16, \"don't\": 2, 'one': 1, 'mind': 2, 'backseat': 1, 'friends': 1, 'then': 3, 'know': 2}"
   ]
  },
  {
   "cell_type": "markdown",
   "metadata": {},
   "source": [
    "Answer the following questions:   \n",
    "\n",
    "- How many *key-value* pairs are in this dictionary?\n",
    "- What *keys* are present in this dictionary? \n",
    "- What is the frequency of following words in the dictionary: \n",
    "    - 'friends'\n",
    "    - 'taxi' \n",
    "    - 'jukebox'\n",
    "- Is the word `begin` present in the dictionary?\n",
    "- Add the following words and their frequencies to the dictionary:\n",
    "        - 'begin': 1\n",
    "        - 'start': 2\n",
    "        - 'over': 1\n",
    "        - 'body': 17\n",
    "- Use the method `list()` to convert the result from `word_freq.keys()` to a list: `list(word_freq.keys())`.\n",
    "  - Store the results of the above code in a variable called `word_list`.\n",
    "  - What is the first word in `word_list`? What is the frequency of that word?\n",
    "  - What is the last word in `word_list`? What is the frequency of that word?"
   ]
  },
  {
   "cell_type": "code",
   "execution_count": 2,
   "metadata": {},
   "outputs": [
    {
     "name": "stdout",
     "output_type": "stream",
     "text": [
      "there are 23 key-value pairs.\n",
      "the keys are: ['love', 'conversation', 'every', \"we're\", 'plate', 'sour', 'jukebox', 'now', 'taxi', 'fast', 'bag', 'man', 'push', 'baby', 'going', 'you', \"don't\", 'one', 'mind', 'backseat', 'friends', 'then', 'know']\n",
      "the frequency of 'friends' is: 1\n",
      "the frequency of 'taxi' is: 1\n",
      "the frequency of 'jukebox' is: 1\n",
      "is begin present in the dictionary? False\n",
      "The first word in word_list is 'love' and its frequency is 25.\n",
      "The last word in word_list is 'body' and its frequency is 17.\n"
     ]
    }
   ],
   "source": [
    "word_freq = {'love': 25, 'conversation': 1, 'every': 6, \"we're\": 1, 'plate': 1, 'sour': 1, 'jukebox': 1, 'now': 11, 'taxi': 1, 'fast': 1, 'bag': 1, 'man': 1, 'push': 3, 'baby': 14, 'going': 1, 'you': 16, \"don't\": 2, 'one': 1, 'mind': 2, 'backseat': 1, 'friends': 1, 'then': 3, 'know': 2}\n",
    "\n",
    "# Calculate the number of key-value pairs in the dictionary\n",
    "print(f\"there are {len(word_freq)} key-value pairs.\")\n",
    "\n",
    "# Get the keys present in the dictionary\n",
    "print(f\"the keys are: {list(word_freq.keys())}\")\n",
    "\n",
    "# Check the frequency of the words 'friends', 'taxi', and 'jukebox'\n",
    "print(f\"the frequency of 'friends' is: {word_freq.get('friends', 0)}\")\n",
    "print(f\"the frequency of 'taxi' is: {word_freq.get('taxi', 0)}\")\n",
    "print(f\"the frequency of 'jukebox' is: {word_freq.get('jukebox', 0)}\")\n",
    "\n",
    "# Check if the begin is present in the dictionary\n",
    "print(f\"is begin present in the dictionary? {'begin' in word_freq}\")\n",
    "\n",
    "# Add begin, start, over, and body\n",
    "word_freq['begin'] = 1\n",
    "word_freq['start'] = 2\n",
    "word_freq['over'] = 1\n",
    "word_freq['body'] = 17\n",
    "\n",
    "# Convert the keys of the dictionary to a list and store the result in a variable\n",
    "word_list = list(word_freq.keys())\n",
    "\n",
    "# Get the first word in word_list and its frequency\n",
    "first_word = word_list[0]\n",
    "print(f\"The first word in word_list is '{first_word}' and its frequency is {word_freq[first_word]}.\")\n",
    "\n",
    "# Get the last word in word_list and its frequency\n",
    "last_word = word_list[-1]\n",
    "print(f\"The last word in word_list is '{last_word}' and its frequency is {word_freq[last_word]}.\")"
   ]
  },
  {
   "cell_type": "markdown",
   "metadata": {},
   "source": [
    "2. Can a dictionary have two key-value pairs with the same key?"
   ]
  },
  {
   "cell_type": "code",
   "execution_count": null,
   "metadata": {},
   "outputs": [],
   "source": [
    "no, dictionary keys must be unique"
   ]
  },
  {
   "cell_type": "markdown",
   "metadata": {},
   "source": [
    "3. Can a dictionary have two key-value pairs with the same value but different keys?"
   ]
  },
  {
   "cell_type": "code",
   "execution_count": null,
   "metadata": {},
   "outputs": [],
   "source": [
    "Yes, a dictionary can have multiple key-value pairs with the same value but different keys"
   ]
  },
  {
   "cell_type": "markdown",
   "metadata": {},
   "source": [
    "## Summary"
   ]
  },
  {
   "cell_type": "markdown",
   "metadata": {},
   "source": [
    "It is always crucial to know what kind of variable you have in your hands because this determines how to retrieve the data. \n",
    "\n",
    "- lists -> accessed by **index**\n",
    "- dictionaries -> accessed by **key** (misleadingly, the key can be a number but usually is a string)\n",
    "\n",
    "Lists are easily identified because they start and end with square brackets: `[ ]`\n",
    "\n",
    "In contrast, dictionaries start and end with curly brackets: `{ }`."
   ]
  },
  {
   "cell_type": "markdown",
   "metadata": {},
   "source": [
    "# Additional Content: sets and tuples"
   ]
  },
  {
   "cell_type": "markdown",
   "metadata": {},
   "source": [
    "In our previous lesson, we briefly mentioned that there are other data structures we will cover in more detail later in the bootcamp. However, as an additional topic, let's briefly touch upon them in case you feel comfortable with lists and dictionaries and want to get a head start in understanding more about data structures before the bootcamp begins. This will give you a deeper understanding of Python right from the start.\n",
    "\n",
    "- **Sets**: Sets are unordered collections of unique elements enclosed in curly braces { }. They do not allow duplicate values and provide operations like union, intersection, and difference. Sets are useful for membership testing and eliminating duplicates from a sequence.(MUTABLE)\n",
    "\n",
    "- **Tuples**: Tuples are similar to lists but are immutable, meaning their elements cannot be modified once created. They are enclosed in parentheses ( ) and commonly used to represent fixed collections of related values. (IMMUTABLE)"
   ]
  },
  {
   "cell_type": "raw",
   "metadata": {
    "tags": []
   },
   "source": [
    "Not Included in Pre-Work Assessment\n",
    "\n",
    "The following content provides additional information on the topic but will not be covered in the pre-work assessment. It serves as supplementary material to enhance your understanding beyond the assessment requirements."
   ]
  },
  {
   "cell_type": "markdown",
   "metadata": {},
   "source": [
    "### Sets \n",
    "\n",
    "Sets are an unordered collection of unique elements in Python. Here are some key points about sets:\n",
    "\n",
    "- Sets are defined using curly braces {} or the set() function.\n",
    "- Sets can contain elements of different data types, such as integers, strings, or even other sets.\n",
    "- Sets do not allow duplicate elements. If you try to add a duplicate element to a set, it will be ignored.\n",
    "- Sets are mutable, meaning you can add or remove elements from them.\n",
    "- You can perform various operations on sets, such as union, intersection, difference, and more."
   ]
  },
  {
   "cell_type": "code",
   "execution_count": null,
   "metadata": {},
   "outputs": [],
   "source": [
    "# Creating a set\n",
    "fruits = {'apple', 'banana', 'orange'}\n",
    "print(fruits)  # Output: {'apple', 'banana', 'orange'}\n",
    "\n",
    "# Adding elements to a set\n",
    "fruits.add('grape')\n",
    "print(fruits)  # Output: {'apple', 'banana', 'orange', 'grape'}\n",
    "\n",
    "# Removing elements from a set\n",
    "fruits.remove('banana')\n",
    "print(fruits)  # Output: {'apple', 'orange', 'grape'}"
   ]
  },
  {
   "cell_type": "markdown",
   "metadata": {},
   "source": [
    "### Tuples\n",
    "\n",
    "Tuples are similar to lists but are immutable, meaning they cannot be modified once created. Here are some key points about tuples:\n",
    "\n",
    "- Tuples are defined using parentheses () or the tuple() function.\n",
    "- Tuples can contain elements of different data types, just like lists.\n",
    "- Once a tuple is created, you cannot add, remove, or modify its elements.\n",
    "- Tuples are commonly used to store related pieces of information together."
   ]
  },
  {
   "cell_type": "code",
   "execution_count": null,
   "metadata": {},
   "outputs": [],
   "source": [
    "# Creating a tuple\n",
    "person = ('John', 25, 'USA')\n",
    "print(person)  # Output: ('John', 25, 'USA')"
   ]
  },
  {
   "cell_type": "code",
   "execution_count": null,
   "metadata": {},
   "outputs": [],
   "source": [
    "# Accessing elements of a tuple\n",
    "name = person[0]\n",
    "age = person[1]\n",
    "print(name, age)  # Output: John 25"
   ]
  },
  {
   "cell_type": "code",
   "execution_count": null,
   "metadata": {},
   "outputs": [],
   "source": [
    "# Trying to modify a tuple (this will raise an error)\n",
    "person[0] = 'Jane'"
   ]
  },
  {
   "cell_type": "markdown",
   "metadata": {},
   "source": [
    "# Additional Content: nested dictionaries "
   ]
  },
  {
   "cell_type": "raw",
   "metadata": {
    "tags": []
   },
   "source": [
    "Not Included in Pre-Work Assessment\n",
    "\n",
    "The following content provides additional information on the topic but will not be covered in the pre-work assessment. It serves as supplementary material to enhance your understanding beyond the assessment requirements."
   ]
  },
  {
   "cell_type": "markdown",
   "metadata": {},
   "source": [
    "In Python, a nested dictionary is a dictionary where the values are themselves dictionaries. This can be useful when you need to organize data into multiple levels or categories. Here are some key points about nested dictionaries:\n",
    "\n",
    "- A nested dictionary can have multiple levels of nesting, with each level representing a specific category or subcategory.\n",
    "- You can access the values in a nested dictionary by specifying the keys at each level.\n",
    "- You can add, modify, or remove elements from a nested dictionary, just like with regular dictionaries.\n",
    "- Each level of a nested dictionary can have different keys and values, providing flexibility in structuring your data.\n"
   ]
  },
  {
   "cell_type": "code",
   "execution_count": null,
   "metadata": {},
   "outputs": [],
   "source": [
    "# Creating a nested dictionary\n",
    "student_data = {\n",
    "    'John': {\n",
    "        'age': 20,\n",
    "        'major': 'Computer Science',\n",
    "        'grades': [85, 90, 78]\n",
    "    },\n",
    "    'Jane': {\n",
    "        'age': 22,\n",
    "        'major': 'Biology',\n",
    "        'grades': [92, 88, 95]\n",
    "    }\n",
    "}"
   ]
  },
  {
   "cell_type": "code",
   "execution_count": null,
   "metadata": {},
   "outputs": [],
   "source": [
    "# Accessing values in a nested dictionary\n",
    "john_age = student_data['John']['age']\n",
    "jane_major = student_data['Jane']['major']\n",
    "john_grades = student_data['John']['grades']\n",
    "\n",
    "print(john_age)  # Output: 20\n",
    "print(jane_major)  # Output: Biology\n",
    "print(john_grades)  # Output: [85, 90, 78]"
   ]
  },
  {
   "cell_type": "code",
   "execution_count": null,
   "metadata": {},
   "outputs": [],
   "source": [
    "# Modifying values in a nested dictionary\n",
    "student_data['John']['major'] = 'Electrical Engineering'\n",
    "student_data['Jane']['grades'].append(97)"
   ]
  },
  {
   "cell_type": "code",
   "execution_count": null,
   "metadata": {},
   "outputs": [],
   "source": [
    "# Adding a new student to the nested dictionary\n",
    "student_data['Sarah'] = {\n",
    "    'age': 19,\n",
    "    'major': 'Physics',\n",
    "    'grades': [90, 91, 88]\n",
    "}"
   ]
  },
  {
   "cell_type": "code",
   "execution_count": null,
   "metadata": {},
   "outputs": [],
   "source": [
    "# Removing a student from the nested dictionary\n",
    "del student_data['John']\n",
    "\n",
    "print(student_data)"
   ]
  },
  {
   "cell_type": "code",
   "execution_count": null,
   "metadata": {},
   "outputs": [],
   "source": [
    "student_data.keys()"
   ]
  },
  {
   "cell_type": "code",
   "execution_count": null,
   "metadata": {},
   "outputs": [],
   "source": [
    "student_data.values()"
   ]
  },
  {
   "cell_type": "markdown",
   "metadata": {},
   "source": [
    "As you can see, the `keys` of a dictionary can be either:\n",
    "\n",
    "- strings \n",
    "- numbers\n",
    "\n",
    "In this above example, the dictionary `keys` which are strings. In this particular case, the `values` are also dictionaries."
   ]
  },
  {
   "cell_type": "code",
   "execution_count": null,
   "metadata": {},
   "outputs": [],
   "source": [
    "student_data[\"Jane\"].keys()"
   ]
  },
  {
   "cell_type": "code",
   "execution_count": null,
   "metadata": {},
   "outputs": [],
   "source": [
    "student_data[\"Jane\"].values()"
   ]
  },
  {
   "cell_type": "markdown",
   "metadata": {},
   "source": [
    "💡Check for understanding: how would you access the first grade of Jane?"
   ]
  },
  {
   "cell_type": "code",
   "execution_count": null,
   "metadata": {},
   "outputs": [],
   "source": [
    "# Try it yourself here"
   ]
  },
  {
   "cell_type": "markdown",
   "metadata": {},
   "source": [
    "We mentioned nested dictionaries (dictionaries inside dictionaries) but as you can see in the example, we can also have lists inside dictionaries. "
   ]
  },
  {
   "cell_type": "markdown",
   "metadata": {},
   "source": [
    "You can also have lists in which each element is a dictionary. Therefore the amount of possible combinations and levels of nesting is endless."
   ]
  },
  {
   "cell_type": "code",
   "execution_count": null,
   "metadata": {},
   "outputs": [],
   "source": [
    "my_data = [{'Mike': [25,23000],'Jane': [38, 40000],'Bill': [45,35000]},{'Developers': ['Mike','Bill']},{'HR': ['Jane']}]\n",
    "my_data"
   ]
  },
  {
   "cell_type": "markdown",
   "metadata": {},
   "source": [
    "This is an example of a nested list with three elements, and each element is a dictionary. When working with nested data structures like this, it is important to understand the type of variable you are dealing with.\n",
    "\n",
    "Let's check the type of the variable `my_data`:"
   ]
  },
  {
   "cell_type": "code",
   "execution_count": null,
   "metadata": {},
   "outputs": [],
   "source": [
    "type(my_data)"
   ]
  },
  {
   "cell_type": "markdown",
   "metadata": {},
   "source": [
    "Let's access the first element of the list. Since the variable is a **list**, we use **indexing**. Indexing allows us to retrieve specific elements from a list by their position. In this case, to access the first element, we use the index 0 since Python starts counting from 0."
   ]
  },
  {
   "cell_type": "code",
   "execution_count": null,
   "metadata": {},
   "outputs": [],
   "source": [
    "my_data[0]"
   ]
  },
  {
   "cell_type": "markdown",
   "metadata": {},
   "source": [
    "This element is a dictionary, which can be determined by its structure and the presence of key-value pairs. However, if you're unsure about the data type, you can use the `type()` function to confirm it."
   ]
  },
  {
   "cell_type": "code",
   "execution_count": null,
   "metadata": {},
   "outputs": [],
   "source": [
    "type(my_data[0])"
   ]
  },
  {
   "cell_type": "markdown",
   "metadata": {},
   "source": [
    "Now let's access the data of 'Jane'. Since this element is a **dictionary**, we need to access its values using the corresponding **keys**."
   ]
  },
  {
   "cell_type": "code",
   "execution_count": null,
   "metadata": {},
   "outputs": [],
   "source": [
    "my_data[0]['Jane']"
   ]
  },
  {
   "cell_type": "markdown",
   "metadata": {},
   "source": [
    "As we can see, we get another **list**. To access the last element of this list, we can use its **index**."
   ]
  },
  {
   "cell_type": "code",
   "execution_count": null,
   "metadata": {},
   "outputs": [],
   "source": [
    "type(my_data[0]['Jane']) # Let's make sure its a list"
   ]
  },
  {
   "cell_type": "code",
   "execution_count": null,
   "metadata": {},
   "outputs": [],
   "source": [
    "my_data[0]['Jane'][1]"
   ]
  }
 ],
 "metadata": {
  "kernelspec": {
   "display_name": "Python 3 (ipykernel)",
   "language": "python",
   "name": "python3"
  },
  "language_info": {
   "codemirror_mode": {
    "name": "ipython",
    "version": 3
   },
   "file_extension": ".py",
   "mimetype": "text/x-python",
   "name": "python",
   "nbconvert_exporter": "python",
   "pygments_lexer": "ipython3",
   "version": "3.11.7"
  }
 },
 "nbformat": 4,
 "nbformat_minor": 4
}
